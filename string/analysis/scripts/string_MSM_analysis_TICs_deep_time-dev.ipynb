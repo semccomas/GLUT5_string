{
 "cells": [
  {
   "cell_type": "markdown",
   "id": "32867ee4-ea45-4aa9-b192-176b0801c41c",
   "metadata": {
    "tags": []
   },
   "source": [
    "# String Method Analysis Markov-State-Models\n",
    "## Imports"
   ]
  },
  {
   "cell_type": "code",
   "execution_count": 1,
   "id": "75b1c221-b47d-4484-9125-6eac0a75a249",
   "metadata": {
    "tags": []
   },
   "outputs": [
    {
     "name": "stdout",
     "output_type": "stream",
     "text": [
      "2021-11-17 15:26:14 root-INFO: Setting up logging for gmxapi package.\n",
      "2021-11-17 15:26:14 gmxapi-INFO: Importing gmxapi.\n",
      "2021-11-17 15:26:14 gmxapi.operation-INFO: Importing gmxapi.operation\n",
      "2021-11-17 15:26:14 gmxapi.commandline-INFO: Importing gmxapi.commandline\n",
      "2021-11-17 15:26:14 gmxapi.simulation.workflow-INFO: Importing gmx.workflow\n",
      "2021-11-17 15:26:14 gmxapi.simulation.workflow-INFO: Using schema version gmxapi_workspec_0_1.\n",
      "2021-11-17 15:26:14 gmxapi.mdrun-INFO: Importing gmxapi.simulation.mdrun\n",
      "2021-11-17 15:26:14 gmxapi.read_tpr-INFO: Importing gmxapi.simulation.read_tpr\n",
      "2021-11-17 15:26:14 gmxapi.modify_input-INFO: Importing gmxapi.simulation.modify_input\n",
      "2021-11-17 15:26:14 stringmethod-0-INFO: Using 1 MPI ranks \n"
     ]
    }
   ],
   "source": [
    "import os\n",
    "import pickle\n",
    "import sys\n",
    "import logging\n",
    "import numpy as np\n",
    "import matplotlib.pyplot as plt\n",
    "\n",
    "\n",
    "logging.getLogger(\"stringmethod\").setLevel(logging.ERROR)\n",
    "sys.path.append(\"../../string-method-gmxapi/\")\n",
    "import string_tica_msm as my_msm"
   ]
  },
  {
   "cell_type": "code",
   "execution_count": 2,
   "id": "49a829a2-f0ff-42c3-a3be-ec5f9923d705",
   "metadata": {},
   "outputs": [],
   "source": [
    "#%load_ext lab_black\n",
    "#%load_ext autoreload\n",
    "#%autoreload 2"
   ]
  },
  {
   "cell_type": "markdown",
   "id": "6d7af371-cecb-41f7-b46d-77e31ddb70cc",
   "metadata": {
    "tags": []
   },
   "source": [
    "## Load data"
   ]
  },
  {
   "cell_type": "markdown",
   "id": "0249545e-242c-4b87-b632-6268e4fe55aa",
   "metadata": {},
   "source": [
    "This notebook needs to run in the string simulation folder, this cell will get you there. You also set up a path for writing the figures."
   ]
  },
  {
   "cell_type": "code",
   "execution_count": 3,
   "id": "ce510b6f-1e1c-416f-b30b-6bbda63671a9",
   "metadata": {},
   "outputs": [
    {
     "data": {
      "text/plain": [
       "'/data2/GLUT5_string/string/string_sims/TMD_initial_path/influx_apo_gate_CV'"
      ]
     },
     "execution_count": 3,
     "metadata": {},
     "output_type": "execute_result"
    }
   ],
   "source": [
    "name_sim = \"influx_apo_gate_CV\"\n",
    "simulation_directory = f\"/data2/GLUT5_string/string/string_sims/TMD_initial_path/{name_sim}\"\n",
    "path_report = f\"/data2/GLUT5_string/string/analysis/images_figs/MSM_FES/IC_EC_MSM/{name_sim}\"\n",
    "os.chdir(simulation_directory)\n",
    "os.getcwd()"
   ]
  },
  {
   "cell_type": "code",
   "execution_count": 4,
   "id": "61fb2261-372f-460c-a3db-c958e6114a61",
   "metadata": {},
   "outputs": [],
   "source": [
    "with open(\"cv.pkl\", \"rb\") as file:\n",
    "    cvs, ndx_groups = pickle.load(file)"
   ]
  },
  {
   "cell_type": "markdown",
   "id": "9fadba22-5407-4d9c-a90c-b3ed0888f37b",
   "metadata": {},
   "source": [
    "The `load_swarm_data` function will load the swarm data in the `cv_coordinates`. If you set `extract=True` it will read the data from the swarm files. If you have done this previously you can set `extract=False` so the function just reads `postprocessing/cv_coordinates.npy`. `first_iteration` can be used to exclude initial swarms as equilibration and `last_iteration` can be done to exclude some iterations for example if you want to estimate the FES convergence by comparing blocks of data."
   ]
  },
  {
   "cell_type": "code",
   "execution_count": 5,
   "id": "73ddb40f-95ec-41d2-a7ec-5df6906f1e21",
   "metadata": {
    "tags": []
   },
   "outputs": [
    {
     "name": "stdout",
     "output_type": "stream",
     "text": [
      "2021-11-17 15:26:26 stringmethod-0-INFO: Remember to remove unfinished strings\n"
     ]
    }
   ],
   "source": [
    "first_iteration = 100\n",
    "last_iteration = 745\n",
    "\n",
    "cv_coordinates = my_msm.load_swarm_data(\n",
    "    extract=True, first_iteration=first_iteration, last_iteration=last_iteration\n",
    ")"
   ]
  },
  {
   "cell_type": "code",
   "execution_count": 6,
   "id": "derived-christmas",
   "metadata": {},
   "outputs": [
    {
     "data": {
      "text/plain": [
       "(289408, 2, 2)"
      ]
     },
     "execution_count": 6,
     "metadata": {},
     "output_type": "execute_result"
    }
   ],
   "source": [
    "np.shape(cv_coordinates)"
   ]
  },
  {
   "cell_type": "code",
   "execution_count": 7,
   "id": "massive-debate",
   "metadata": {},
   "outputs": [],
   "source": [
    "cv_coordinates_backup = cv_coordinates\n",
    "split_by_bead = False"
   ]
  },
  {
   "cell_type": "markdown",
   "id": "difficult-scotland",
   "metadata": {},
   "source": [
    "## Parse data, if need be:\n",
    "### ONLY RUN THIS SECTION IF YOU WANT TO CLIP YOUR CV COORDINATES BY BEAD GROUPS!!! Otherwise, skip to [section below](#dim)\n",
    "\n",
    "*** \n",
    "\n",
    "##### If you want to re-run this on other CVs without having to load `cv_coordinates` all again, you can copy from the backup, in the line above"
   ]
  },
  {
   "cell_type": "code",
   "execution_count": 83,
   "id": "optical-scholar",
   "metadata": {},
   "outputs": [],
   "source": [
    "## for re-running:\n",
    "\n",
    "cv_coordinates = cv_coordinates_backup"
   ]
  },
  {
   "cell_type": "markdown",
   "id": "measured-alarm",
   "metadata": {},
   "source": [
    "This is for splitting up cv_coordinates into the appropriate beads for the TICA and MSM, so we can compare to Darko's CVs"
   ]
  },
  {
   "cell_type": "markdown",
   "id": "bacterial-johnston",
   "metadata": {},
   "source": [
    "**The shape of these CVs must be**: `(n_iterations*n_beads*n_swarms_per_iter, n_frames_per_iter, n_cvs)`"
   ]
  },
  {
   "cell_type": "markdown",
   "id": "celtic-hollywood",
   "metadata": {},
   "source": [
    "You can choose the following bead sets. There are 14 beads being calculated in this FES.\n",
    "\n",
    "\n",
    "- There are 16 beads overall, and bead 0 (string #-ing) is outward open, but this is not included in the calculation. Therefore, **bead 0** (python #'s) is **bead 1** from strings.\n",
    "- Numbering below is based on **python indices**\n",
    "        - Out open - Out Occ: bead 0 - bead 2 (inclusive)\n",
    "        - Out Occ - Occ - In Occ: bead 2 - (6 = occ) - 10 (inclusive)\n",
    "        - In Occ - In Open: bead 10 - 13 (inclusive)"
   ]
  },
  {
   "cell_type": "code",
   "execution_count": 59,
   "id": "exclusive-camera",
   "metadata": {},
   "outputs": [],
   "source": [
    "bead_groups = {'OutOpen-OutOcc':(0,2), 'OutOcc-InOcc':(2,10), 'InOcc-InOpen':(6,13)} #10,13 before\n",
    "#cv_group = 'OutOpen-OutOcc'\n",
    "#cv_group = 'OutOcc-InOcc'\n",
    "cv_group = \"InOcc-InOpen\"\n",
    "n_swarms = 32\n",
    "split_by_bead = True"
   ]
  },
  {
   "cell_type": "markdown",
   "id": "three-aluminum",
   "metadata": {},
   "source": [
    "Need beginning index to know which part to take from each iteration. For outward open to occluded this would be bead 0, so you start at place 0 for each iteration. \n",
    "\n",
    "`n_iterations_to_parse` is always `last_iteration` + 1 because this is inclusive. Sergio's calc will be the same way\n",
    "\n",
    "For Out Occ, this would be bead 2, so you start at place 2 * 32"
   ]
  },
  {
   "cell_type": "code",
   "execution_count": 60,
   "id": "boxed-bottle",
   "metadata": {},
   "outputs": [],
   "source": [
    "bead_index_start = n_swarms * bead_groups[cv_group][0]  # will be 0 for out open\n",
    "num_beads = (bead_groups[cv_group][1] + 1) - bead_groups[cv_group][0]\n",
    "bead_index_end = (n_swarms * num_beads) + bead_index_start\n",
    "\n",
    "n_iterations_to_parse = (last_iteration + 1) - first_iteration"
   ]
  },
  {
   "cell_type": "code",
   "execution_count": 61,
   "id": "sunrise-hunter",
   "metadata": {},
   "outputs": [],
   "source": [
    "def split_coords_by_beads(cv_coordinates):\n",
    "    coords_split_by_iteration = np.vsplit(cv_coordinates, n_iterations_to_parse)\n",
    "\n",
    "    cv_coordinates_relevant_beads_only = []\n",
    "\n",
    "    for iteration in coords_split_by_iteration:\n",
    "        cv_coordinates_relevant_beads_only.append(iteration[bead_index_start:bead_index_end])\n",
    "\n",
    "    cv_coordinates_relevant_beads_only = np.array(cv_coordinates_relevant_beads_only)\n",
    "    cv_coordinates_relevant_beads_only = np.vstack(cv_coordinates_relevant_beads_only) #transform back to OG shape\n",
    "\n",
    "\n",
    "    #sanity check\n",
    "    if int(np.shape(cv_coordinates)[0] / 14 * num_beads) != np.shape(cv_coordinates_relevant_beads_only)[0]:\n",
    "        print(\"WARNING!!!! NOT SAME SHAPE FOR CVS AS EXPECTED\")\n",
    "    \n",
    "    return(cv_coordinates_relevant_beads_only)"
   ]
  },
  {
   "cell_type": "code",
   "execution_count": 62,
   "id": "searching-proposal",
   "metadata": {},
   "outputs": [],
   "source": [
    "cv_coordinates = split_coords_by_beads(cv_coordinates)"
   ]
  },
  {
   "cell_type": "markdown",
   "id": "registered-dublin",
   "metadata": {},
   "source": [
    " "
   ]
  },
  {
   "cell_type": "markdown",
   "id": "sharing-likelihood",
   "metadata": {},
   "source": [
    " "
   ]
  },
  {
   "cell_type": "markdown",
   "id": "thorough-venture",
   "metadata": {},
   "source": [
    " <a id='dim'></a>\n"
   ]
  },
  {
   "cell_type": "markdown",
   "id": "smooth-complexity",
   "metadata": {},
   "source": [
    " "
   ]
  },
  {
   "cell_type": "markdown",
   "id": "afec4c2e-b848-407d-a946-79850a81368f",
   "metadata": {},
   "source": [
    "## Dimensionality reduction with TICA\n"
   ]
  },
  {
   "cell_type": "markdown",
   "id": "ba17c84c-4f42-4e4f-a944-4ad1b6226251",
   "metadata": {},
   "source": [
    "The following cell computes the tica projection of the string cvs and discards the tics that have the lowest kinetic variance. This reduces the cvs space to a lower dimensional space that is adapted to the kinetic variance. You can use the drop keyword to drop certain cvs that are not well converged in the string simulation or that change very little from the beggining to the end of the string. The best case scenario is that `drop=[]` just works."
   ]
  },
  {
   "cell_type": "code",
   "execution_count": 8,
   "id": "04164fe3-93ab-4228-a4c4-467efe9ecbdf",
   "metadata": {},
   "outputs": [],
   "source": [
    "tica = my_msm.cvs_to_tica(cv_coordinates, drop=[])#20, 21, 22, 23, 32, 33, 34, 35])"
   ]
  },
  {
   "cell_type": "code",
   "execution_count": 9,
   "id": "piano-saturn",
   "metadata": {},
   "outputs": [
    {
     "data": {
      "text/plain": [
       "<matplotlib.collections.PathCollection at 0x7f4110e864f0>"
      ]
     },
     "execution_count": 9,
     "metadata": {},
     "output_type": "execute_result"
    },
    {
     "name": "stdout",
     "output_type": "stream",
     "text": [
      "2021-11-17 15:42:35 matplotlib.font_manager-DEBUG: findfont: Matching sans\\-serif:style=normal:variant=normal:weight=normal:stretch=normal:size=10.0.\n",
      "2021-11-17 15:42:35 matplotlib.font_manager-DEBUG: findfont: score(<Font 'STIXSizeFourSym' (STIXSizFourSymReg.ttf) normal normal 400 normal>) = 10.05\n",
      "2021-11-17 15:42:35 matplotlib.font_manager-DEBUG: findfont: score(<Font 'STIXSizeFiveSym' (STIXSizFiveSymReg.ttf) normal normal 400 normal>) = 10.05\n",
      "2021-11-17 15:42:35 matplotlib.font_manager-DEBUG: findfont: score(<Font 'STIXSizeTwoSym' (STIXSizTwoSymBol.ttf) normal normal 700 normal>) = 10.335\n",
      "2021-11-17 15:42:35 matplotlib.font_manager-DEBUG: findfont: score(<Font 'DejaVu Sans' (DejaVuSans-Oblique.ttf) oblique normal 400 normal>) = 1.05\n",
      "2021-11-17 15:42:35 matplotlib.font_manager-DEBUG: findfont: score(<Font 'cmss10' (cmss10.ttf) normal normal 400 normal>) = 10.05\n",
      "2021-11-17 15:42:35 matplotlib.font_manager-DEBUG: findfont: score(<Font 'cmsy10' (cmsy10.ttf) normal normal 400 normal>) = 10.05\n",
      "2021-11-17 15:42:35 matplotlib.font_manager-DEBUG: findfont: score(<Font 'STIXSizeFourSym' (STIXSizFourSymBol.ttf) normal normal 700 normal>) = 10.335\n",
      "2021-11-17 15:42:35 matplotlib.font_manager-DEBUG: findfont: score(<Font 'DejaVu Serif' (DejaVuSerif-Bold.ttf) normal normal 700 normal>) = 10.335\n",
      "2021-11-17 15:42:35 matplotlib.font_manager-DEBUG: findfont: score(<Font 'DejaVu Sans Mono' (DejaVuSansMono-Oblique.ttf) oblique normal 400 normal>) = 11.05\n",
      "2021-11-17 15:42:35 matplotlib.font_manager-DEBUG: findfont: score(<Font 'cmb10' (cmb10.ttf) normal normal 400 normal>) = 10.05\n",
      "2021-11-17 15:42:35 matplotlib.font_manager-DEBUG: findfont: score(<Font 'STIXNonUnicode' (STIXNonUniBol.ttf) normal normal 700 normal>) = 10.335\n",
      "2021-11-17 15:42:35 matplotlib.font_manager-DEBUG: findfont: score(<Font 'DejaVu Sans' (DejaVuSans-BoldOblique.ttf) oblique normal 700 normal>) = 1.335\n",
      "2021-11-17 15:42:35 matplotlib.font_manager-DEBUG: findfont: score(<Font 'DejaVu Sans' (DejaVuSans.ttf) normal normal 400 normal>) = 0.05\n",
      "2021-11-17 15:42:35 matplotlib.font_manager-DEBUG: findfont: score(<Font 'STIXGeneral' (STIXGeneral.ttf) normal normal 400 normal>) = 10.05\n",
      "2021-11-17 15:42:35 matplotlib.font_manager-DEBUG: findfont: score(<Font 'cmtt10' (cmtt10.ttf) normal normal 400 normal>) = 10.05\n",
      "2021-11-17 15:42:35 matplotlib.font_manager-DEBUG: findfont: score(<Font 'DejaVu Sans' (DejaVuSans-Bold.ttf) normal normal 700 normal>) = 0.33499999999999996\n",
      "2021-11-17 15:42:35 matplotlib.font_manager-DEBUG: findfont: score(<Font 'DejaVu Serif' (DejaVuSerif-BoldItalic.ttf) italic normal 700 normal>) = 11.335\n",
      "2021-11-17 15:42:35 matplotlib.font_manager-DEBUG: findfont: score(<Font 'cmmi10' (cmmi10.ttf) normal normal 400 normal>) = 10.05\n",
      "2021-11-17 15:42:35 matplotlib.font_manager-DEBUG: findfont: score(<Font 'STIXSizeTwoSym' (STIXSizTwoSymReg.ttf) normal normal 400 normal>) = 10.05\n",
      "2021-11-17 15:42:35 matplotlib.font_manager-DEBUG: findfont: score(<Font 'DejaVu Serif' (DejaVuSerif.ttf) normal normal 400 normal>) = 10.05\n",
      "2021-11-17 15:42:35 matplotlib.font_manager-DEBUG: findfont: score(<Font 'STIXGeneral' (STIXGeneralBol.ttf) normal normal 700 normal>) = 10.335\n",
      "2021-11-17 15:42:35 matplotlib.font_manager-DEBUG: findfont: score(<Font 'DejaVu Serif' (DejaVuSerif-Italic.ttf) italic normal 400 normal>) = 11.05\n",
      "2021-11-17 15:42:35 matplotlib.font_manager-DEBUG: findfont: score(<Font 'STIXSizeThreeSym' (STIXSizThreeSymBol.ttf) normal normal 700 normal>) = 10.335\n",
      "2021-11-17 15:42:35 matplotlib.font_manager-DEBUG: findfont: score(<Font 'STIXNonUnicode' (STIXNonUniBolIta.ttf) italic normal 700 normal>) = 11.335\n",
      "2021-11-17 15:42:35 matplotlib.font_manager-DEBUG: findfont: score(<Font 'DejaVu Serif Display' (DejaVuSerifDisplay.ttf) normal normal 400 normal>) = 10.05\n",
      "2021-11-17 15:42:35 matplotlib.font_manager-DEBUG: findfont: score(<Font 'STIXGeneral' (STIXGeneralItalic.ttf) italic normal 400 normal>) = 11.05\n",
      "2021-11-17 15:42:35 matplotlib.font_manager-DEBUG: findfont: score(<Font 'STIXSizeOneSym' (STIXSizOneSymReg.ttf) normal normal 400 normal>) = 10.05\n",
      "2021-11-17 15:42:35 matplotlib.font_manager-DEBUG: findfont: score(<Font 'STIXNonUnicode' (STIXNonUniIta.ttf) italic normal 400 normal>) = 11.05\n",
      "2021-11-17 15:42:35 matplotlib.font_manager-DEBUG: findfont: score(<Font 'DejaVu Sans Mono' (DejaVuSansMono-BoldOblique.ttf) oblique normal 700 normal>) = 11.335\n",
      "2021-11-17 15:42:35 matplotlib.font_manager-DEBUG: findfont: score(<Font 'STIXSizeThreeSym' (STIXSizThreeSymReg.ttf) normal normal 400 normal>) = 10.05\n",
      "2021-11-17 15:42:35 matplotlib.font_manager-DEBUG: findfont: score(<Font 'DejaVu Sans Display' (DejaVuSansDisplay.ttf) normal normal 400 normal>) = 10.05\n",
      "2021-11-17 15:42:35 matplotlib.font_manager-DEBUG: findfont: score(<Font 'DejaVu Sans Mono' (DejaVuSansMono-Bold.ttf) normal normal 700 normal>) = 10.335\n",
      "2021-11-17 15:42:35 matplotlib.font_manager-DEBUG: findfont: score(<Font 'STIXGeneral' (STIXGeneralBolIta.ttf) italic normal 700 normal>) = 11.335\n",
      "2021-11-17 15:42:35 matplotlib.font_manager-DEBUG: findfont: score(<Font 'STIXNonUnicode' (STIXNonUni.ttf) normal normal 400 normal>) = 10.05\n",
      "2021-11-17 15:42:35 matplotlib.font_manager-DEBUG: findfont: score(<Font 'cmr10' (cmr10.ttf) normal normal 400 normal>) = 10.05\n",
      "2021-11-17 15:42:35 matplotlib.font_manager-DEBUG: findfont: score(<Font 'cmex10' (cmex10.ttf) normal normal 400 normal>) = 10.05\n",
      "2021-11-17 15:42:35 matplotlib.font_manager-DEBUG: findfont: score(<Font 'STIXSizeOneSym' (STIXSizOneSymBol.ttf) normal normal 700 normal>) = 10.335\n",
      "2021-11-17 15:42:35 matplotlib.font_manager-DEBUG: findfont: score(<Font 'DejaVu Sans Mono' (DejaVuSansMono.ttf) normal normal 400 normal>) = 10.05\n",
      "2021-11-17 15:42:35 matplotlib.font_manager-DEBUG: findfont: score(<Font 'STIXGeneral' (STIXGeneral-Regular.otf) normal normal 400 normal>) = 10.05\n",
      "2021-11-17 15:42:35 matplotlib.font_manager-DEBUG: findfont: score(<Font 'STIXIntegralsUpD' (STIXIntegralsUpD-Bold.otf) normal normal 700 normal>) = 10.335\n",
      "2021-11-17 15:42:35 matplotlib.font_manager-DEBUG: findfont: score(<Font 'Khmer OS System' (KhmerOSsys.ttf) normal normal 400 normal>) = 10.05\n",
      "2021-11-17 15:42:35 matplotlib.font_manager-DEBUG: findfont: score(<Font 'FreeSans' (FreeSansOblique.ttf) oblique normal 400 normal>) = 11.05\n",
      "2021-11-17 15:42:35 matplotlib.font_manager-DEBUG: findfont: score(<Font 'Noto Sans CJK JP' (NotoSansCJK-Thin.ttc) normal normal 250 normal>) = 10.1925\n",
      "2021-11-17 15:42:35 matplotlib.font_manager-DEBUG: findfont: score(<Font 'Sawasdee' (Sawasdee-Oblique.ttf) oblique normal 400 normal>) = 11.05\n",
      "2021-11-17 15:42:35 matplotlib.font_manager-DEBUG: findfont: score(<Font 'Tlwg Typist' (TlwgTypist.ttf) normal normal 500 normal>) = 10.145\n",
      "2021-11-17 15:42:35 matplotlib.font_manager-DEBUG: findfont: score(<Font 'Purisa' (Purisa-Bold.ttf) normal normal 700 normal>) = 10.335\n",
      "2021-11-17 15:42:35 matplotlib.font_manager-DEBUG: findfont: score(<Font 'Saab' (Saab.ttf) normal normal 400 normal>) = 10.05\n",
      "2021-11-17 15:42:35 matplotlib.font_manager-DEBUG: findfont: score(<Font 'KacstQurn' (KacstQurn.ttf) normal normal 400 normal>) = 10.05\n",
      "2021-11-17 15:42:35 matplotlib.font_manager-DEBUG: findfont: score(<Font 'STIX Math' (STIXMath-Regular.otf) normal normal 400 normal>) = 10.05\n",
      "2021-11-17 15:42:35 matplotlib.font_manager-DEBUG: findfont: score(<Font 'FreeSerif' (FreeSerifBoldItalic.ttf) italic normal 700 normal>) = 11.335\n",
      "2021-11-17 15:42:35 matplotlib.font_manager-DEBUG: findfont: score(<Font 'FreeSans' (FreeSansBold.ttf) normal normal 600 normal>) = 10.24\n",
      "2021-11-17 15:42:35 matplotlib.font_manager-DEBUG: findfont: score(<Font 'Noto Sans CJK JP' (NotoSansCJK-Regular.ttc) normal normal 400 normal>) = 10.05\n",
      "2021-11-17 15:42:35 matplotlib.font_manager-DEBUG: findfont: score(<Font 'Liberation Mono' (LiberationMono-Italic.ttf) italic normal 400 normal>) = 11.05\n",
      "2021-11-17 15:42:35 matplotlib.font_manager-DEBUG: findfont: score(<Font 'KacstTitleL' (KacstTitleL.ttf) normal normal 400 normal>) = 10.05\n",
      "2021-11-17 15:42:35 matplotlib.font_manager-DEBUG: findfont: score(<Font 'Noto Sans CJK JP' (NotoSansCJK-Medium.ttc) normal normal 500 normal>) = 10.145\n",
      "2021-11-17 15:42:35 matplotlib.font_manager-DEBUG: findfont: score(<Font 'Lato' (Lato-ThinItalic.ttf) italic normal 200 normal>) = 11.24\n"
     ]
    },
    {
     "name": "stdout",
     "output_type": "stream",
     "text": [
      "2021-11-17 15:42:35 matplotlib.font_manager-DEBUG: findfont: score(<Font 'STIXVariants' (STIXVariants-Regular.otf) normal normal 400 normal>) = 10.05\n",
      "2021-11-17 15:42:35 matplotlib.font_manager-DEBUG: findfont: score(<Font 'Umpush' (Umpush-Bold.ttf) normal normal 700 normal>) = 10.335\n",
      "2021-11-17 15:42:35 matplotlib.font_manager-DEBUG: findfont: score(<Font 'Norasi' (Norasi-Bold.ttf) normal normal 700 normal>) = 10.335\n",
      "2021-11-17 15:42:35 matplotlib.font_manager-DEBUG: findfont: score(<Font 'Liberation Mono' (LiberationMono-Regular.ttf) normal normal 400 normal>) = 10.05\n",
      "2021-11-17 15:42:35 matplotlib.font_manager-DEBUG: findfont: score(<Font 'Umpush' (Umpush-Light.ttf) normal normal 300 normal>) = 10.145\n",
      "2021-11-17 15:42:35 matplotlib.font_manager-DEBUG: findfont: score(<Font 'Lato' (Lato-Regular.ttf) normal normal 400 normal>) = 10.05\n",
      "2021-11-17 15:42:35 matplotlib.font_manager-DEBUG: findfont: score(<Font 'Tlwg Typewriter' (TlwgTypewriter.ttf) normal normal 500 normal>) = 10.145\n",
      "2021-11-17 15:42:35 matplotlib.font_manager-DEBUG: findfont: score(<Font 'Tlwg Typo' (TlwgTypo-Bold.ttf) normal normal 700 normal>) = 10.335\n",
      "2021-11-17 15:42:35 matplotlib.font_manager-DEBUG: findfont: score(<Font 'Symbola' (Symbola_hint.ttf) normal normal 400 normal>) = 10.05\n",
      "2021-11-17 15:42:35 matplotlib.font_manager-DEBUG: findfont: score(<Font 'Lato' (Lato-Semibold.ttf) normal normal 600 normal>) = 10.24\n",
      "2021-11-17 15:42:35 matplotlib.font_manager-DEBUG: findfont: score(<Font 'DejaVu Sans Mono' (DejaVuSansMono-Oblique.ttf) oblique normal 400 normal>) = 11.05\n",
      "2021-11-17 15:42:35 matplotlib.font_manager-DEBUG: findfont: score(<Font 'Garuda' (Garuda.ttf) normal normal 400 normal>) = 10.05\n",
      "2021-11-17 15:42:35 matplotlib.font_manager-DEBUG: findfont: score(<Font 'FreeMono' (FreeMonoBoldOblique.ttf) oblique normal 700 normal>) = 11.335\n",
      "2021-11-17 15:42:35 matplotlib.font_manager-DEBUG: findfont: score(<Font 'Liberation Sans' (LiberationSans-Bold.ttf) normal normal 700 normal>) = 10.335\n",
      "2021-11-17 15:42:35 matplotlib.font_manager-DEBUG: findfont: score(<Font 'Sawasdee' (Sawasdee-Bold.ttf) normal normal 700 normal>) = 10.335\n",
      "2021-11-17 15:42:35 matplotlib.font_manager-DEBUG: findfont: score(<Font 'STIXNonUnicode' (STIXNonUnicode-Bold.otf) normal normal 700 normal>) = 10.335\n",
      "2021-11-17 15:42:35 matplotlib.font_manager-DEBUG: findfont: score(<Font 'Laksaman' (Laksaman.ttf) normal normal 400 normal>) = 10.05\n",
      "2021-11-17 15:42:35 matplotlib.font_manager-DEBUG: findfont: score(<Font 'Umpush' (Umpush-LightOblique.ttf) oblique normal 300 normal>) = 11.145\n",
      "2021-11-17 15:42:35 matplotlib.font_manager-DEBUG: findfont: score(<Font 'STIXIntegralsUp' (STIXIntegralsUp-Regular.otf) normal normal 400 normal>) = 10.05\n",
      "2021-11-17 15:42:35 matplotlib.font_manager-DEBUG: findfont: score(<Font 'KacstPoster' (KacstPoster.ttf) normal normal 500 normal>) = 10.145\n",
      "2021-11-17 15:42:35 matplotlib.font_manager-DEBUG: findfont: score(<Font 'DejaVu Sans' (DejaVuSans-BoldOblique.ttf) oblique normal 700 normal>) = 1.335\n",
      "2021-11-17 15:42:35 matplotlib.font_manager-DEBUG: findfont: score(<Font 'Garuda' (Garuda-BoldOblique.ttf) oblique normal 700 normal>) = 11.335\n",
      "2021-11-17 15:42:35 matplotlib.font_manager-DEBUG: findfont: score(<Font 'NanumGothic' (NanumGothic.ttf) normal normal 400 normal>) = 10.05\n",
      "2021-11-17 15:42:35 matplotlib.font_manager-DEBUG: findfont: score(<Font 'Ubuntu' (Ubuntu-L.ttf) normal normal 300 normal>) = 10.145\n",
      "2021-11-17 15:42:35 matplotlib.font_manager-DEBUG: findfont: score(<Font 'Tlwg Mono' (TlwgMono-Bold.ttf) normal normal 700 normal>) = 10.335\n",
      "2021-11-17 15:42:35 matplotlib.font_manager-DEBUG: findfont: score(<Font 'Lato' (Lato-BoldItalic.ttf) italic normal 700 normal>) = 11.335\n",
      "2021-11-17 15:42:35 matplotlib.font_manager-DEBUG: findfont: score(<Font 'Lohit Punjabi' (Lohit-Punjabi.ttf) normal normal 400 normal>) = 10.05\n",
      "2021-11-17 15:42:35 matplotlib.font_manager-DEBUG: findfont: score(<Font 'Norasi' (Norasi.ttf) normal normal 400 normal>) = 10.05\n",
      "2021-11-17 15:42:35 matplotlib.font_manager-DEBUG: findfont: score(<Font 'STIXNonUnicode' (STIXNonUnicode-BoldItalic.otf) italic normal 700 normal>) = 11.335\n",
      "2021-11-17 15:42:35 matplotlib.font_manager-DEBUG: findfont: score(<Font 'Liberation Serif' (LiberationSerif-Bold.ttf) normal normal 700 normal>) = 10.335\n",
      "2021-11-17 15:42:35 matplotlib.font_manager-DEBUG: findfont: score(<Font 'Padauk' (Padauk.ttf) normal normal 400 normal>) = 10.05\n",
      "2021-11-17 15:42:35 matplotlib.font_manager-DEBUG: findfont: score(<Font 'STIXSizeTwoSym' (STIXSizeTwoSym-Regular.otf) normal normal 400 normal>) = 10.05\n",
      "2021-11-17 15:42:35 matplotlib.font_manager-DEBUG: findfont: score(<Font 'Noto Sans CJK JP' (NotoSansCJK-Bold.ttc) normal normal 700 normal>) = 10.335\n",
      "2021-11-17 15:42:35 matplotlib.font_manager-DEBUG: findfont: score(<Font 'Ubuntu' (Ubuntu-MI.ttf) italic normal 500 normal>) = 11.145\n",
      "2021-11-17 15:42:35 matplotlib.font_manager-DEBUG: findfont: score(<Font 'Purisa' (Purisa-BoldOblique.ttf) oblique normal 700 normal>) = 11.335\n",
      "2021-11-17 15:42:35 matplotlib.font_manager-DEBUG: findfont: score(<Font 'KacstPen' (KacstPen.ttf) normal normal 500 normal>) = 10.145\n",
      "2021-11-17 15:42:35 matplotlib.font_manager-DEBUG: findfont: score(<Font 'TakaoPGothic' (fonts-japanese-gothic.ttf) normal normal 400 normal>) = 10.05\n",
      "2021-11-17 15:42:35 matplotlib.font_manager-DEBUG: findfont: score(<Font 'Norasi' (Norasi-BoldOblique.ttf) oblique normal 700 normal>) = 11.335\n",
      "2021-11-17 15:42:35 matplotlib.font_manager-DEBUG: findfont: score(<Font 'DejaVu Serif' (DejaVuSerif-Bold.ttf) normal normal 700 normal>) = 10.335\n",
      "2021-11-17 15:42:35 matplotlib.font_manager-DEBUG: findfont: score(<Font 'mry_KacstQurn' (mry_KacstQurn.ttf) normal normal 400 normal>) = 10.05\n",
      "2021-11-17 15:42:35 matplotlib.font_manager-DEBUG: findfont: score(<Font 'Kinnari' (Kinnari-Oblique.ttf) oblique normal 500 normal>) = 11.145\n",
      "2021-11-17 15:42:35 matplotlib.font_manager-DEBUG: findfont: score(<Font 'KacstNaskh' (KacstNaskh.ttf) normal normal 500 normal>) = 10.145\n",
      "2021-11-17 15:42:35 matplotlib.font_manager-DEBUG: findfont: score(<Font 'Noto Sans CJK JP' (NotoSansCJK-DemiLight.ttc) normal normal 350 normal>) = 10.0975\n",
      "2021-11-17 15:42:35 matplotlib.font_manager-DEBUG: findfont: score(<Font 'STIXGeneral' (STIXGeneral-BoldItalic.otf) italic normal 700 normal>) = 11.335\n",
      "2021-11-17 15:42:35 matplotlib.font_manager-DEBUG: findfont: score(<Font 'Loma' (Loma-BoldOblique.ttf) oblique normal 700 normal>) = 11.335\n",
      "2021-11-17 15:42:35 matplotlib.font_manager-DEBUG: findfont: score(<Font 'LKLUG' (lklug.ttf) normal normal 400 normal>) = 10.05\n",
      "2021-11-17 15:42:35 matplotlib.font_manager-DEBUG: findfont: score(<Font 'DejaVu Serif' (DejaVuSerifCondensed.ttf) normal normal 400 condensed>) = 10.25\n",
      "2021-11-17 15:42:35 matplotlib.font_manager-DEBUG: findfont: score(<Font 'Tlwg Typo' (TlwgTypo-Oblique.ttf) oblique normal 500 normal>) = 11.145\n",
      "2021-11-17 15:42:35 matplotlib.font_manager-DEBUG: findfont: score(<Font 'STIXSizeFourSym' (STIXSizeFourSym-Regular.otf) normal normal 400 normal>) = 10.05\n",
      "2021-11-17 15:42:35 matplotlib.font_manager-DEBUG: findfont: score(<Font 'Ubuntu Mono' (UbuntuMono-RI.ttf) italic normal 400 normal>) = 11.05\n",
      "2021-11-17 15:42:35 matplotlib.font_manager-DEBUG: findfont: score(<Font 'Tlwg Mono' (TlwgMono-Oblique.ttf) oblique normal 400 normal>) = 11.05\n",
      "2021-11-17 15:42:35 matplotlib.font_manager-DEBUG: findfont: score(<Font 'Lato' (Lato-Italic.ttf) italic normal 400 normal>) = 11.05\n",
      "2021-11-17 15:42:35 matplotlib.font_manager-DEBUG: findfont: score(<Font 'Abyssinica SIL' (AbyssinicaSIL-R.ttf) normal normal 400 normal>) = 10.05\n",
      "2021-11-17 15:42:35 matplotlib.font_manager-DEBUG: findfont: score(<Font 'DejaVu Serif' (DejaVuSerif.ttf) normal normal 400 normal>) = 10.05\n",
      "2021-11-17 15:42:35 matplotlib.font_manager-DEBUG: findfont: score(<Font 'Norasi' (Norasi-Oblique.ttf) oblique normal 400 normal>) = 11.05\n",
      "2021-11-17 15:42:35 matplotlib.font_manager-DEBUG: findfont: score(<Font 'STIXIntegralsD' (STIXIntegralsD-Bold.otf) normal normal 700 normal>) = 10.335\n",
      "2021-11-17 15:42:35 matplotlib.font_manager-DEBUG: findfont: score(<Font 'Liberation Mono' (LiberationMono-BoldItalic.ttf) italic normal 700 normal>) = 11.335\n"
     ]
    },
    {
     "name": "stdout",
     "output_type": "stream",
     "text": [
      "2021-11-17 15:42:35 matplotlib.font_manager-DEBUG: findfont: score(<Font 'FreeSans' (FreeSans.ttf) normal normal 400 normal>) = 10.05\n",
      "2021-11-17 15:42:35 matplotlib.font_manager-DEBUG: findfont: score(<Font 'KacstDecorative' (KacstDecorative.ttf) normal normal 500 normal>) = 10.145\n",
      "2021-11-17 15:42:35 matplotlib.font_manager-DEBUG: findfont: score(<Font 'Liberation Sans Narrow' (LiberationSansNarrow-Italic.ttf) italic normal 400 condensed>) = 11.25\n",
      "2021-11-17 15:42:35 matplotlib.font_manager-DEBUG: findfont: score(<Font 'STIX' (STIX-Regular.otf) normal normal 400 normal>) = 10.05\n",
      "2021-11-17 15:42:35 matplotlib.font_manager-DEBUG: findfont: score(<Font 'Tlwg Typist' (TlwgTypist-BoldOblique.ttf) oblique normal 700 normal>) = 11.335\n",
      "2021-11-17 15:42:35 matplotlib.font_manager-DEBUG: findfont: score(<Font 'STIXIntegralsUpSm' (STIXIntegralsUpSm-Regular.otf) normal normal 400 normal>) = 10.05\n",
      "2021-11-17 15:42:35 matplotlib.font_manager-DEBUG: findfont: score(<Font 'Ubuntu' (Ubuntu-M.ttf) normal normal 500 normal>) = 10.145\n",
      "2021-11-17 15:42:35 matplotlib.font_manager-DEBUG: findfont: score(<Font 'FreeSerif' (FreeSerif.ttf) normal normal 400 normal>) = 10.05\n",
      "2021-11-17 15:42:35 matplotlib.font_manager-DEBUG: findfont: score(<Font 'Umpush' (Umpush-BoldOblique.ttf) oblique normal 700 normal>) = 11.335\n",
      "2021-11-17 15:42:35 matplotlib.font_manager-DEBUG: findfont: score(<Font 'Liberation Sans' (LiberationSans-Regular.ttf) normal normal 400 normal>) = 10.05\n",
      "2021-11-17 15:42:35 matplotlib.font_manager-DEBUG: findfont: score(<Font 'STIXSizeOneSym' (STIXSizeOneSym-Bold.otf) normal normal 700 normal>) = 10.335\n",
      "2021-11-17 15:42:35 matplotlib.font_manager-DEBUG: findfont: score(<Font 'Waree' (Waree-Oblique.ttf) oblique normal 400 normal>) = 11.05\n",
      "2021-11-17 15:42:35 matplotlib.font_manager-DEBUG: findfont: score(<Font 'Liberation Serif' (LiberationSerif-BoldItalic.ttf) italic normal 700 normal>) = 11.335\n",
      "2021-11-17 15:42:35 matplotlib.font_manager-DEBUG: findfont: score(<Font 'Tlwg Typewriter' (TlwgTypewriter-Bold.ttf) normal normal 700 normal>) = 10.335\n",
      "2021-11-17 15:42:35 matplotlib.font_manager-DEBUG: findfont: score(<Font 'Liberation Sans Narrow' (LiberationSansNarrow-Regular.ttf) normal normal 400 condensed>) = 10.25\n",
      "2021-11-17 15:42:35 matplotlib.font_manager-DEBUG: findfont: score(<Font 'DejaVu Sans' (DejaVuSansCondensed.ttf) normal normal 400 condensed>) = 0.25\n",
      "2021-11-17 15:42:35 matplotlib.font_manager-DEBUG: findfont: score(<Font 'FreeMono' (FreeMonoOblique.ttf) oblique normal 400 normal>) = 11.05\n",
      "2021-11-17 15:42:35 matplotlib.font_manager-DEBUG: findfont: score(<Font 'FreeMono' (FreeMono.ttf) normal normal 400 normal>) = 10.05\n",
      "2021-11-17 15:42:35 matplotlib.font_manager-DEBUG: findfont: score(<Font 'KacstTitle' (KacstTitle.ttf) normal normal 500 normal>) = 10.145\n",
      "2021-11-17 15:42:35 matplotlib.font_manager-DEBUG: findfont: score(<Font 'Ubuntu' (Ubuntu-R.ttf) normal normal 400 normal>) = 10.05\n",
      "2021-11-17 15:42:35 matplotlib.font_manager-DEBUG: findfont: score(<Font 'STIXIntegralsD' (STIXIntegralsD-Regular.otf) normal normal 400 normal>) = 10.05\n",
      "2021-11-17 15:42:35 matplotlib.font_manager-DEBUG: findfont: score(<Font 'Purisa' (Purisa.ttf) normal normal 400 normal>) = 10.05\n",
      "2021-11-17 15:42:35 matplotlib.font_manager-DEBUG: findfont: score(<Font 'STIXGeneral' (STIXGeneral-Italic.otf) italic normal 400 normal>) = 11.05\n",
      "2021-11-17 15:42:35 matplotlib.font_manager-DEBUG: findfont: score(<Font 'Ubuntu' (Ubuntu-RI.ttf) italic normal 400 normal>) = 11.05\n",
      "2021-11-17 15:42:35 matplotlib.font_manager-DEBUG: findfont: score(<Font 'STIXIntegralsUpSm' (STIXIntegralsUpSm-Bold.otf) normal normal 700 normal>) = 10.335\n",
      "2021-11-17 15:42:35 matplotlib.font_manager-DEBUG: findfont: score(<Font 'Tlwg Typist' (TlwgTypist-Oblique.ttf) oblique normal 500 normal>) = 11.145\n",
      "2021-11-17 15:42:35 matplotlib.font_manager-DEBUG: findfont: score(<Font 'Ubuntu Mono' (UbuntuMono-B.ttf) normal normal 700 normal>) = 10.335\n",
      "2021-11-17 15:42:35 matplotlib.font_manager-DEBUG: findfont: score(<Font 'DejaVu Sans Mono' (DejaVuSansMono.ttf) normal normal 400 normal>) = 10.05\n",
      "2021-11-17 15:42:35 matplotlib.font_manager-DEBUG: findfont: score(<Font 'Lato' (Lato-Thin.ttf) normal normal 200 normal>) = 10.24\n",
      "2021-11-17 15:42:35 matplotlib.font_manager-DEBUG: findfont: score(<Font 'STIXVariants' (STIXVariants-Bold.otf) normal normal 700 normal>) = 10.335\n",
      "2021-11-17 15:42:35 matplotlib.font_manager-DEBUG: findfont: score(<Font 'DejaVu Serif' (DejaVuSerifCondensed-Italic.ttf) italic normal 400 condensed>) = 11.25\n",
      "2021-11-17 15:42:35 matplotlib.font_manager-DEBUG: findfont: score(<Font 'KacstArt' (KacstArt.ttf) normal normal 500 normal>) = 10.145\n",
      "2021-11-17 15:42:35 matplotlib.font_manager-DEBUG: findfont: score(<Font 'STIXSizeFiveSym' (STIXSizeFiveSym-Regular.otf) normal normal 400 normal>) = 10.05\n",
      "2021-11-17 15:42:35 matplotlib.font_manager-DEBUG: findfont: score(<Font 'STIXIntegralsSm' (STIXIntegralsSm-Regular.otf) normal normal 400 normal>) = 10.05\n",
      "2021-11-17 15:42:35 matplotlib.font_manager-DEBUG: findfont: score(<Font 'Lato' (Lato-Bold.ttf) normal normal 700 normal>) = 10.335\n",
      "2021-11-17 15:42:35 matplotlib.font_manager-DEBUG: findfont: score(<Font 'STIXNonUnicode' (STIXNonUnicode-Regular.otf) normal normal 400 normal>) = 10.05\n",
      "2021-11-17 15:42:35 matplotlib.font_manager-DEBUG: findfont: score(<Font 'Padauk' (Padauk-bold.ttf) normal normal 700 normal>) = 10.335\n",
      "2021-11-17 15:42:35 matplotlib.font_manager-DEBUG: findfont: score(<Font 'DejaVu Serif' (DejaVuSerif-BoldItalic.ttf) italic normal 700 normal>) = 11.335\n",
      "2021-11-17 15:42:35 matplotlib.font_manager-DEBUG: findfont: score(<Font 'Liberation Sans' (LiberationSans-Italic.ttf) italic normal 400 normal>) = 11.05\n",
      "2021-11-17 15:42:35 matplotlib.font_manager-DEBUG: findfont: score(<Font 'STIX' (STIX-Bold.otf) normal normal 700 normal>) = 10.335\n",
      "2021-11-17 15:42:35 matplotlib.font_manager-DEBUG: findfont: score(<Font 'DejaVu Serif' (DejaVuSerifCondensed-Bold.ttf) normal normal 700 condensed>) = 10.535\n",
      "2021-11-17 15:42:35 matplotlib.font_manager-DEBUG: findfont: score(<Font 'Ubuntu' (Ubuntu-B.ttf) normal normal 700 normal>) = 10.335\n",
      "2021-11-17 15:42:35 matplotlib.font_manager-DEBUG: findfont: score(<Font 'Lato' (Lato-MediumItalic.ttf) italic normal 500 normal>) = 11.145\n",
      "2021-11-17 15:42:35 matplotlib.font_manager-DEBUG: findfont: score(<Font 'Loma' (Loma.ttf) normal normal 400 normal>) = 10.05\n",
      "2021-11-17 15:42:35 matplotlib.font_manager-DEBUG: findfont: score(<Font 'STIXSizeTwoSym' (STIXSizeTwoSym-Bold.otf) normal normal 700 normal>) = 10.335\n",
      "2021-11-17 15:42:35 matplotlib.font_manager-DEBUG: findfont: score(<Font 'STIXSizeOneSym' (STIXSizeOneSym-Regular.otf) normal normal 400 normal>) = 10.05\n",
      "2021-11-17 15:42:35 matplotlib.font_manager-DEBUG: findfont: score(<Font 'NanumBarunGothic' (NanumBarunGothic.ttf) normal normal 400 normal>) = 10.05\n",
      "2021-11-17 15:42:35 matplotlib.font_manager-DEBUG: findfont: score(<Font 'KacstDigital' (KacstDigital.ttf) normal normal 500 normal>) = 10.145\n",
      "2021-11-17 15:42:35 matplotlib.font_manager-DEBUG: findfont: score(<Font 'Lato' (Lato-SemiboldItalic.ttf) italic normal 600 normal>) = 11.24\n",
      "2021-11-17 15:42:35 matplotlib.font_manager-DEBUG: findfont: score(<Font 'Tlwg Typist' (TlwgTypist-Bold.ttf) normal normal 700 normal>) = 10.335\n",
      "2021-11-17 15:42:35 matplotlib.font_manager-DEBUG: findfont: score(<Font 'Loma' (Loma-Oblique.ttf) oblique normal 400 normal>) = 11.05\n",
      "2021-11-17 15:42:35 matplotlib.font_manager-DEBUG: findfont: score(<Font 'Noto Sans CJK JP' (NotoSansCJK-Black.ttc) normal normal 900 normal>) = 10.525\n",
      "2021-11-17 15:42:35 matplotlib.font_manager-DEBUG: findfont: score(<Font 'Ubuntu' (Ubuntu-LI.ttf) italic normal 300 normal>) = 11.145\n",
      "2021-11-17 15:42:35 matplotlib.font_manager-DEBUG: findfont: score(<Font 'Tlwg Typewriter' (TlwgTypewriter-Oblique.ttf) oblique normal 400 normal>) = 11.05\n",
      "2021-11-17 15:42:35 matplotlib.font_manager-DEBUG: findfont: score(<Font 'Lato' (Lato-Light.ttf) normal normal 300 normal>) = 10.145\n",
      "2021-11-17 15:42:35 matplotlib.font_manager-DEBUG: findfont: score(<Font 'KacstFarsi' (KacstFarsi.ttf) normal normal 500 normal>) = 10.145\n",
      "2021-11-17 15:42:35 matplotlib.font_manager-DEBUG: findfont: score(<Font 'DejaVu Sans' (DejaVuSansCondensed-BoldOblique.ttf) oblique normal 700 condensed>) = 1.535\n"
     ]
    },
    {
     "name": "stdout",
     "output_type": "stream",
     "text": [
      "2021-11-17 15:42:35 matplotlib.font_manager-DEBUG: findfont: score(<Font 'Khmer OS' (KhmerOS.ttf) normal normal 400 normal>) = 10.05\n",
      "2021-11-17 15:42:35 matplotlib.font_manager-DEBUG: findfont: score(<Font 'Lato' (Lato-Hairline.ttf) normal normal 100 normal>) = 10.335\n",
      "2021-11-17 15:42:35 matplotlib.font_manager-DEBUG: findfont: score(<Font 'DejaVu Sans' (DejaVuSans-Bold.ttf) normal normal 700 normal>) = 0.33499999999999996\n",
      "2021-11-17 15:42:35 matplotlib.font_manager-DEBUG: findfont: score(<Font 'Tlwg Mono' (TlwgMono-BoldOblique.ttf) oblique normal 700 normal>) = 11.335\n",
      "2021-11-17 15:42:35 matplotlib.font_manager-DEBUG: findfont: score(<Font 'Waree' (Waree-Bold.ttf) normal normal 700 normal>) = 10.335\n",
      "2021-11-17 15:42:35 matplotlib.font_manager-DEBUG: findfont: score(<Font 'NanumMyeongjo' (NanumMyeongjo.ttf) normal normal 400 normal>) = 10.05\n",
      "2021-11-17 15:42:35 matplotlib.font_manager-DEBUG: findfont: score(<Font 'KacstOffice' (KacstOffice.ttf) normal normal 500 normal>) = 10.145\n",
      "2021-11-17 15:42:35 matplotlib.font_manager-DEBUG: findfont: score(<Font 'Kinnari' (Kinnari-BoldItalic.ttf) italic normal 700 normal>) = 11.335\n",
      "2021-11-17 15:42:35 matplotlib.font_manager-DEBUG: findfont: score(<Font 'DejaVu Sans Mono' (DejaVuSansMono-Bold.ttf) normal normal 700 normal>) = 10.335\n",
      "2021-11-17 15:42:35 matplotlib.font_manager-DEBUG: findfont: score(<Font 'DejaVu Sans' (DejaVuSansCondensed-Oblique.ttf) oblique normal 400 condensed>) = 1.25\n",
      "2021-11-17 15:42:35 matplotlib.font_manager-DEBUG: findfont: score(<Font 'NanumGothic' (NanumGothicBold.ttf) normal normal 600 normal>) = 10.24\n",
      "2021-11-17 15:42:35 matplotlib.font_manager-DEBUG: findfont: score(<Font 'Sawasdee' (Sawasdee-BoldOblique.ttf) oblique normal 700 normal>) = 11.335\n",
      "2021-11-17 15:42:35 matplotlib.font_manager-DEBUG: findfont: score(<Font 'DejaVu Sans' (DejaVuSansCondensed-Bold.ttf) normal normal 700 condensed>) = 0.5349999999999999\n",
      "2021-11-17 15:42:35 matplotlib.font_manager-DEBUG: findfont: score(<Font 'Kinnari' (Kinnari.ttf) normal normal 500 normal>) = 10.145\n",
      "2021-11-17 15:42:35 matplotlib.font_manager-DEBUG: findfont: score(<Font 'Ubuntu Mono' (UbuntuMono-BI.ttf) italic normal 700 normal>) = 11.335\n",
      "2021-11-17 15:42:35 matplotlib.font_manager-DEBUG: findfont: score(<Font 'Umpush' (Umpush-Oblique.ttf) oblique normal 400 normal>) = 11.05\n",
      "2021-11-17 15:42:35 matplotlib.font_manager-DEBUG: findfont: score(<Font 'DejaVu Sans' (DejaVuSans-ExtraLight.ttf) normal normal 200 normal>) = 0.24\n",
      "2021-11-17 15:42:35 matplotlib.font_manager-DEBUG: findfont: score(<Font 'Laksaman' (Laksaman-BoldItalic.ttf) italic normal 700 normal>) = 11.335\n",
      "2021-11-17 15:42:35 matplotlib.font_manager-DEBUG: findfont: score(<Font 'Liberation Sans' (LiberationSans-BoldItalic.ttf) italic normal 700 normal>) = 11.335\n",
      "2021-11-17 15:42:35 matplotlib.font_manager-DEBUG: findfont: score(<Font 'Liberation Mono' (LiberationMono-Bold.ttf) normal normal 700 normal>) = 10.335\n",
      "2021-11-17 15:42:35 matplotlib.font_manager-DEBUG: findfont: score(<Font 'STIXSizeFourSym' (STIXSizeFourSym-Bold.otf) normal normal 700 normal>) = 10.335\n",
      "2021-11-17 15:42:35 matplotlib.font_manager-DEBUG: findfont: score(<Font 'Lato' (Lato-Heavy.ttf) normal normal 800 normal>) = 10.43\n",
      "2021-11-17 15:42:35 matplotlib.font_manager-DEBUG: findfont: score(<Font 'DejaVu Sans' (DejaVuSans-Oblique.ttf) oblique normal 400 normal>) = 1.05\n",
      "2021-11-17 15:42:35 matplotlib.font_manager-DEBUG: findfont: score(<Font 'Waree' (Waree.ttf) normal normal 400 normal>) = 10.05\n",
      "2021-11-17 15:42:35 matplotlib.font_manager-DEBUG: findfont: score(<Font 'FreeSerif' (FreeSerifBold.ttf) normal normal 700 normal>) = 10.335\n",
      "2021-11-17 15:42:35 matplotlib.font_manager-DEBUG: findfont: score(<Font 'Garuda' (Garuda-Bold.ttf) normal normal 700 normal>) = 10.335\n",
      "2021-11-17 15:42:35 matplotlib.font_manager-DEBUG: findfont: score(<Font 'DejaVu Serif' (DejaVuSerif-Italic.ttf) italic normal 400 normal>) = 11.05\n",
      "2021-11-17 15:42:35 matplotlib.font_manager-DEBUG: findfont: score(<Font 'Ubuntu Condensed' (Ubuntu-C.ttf) normal normal 400 condensed>) = 10.25\n",
      "2021-11-17 15:42:35 matplotlib.font_manager-DEBUG: findfont: score(<Font 'Liberation Serif' (LiberationSerif-Italic.ttf) italic normal 400 normal>) = 11.05\n",
      "2021-11-17 15:42:35 matplotlib.font_manager-DEBUG: findfont: score(<Font 'STIXSizeThreeSym' (STIXSizeThreeSym-Bold.otf) normal normal 700 normal>) = 10.335\n",
      "2021-11-17 15:42:35 matplotlib.font_manager-DEBUG: findfont: score(<Font 'STIX' (STIX-Italic.otf) italic normal 400 normal>) = 11.05\n",
      "2021-11-17 15:42:35 matplotlib.font_manager-DEBUG: findfont: score(<Font 'DejaVu Sans Mono' (DejaVuSansMono-BoldOblique.ttf) oblique normal 700 normal>) = 11.335\n",
      "2021-11-17 15:42:35 matplotlib.font_manager-DEBUG: findfont: score(<Font 'DejaVu Sans' (DejaVuSans.ttf) normal normal 400 normal>) = 0.05\n",
      "2021-11-17 15:42:35 matplotlib.font_manager-DEBUG: findfont: score(<Font 'Ubuntu Mono' (UbuntuMono-R.ttf) normal normal 400 normal>) = 10.05\n",
      "2021-11-17 15:42:35 matplotlib.font_manager-DEBUG: findfont: score(<Font 'Noto Sans CJK JP' (NotoSansCJK-Light.ttc) normal normal 300 normal>) = 10.145\n",
      "2021-11-17 15:42:35 matplotlib.font_manager-DEBUG: findfont: score(<Font 'KacstScreen' (KacstScreen.ttf) normal normal 500 normal>) = 10.145\n",
      "2021-11-17 15:42:35 matplotlib.font_manager-DEBUG: findfont: score(<Font 'Purisa' (Purisa-Oblique.ttf) oblique normal 400 normal>) = 11.05\n",
      "2021-11-17 15:42:35 matplotlib.font_manager-DEBUG: findfont: score(<Font 'KacstOne' (KacstOne-Bold.ttf) normal normal 700 normal>) = 10.335\n",
      "2021-11-17 15:42:35 matplotlib.font_manager-DEBUG: findfont: score(<Font 'FreeSerif' (FreeSerifItalic.ttf) italic normal 400 normal>) = 11.05\n",
      "2021-11-17 15:42:35 matplotlib.font_manager-DEBUG: findfont: score(<Font 'FreeSans' (FreeSansBoldOblique.ttf) oblique normal 600 normal>) = 11.24\n",
      "2021-11-17 15:42:35 matplotlib.font_manager-DEBUG: findfont: score(<Font 'Padauk Book' (Padauk-book.ttf) normal normal 400 normal>) = 10.05\n",
      "2021-11-17 15:42:35 matplotlib.font_manager-DEBUG: findfont: score(<Font 'NanumBarunGothic' (NanumBarunGothicBold.ttf) normal normal 600 normal>) = 10.24\n",
      "2021-11-17 15:42:35 matplotlib.font_manager-DEBUG: findfont: score(<Font 'Liberation Serif' (LiberationSerif-Regular.ttf) normal normal 400 normal>) = 10.05\n",
      "2021-11-17 15:42:35 matplotlib.font_manager-DEBUG: findfont: score(<Font 'TakaoPGothic' (TakaoPGothic.ttf) normal normal 400 normal>) = 10.05\n",
      "2021-11-17 15:42:35 matplotlib.font_manager-DEBUG: findfont: score(<Font 'Lato' (Lato-HeavyItalic.ttf) italic normal 800 normal>) = 11.43\n",
      "2021-11-17 15:42:35 matplotlib.font_manager-DEBUG: findfont: score(<Font 'Lato' (Lato-LightItalic.ttf) italic normal 300 normal>) = 11.145\n",
      "2021-11-17 15:42:35 matplotlib.font_manager-DEBUG: findfont: score(<Font 'Umpush' (Umpush.ttf) normal normal 400 normal>) = 10.05\n",
      "2021-11-17 15:42:35 matplotlib.font_manager-DEBUG: findfont: score(<Font 'Liberation Sans Narrow' (LiberationSansNarrow-Bold.ttf) normal normal 700 condensed>) = 10.535\n",
      "2021-11-17 15:42:35 matplotlib.font_manager-DEBUG: findfont: score(<Font 'Sawasdee' (Sawasdee.ttf) normal normal 400 normal>) = 10.05\n",
      "2021-11-17 15:42:35 matplotlib.font_manager-DEBUG: findfont: score(<Font 'Loma' (Loma-Bold.ttf) normal normal 700 normal>) = 10.335\n",
      "2021-11-17 15:42:35 matplotlib.font_manager-DEBUG: findfont: score(<Font 'FreeMono' (FreeMonoBold.ttf) normal normal 700 normal>) = 10.335\n",
      "2021-11-17 15:42:35 matplotlib.font_manager-DEBUG: findfont: score(<Font 'Kinnari' (Kinnari-Bold.ttf) normal normal 700 normal>) = 10.335\n",
      "2021-11-17 15:42:35 matplotlib.font_manager-DEBUG: findfont: score(<Font 'KacstBook' (KacstBook.ttf) normal normal 500 normal>) = 10.145\n",
      "2021-11-17 15:42:35 matplotlib.font_manager-DEBUG: findfont: score(<Font 'STIXSizeThreeSym' (STIXSizeThreeSym-Regular.otf) normal normal 400 normal>) = 10.05\n",
      "2021-11-17 15:42:35 matplotlib.font_manager-DEBUG: findfont: score(<Font 'STIXIntegralsUp' (STIXIntegralsUp-Bold.otf) normal normal 700 normal>) = 10.335\n",
      "2021-11-17 15:42:35 matplotlib.font_manager-DEBUG: findfont: score(<Font 'Norasi' (Norasi-BoldItalic.ttf) italic normal 700 normal>) = 11.335\n",
      "2021-11-17 15:42:35 matplotlib.font_manager-DEBUG: findfont: score(<Font 'Laksaman' (Laksaman-Italic.ttf) italic normal 400 normal>) = 11.05\n"
     ]
    },
    {
     "name": "stdout",
     "output_type": "stream",
     "text": [
      "2021-11-17 15:42:35 matplotlib.font_manager-DEBUG: findfont: score(<Font 'Padauk Book' (Padauk-bookbold.ttf) normal normal 700 normal>) = 10.335\n",
      "2021-11-17 15:42:35 matplotlib.font_manager-DEBUG: findfont: score(<Font 'Kinnari' (Kinnari-Italic.ttf) italic normal 500 normal>) = 11.145\n",
      "2021-11-17 15:42:35 matplotlib.font_manager-DEBUG: findfont: score(<Font 'OpenSymbol' (opens___.ttf) normal normal 400 normal>) = 10.05\n",
      "2021-11-17 15:42:35 matplotlib.font_manager-DEBUG: findfont: score(<Font 'Tlwg Typo' (TlwgTypo-BoldOblique.ttf) oblique normal 700 normal>) = 11.335\n",
      "2021-11-17 15:42:35 matplotlib.font_manager-DEBUG: findfont: score(<Font 'STIXNonUnicode' (STIXNonUnicode-Italic.otf) italic normal 400 normal>) = 11.05\n",
      "2021-11-17 15:42:35 matplotlib.font_manager-DEBUG: findfont: score(<Font 'DejaVu Serif' (DejaVuSerifCondensed-BoldItalic.ttf) italic normal 700 condensed>) = 11.535\n",
      "2021-11-17 15:42:35 matplotlib.font_manager-DEBUG: findfont: score(<Font 'Tlwg Typewriter' (TlwgTypewriter-BoldOblique.ttf) oblique normal 700 normal>) = 11.335\n",
      "2021-11-17 15:42:35 matplotlib.font_manager-DEBUG: findfont: score(<Font 'Lato' (Lato-BlackItalic.ttf) italic normal 900 normal>) = 11.525\n",
      "2021-11-17 15:42:35 matplotlib.font_manager-DEBUG: findfont: score(<Font 'Tlwg Mono' (TlwgMono.ttf) normal normal 500 normal>) = 10.145\n",
      "2021-11-17 15:42:35 matplotlib.font_manager-DEBUG: findfont: score(<Font 'STIXIntegralsUpD' (STIXIntegralsUpD-Regular.otf) normal normal 400 normal>) = 10.05\n",
      "2021-11-17 15:42:35 matplotlib.font_manager-DEBUG: findfont: score(<Font 'KacstOne' (KacstOne.ttf) normal normal 400 normal>) = 10.05\n",
      "2021-11-17 15:42:35 matplotlib.font_manager-DEBUG: findfont: score(<Font 'Norasi' (Norasi-Italic.ttf) italic normal 400 normal>) = 11.05\n",
      "2021-11-17 15:42:35 matplotlib.font_manager-DEBUG: findfont: score(<Font 'STIX' (STIX-BoldItalic.otf) italic normal 700 normal>) = 11.335\n",
      "2021-11-17 15:42:35 matplotlib.font_manager-DEBUG: findfont: score(<Font 'NanumMyeongjo' (NanumMyeongjoBold.ttf) normal normal 600 normal>) = 10.24\n",
      "2021-11-17 15:42:35 matplotlib.font_manager-DEBUG: findfont: score(<Font 'KacstLetter' (KacstLetter.ttf) normal normal 500 normal>) = 10.145\n",
      "2021-11-17 15:42:35 matplotlib.font_manager-DEBUG: findfont: score(<Font 'Lato' (Lato-Black.ttf) normal normal 900 normal>) = 10.525\n",
      "2021-11-17 15:42:35 matplotlib.font_manager-DEBUG: findfont: score(<Font 'Kinnari' (Kinnari-BoldOblique.ttf) oblique normal 700 normal>) = 11.335\n",
      "2021-11-17 15:42:35 matplotlib.font_manager-DEBUG: findfont: score(<Font 'Garuda' (Garuda-Oblique.ttf) oblique normal 400 normal>) = 11.05\n",
      "2021-11-17 15:42:35 matplotlib.font_manager-DEBUG: findfont: score(<Font 'STIXGeneral' (STIXGeneral-Bold.otf) normal normal 700 normal>) = 10.335\n",
      "2021-11-17 15:42:35 matplotlib.font_manager-DEBUG: findfont: score(<Font 'Lato' (Lato-HairlineItalic.ttf) italic normal 100 normal>) = 11.335\n",
      "2021-11-17 15:42:35 matplotlib.font_manager-DEBUG: findfont: score(<Font 'Lato' (Lato-Medium.ttf) normal normal 500 normal>) = 10.145\n",
      "2021-11-17 15:42:35 matplotlib.font_manager-DEBUG: findfont: score(<Font 'Phetsarath OT' (Phetsarath_OT.ttf) normal normal 400 normal>) = 10.05\n",
      "2021-11-17 15:42:35 matplotlib.font_manager-DEBUG: findfont: score(<Font 'Waree' (Waree-BoldOblique.ttf) oblique normal 700 normal>) = 11.335\n",
      "2021-11-17 15:42:35 matplotlib.font_manager-DEBUG: findfont: score(<Font 'Ubuntu' (Ubuntu-BI.ttf) italic normal 700 normal>) = 11.335\n",
      "2021-11-17 15:42:35 matplotlib.font_manager-DEBUG: findfont: score(<Font 'Laksaman' (Laksaman-Bold.ttf) normal normal 700 normal>) = 10.335\n",
      "2021-11-17 15:42:35 matplotlib.font_manager-DEBUG: findfont: score(<Font 'Liberation Sans Narrow' (LiberationSansNarrow-BoldItalic.ttf) italic normal 700 condensed>) = 11.535\n",
      "2021-11-17 15:42:35 matplotlib.font_manager-DEBUG: findfont: score(<Font 'Tlwg Typo' (TlwgTypo.ttf) normal normal 500 normal>) = 10.145\n",
      "2021-11-17 15:42:35 matplotlib.font_manager-DEBUG: findfont: score(<Font 'Tibetan Machine Uni' (TibetanMachineUni.ttf) normal normal 400 normal>) = 10.05\n",
      "2021-11-17 15:42:35 matplotlib.font_manager-DEBUG: findfont: score(<Font 'STIXIntegralsSm' (STIXIntegralsSm-Bold.otf) normal normal 700 normal>) = 10.335\n",
      "2021-11-17 15:42:35 matplotlib.font_manager-DEBUG: findfont: Matching sans\\-serif:style=normal:variant=normal:weight=normal:stretch=normal:size=10.0 to DejaVu Sans ('/home/semccomas/anaconda3/envs/string_method/lib/python3.8/site-packages/matplotlib/mpl-data/fonts/ttf/DejaVuSans.ttf') with score of 0.050000.\n"
     ]
    },
    {
     "data": {
      "image/png": "[encoded data removed]",
      "text/plain": [
       "<Figure size 432x288 with 1 Axes>"
      ]
     },
     "metadata": {
      "needs_background": "light"
     },
     "output_type": "display_data"
    }
   ],
   "source": [
    "refs = [0, 31, 62, 93, 124, 155, 186, 217, 248, 279, 310, 341, 372, 403, 434]\n",
    "#refs = [0, 1, 2, 3, 4, 5, 6, 7, 8, 9, 10, 11, 12, 13, 14, 15, 16, 17, 18]\n",
    "plt.scatter(cv_coordinates[refs,0,1], cv_coordinates[refs,0,0])\n",
    "plt.scatter(tica[refs,0,1], tica[refs,0,0])\n"
   ]
  },
  {
   "cell_type": "markdown",
   "id": "87e0b54f-a57e-4cf9-8f7d-15a9123e2984",
   "metadata": {
    "tags": []
   },
   "source": [
    "## Cluster"
   ]
  },
  {
   "cell_type": "markdown",
   "id": "0fde8c4f-47c5-4c5f-89d9-1ec645366c6b",
   "metadata": {},
   "source": [
    "The next cell plots the \"vamp score\" of using `n_clustercenters` to make an MSM. You should find that at some point the vamp score saturates. Choose the minimum number of clusters that gives you the saturated vamp score as the value of k for the next steps. This might take a little while."
   ]
  },
  {
   "cell_type": "code",
   "execution_count": 10,
   "id": "d37e6526-2107-4133-83ae-47fe3c85c4d4",
   "metadata": {},
   "outputs": [
    {
     "name": "stderr",
     "output_type": "stream",
     "text": [
      "/data2/GLUT5_string/string/analysis/scripts/string_tica_msm.py:85: TqdmExperimentalWarning: Using `tqdm.autonotebook.tqdm` in notebook mode. Use `tqdm.tqdm` instead to force console mode (e.g. in jupyter console)\n",
      "  from tqdm.autonotebook import tqdm\n"
     ]
    },
    {
     "data": {
      "application/vnd.jupyter.widget-view+json": {
       "model_id": "d3edeb4403a44edeb89302ceaae6c0a9",
       "version_major": 2,
       "version_minor": 0
      },
      "text/plain": [
       "Loop over k::   0%|          | 0/8 [00:00<?, ?it/s]"
      ]
     },
     "metadata": {},
     "output_type": "display_data"
    },
    {
     "data": {
      "application/vnd.jupyter.widget-view+json": {
       "model_id": "",
       "version_major": 2,
       "version_minor": 0
      },
      "text/plain": [
       "Loop over iterations::   0%|          | 0/5 [00:00<?, ?it/s]"
      ]
     },
     "metadata": {},
     "output_type": "display_data"
    },
    {
     "name": "stderr",
     "output_type": "stream",
     "text": [
      "/home/semccomas/anaconda3/envs/string_method/lib/python3.8/site-packages/deeptime/clustering/_kmeans.py:434: UserWarning: Algorithm did not reach convergence criterion of 1e-05 in 50 iterations. Consider increasing max_iter.\n",
      "  warnings.warn(f\"Algorithm did not reach convergence criterion\"\n"
     ]
    },
    {
     "data": {
      "application/vnd.jupyter.widget-view+json": {
       "model_id": "",
       "version_major": 2,
       "version_minor": 0
      },
      "text/plain": [
       "Loop over iterations::   0%|          | 0/5 [00:00<?, ?it/s]"
      ]
     },
     "metadata": {},
     "output_type": "display_data"
    },
    {
     "data": {
      "application/vnd.jupyter.widget-view+json": {
       "model_id": "",
       "version_major": 2,
       "version_minor": 0
      },
      "text/plain": [
       "Loop over iterations::   0%|          | 0/5 [00:00<?, ?it/s]"
      ]
     },
     "metadata": {},
     "output_type": "display_data"
    },
    {
     "data": {
      "application/vnd.jupyter.widget-view+json": {
       "model_id": "",
       "version_major": 2,
       "version_minor": 0
      },
      "text/plain": [
       "Loop over iterations::   0%|          | 0/5 [00:00<?, ?it/s]"
      ]
     },
     "metadata": {},
     "output_type": "display_data"
    },
    {
     "data": {
      "application/vnd.jupyter.widget-view+json": {
       "model_id": "",
       "version_major": 2,
       "version_minor": 0
      },
      "text/plain": [
       "Loop over iterations::   0%|          | 0/5 [00:00<?, ?it/s]"
      ]
     },
     "metadata": {},
     "output_type": "display_data"
    },
    {
     "data": {
      "application/vnd.jupyter.widget-view+json": {
       "model_id": "",
       "version_major": 2,
       "version_minor": 0
      },
      "text/plain": [
       "Loop over iterations::   0%|          | 0/5 [00:00<?, ?it/s]"
      ]
     },
     "metadata": {},
     "output_type": "display_data"
    },
    {
     "data": {
      "application/vnd.jupyter.widget-view+json": {
       "model_id": "",
       "version_major": 2,
       "version_minor": 0
      },
      "text/plain": [
       "Loop over iterations::   0%|          | 0/5 [00:00<?, ?it/s]"
      ]
     },
     "metadata": {},
     "output_type": "display_data"
    },
    {
     "data": {
      "application/vnd.jupyter.widget-view+json": {
       "model_id": "",
       "version_major": 2,
       "version_minor": 0
      },
      "text/plain": [
       "Loop over iterations::   0%|          | 0/5 [00:00<?, ?it/s]"
      ]
     },
     "metadata": {},
     "output_type": "display_data"
    },
    {
     "data": {
      "image/png": "[encoded data removed]",
      "text/plain": [
       "<Figure size 432x288 with 1 Axes>"
      ]
     },
     "metadata": {
      "needs_background": "light"
     },
     "output_type": "display_data"
    }
   ],
   "source": [
    "n_clustercenters = [5, 10, 30, 50, 75, 100, 200, 500][::-1]\n",
    "fig, ax = my_msm.get_vamp_vs_k(n_clustercenters, tica)"
   ]
  },
  {
   "cell_type": "markdown",
   "id": "15eab2eb-06eb-4b71-a75f-7d0aa8221de6",
   "metadata": {},
   "source": [
    "If the calculation fails, there is something wrong with your MSM. Either you have too little transitions or there too many cvs in tica to have all the states well connected. Solutions:\n",
    "+ Reduce the maximum number of clusters (drop 200 and 500) of `n_clustercenters` and see if you get a saturated curve.\n",
    "+ Reduce the number of cvs that went into your TICA calculation.\n",
    "+ Do more iterations of the string method."
   ]
  },
  {
   "cell_type": "markdown",
   "id": "819a82df-a07a-4391-ba1e-a320c10b7a05",
   "metadata": {
    "tags": []
   },
   "source": [
    "## MSM Deeptime"
   ]
  },
  {
   "cell_type": "markdown",
   "id": "be88b3d8-10e5-4e85-ad92-0e107eb240c2",
   "metadata": {},
   "source": [
    "Choose the number of clusters, `k`, for the clustering from the previous calculation. Also change n_proc to however many processors you can use."
   ]
  },
  {
   "cell_type": "code",
   "execution_count": 11,
   "id": "7701fadd-4a0e-49a9-a6e0-258010e1e54d",
   "metadata": {},
   "outputs": [],
   "source": [
    "k = 100\n",
    "clusters = my_msm.k_means_cluster(\n",
    "    tica, k, stride=1, max_iter=500, n_proc=8, seed=28101990\n",
    ")"
   ]
  },
  {
   "cell_type": "code",
   "execution_count": 12,
   "id": "7d7fcd39-9913-4f1c-8740-2615f430bca6",
   "metadata": {
    "tags": []
   },
   "outputs": [
    {
     "name": "stdout",
     "output_type": "stream",
     "text": [
      "CPU times: user 31.6 s, sys: 1.26 s, total: 32.8 s\n",
      "Wall time: 33.6 s\n"
     ]
    }
   ],
   "source": [
    "%%time\n",
    "msm, weights = my_msm.get_msm(clusters)"
   ]
  },
  {
   "cell_type": "code",
   "execution_count": 13,
   "id": "delayed-beach",
   "metadata": {},
   "outputs": [
    {
     "data": {
      "text/plain": [
       "578816"
      ]
     },
     "execution_count": 13,
     "metadata": {},
     "output_type": "execute_result"
    }
   ],
   "source": [
    "len(weights)"
   ]
  },
  {
   "cell_type": "markdown",
   "id": "3673fc24-a1dd-4577-9ed1-70d614e09bd7",
   "metadata": {
    "tags": []
   },
   "source": [
    "## CVs for projection"
   ]
  },
  {
   "cell_type": "markdown",
   "id": "ecc2733a-eb34-483c-874c-905e45d9b559",
   "metadata": {},
   "source": [
    "Make a `cv_proj` numpy array with shape (n_iteration * n_swarms_iterations, n_frames_per_iter, 2). n_frames_per_iter is usally 2 since you only record the value of the cvs at the begining and end of the swarm. The last dimesions are the cvs on which you would like to project your FES using the weights obtained from the msm. The FES is then the negative log of a *weighted* histogram of the projection cvs using the weights from the msm. The projection cvs can be anything that you can calculate for a structure, not necessarily the cvs of the string. In the example bellow it is the mean of two cvs."
   ]
  },
  {
   "cell_type": "markdown",
   "id": "accurate-nicholas",
   "metadata": {},
   "source": [
    "Choose one of these to run:"
   ]
  },
  {
   "cell_type": "markdown",
   "id": "amended-cartridge",
   "metadata": {},
   "source": [
    "Option 1: gate CVs"
   ]
  },
  {
   "cell_type": "code",
   "execution_count": 14,
   "id": "f7758f72-9e44-4770-a5b4-1337b5d1ae5f",
   "metadata": {},
   "outputs": [],
   "source": [
    "darko = False\n",
    "my_cvs = [1,0] #IC gate, EC gate\n",
    "cv_proj = cv_coordinates[:, :, my_cvs]\n",
    "cv_labels = [\"Intracellular gate (nm)\", \"Extracellular gate (nm)\"]\n",
    "\n",
    "xlim = (0.9,1.6)\n",
    "ylim = (0.8,1.6)"
   ]
  },
  {
   "cell_type": "markdown",
   "id": "hollywood-enforcement",
   "metadata": {},
   "source": [
    "Option 2: Darko CVs"
   ]
  },
  {
   "cell_type": "code",
   "execution_count": 75,
   "id": "level-blowing",
   "metadata": {},
   "outputs": [],
   "source": [
    "darko = True\n",
    "\n",
    "#don't want to rename all these variables now, just change cv_group to cv_name here\n",
    "group_to_name = {'OutOpen-OutOcc':'OutOpen', 'OutOcc-InOcc':'OutOcc', 'InOcc-InOpen':'InOcc'}\n",
    "\n",
    "cv_name = group_to_name[cv_group]\n",
    "\n",
    "indir_np = f'/data2/GLUT5_string/string/analysis/textfiles_out/darko_dists_np/{name_sim}'\n",
    "darko_cv1 = np.load(f\"{indir_np}/{cv_name}_cv1_scored.npy\")\n",
    "darko_cv2 = np.load(f\"{indir_np}/{cv_name}_cv2_scored.npy\")\n",
    "\n",
    "darko_all = np.dstack((darko_cv1, darko_cv2)) ## x axis first, y axis second\n",
    "\n",
    "cv_proj = darko_all\n",
    "\n",
    "cv_labels = ['CV 1', 'CV 2']\n",
    "xlim = None\n",
    "ylim = None\n",
    "\n",
    "\n",
    "cv_proj = split_coords_by_beads(cv_proj)"
   ]
  },
  {
   "cell_type": "code",
   "execution_count": 15,
   "id": "elder-chance",
   "metadata": {},
   "outputs": [
    {
     "data": {
      "text/plain": [
       "(289408, 2, 2)"
      ]
     },
     "execution_count": 15,
     "metadata": {},
     "output_type": "execute_result"
    }
   ],
   "source": [
    "np.shape(cv_proj)"
   ]
  },
  {
   "cell_type": "code",
   "execution_count": 16,
   "id": "loving-monitoring",
   "metadata": {},
   "outputs": [
    {
     "data": {
      "text/plain": [
       "(289408, 2, 2)"
      ]
     },
     "execution_count": 16,
     "metadata": {},
     "output_type": "execute_result"
    }
   ],
   "source": [
    "np.shape(cv_coordinates)"
   ]
  },
  {
   "cell_type": "code",
   "execution_count": 17,
   "id": "angry-attachment",
   "metadata": {},
   "outputs": [
    {
     "ename": "NameError",
     "evalue": "name 'cv_group' is not defined",
     "output_type": "error",
     "traceback": [
      "\u001b[0;31m---------------------------------------------------------------------------\u001b[0m",
      "\u001b[0;31mNameError\u001b[0m                                 Traceback (most recent call last)",
      "\u001b[0;32m<ipython-input-17-33c5a1107ab4>\u001b[0m in \u001b[0;36m<module>\u001b[0;34m\u001b[0m\n\u001b[0;32m----> 1\u001b[0;31m \u001b[0mcv_group\u001b[0m\u001b[0;34m\u001b[0m\u001b[0;34m\u001b[0m\u001b[0m\n\u001b[0m",
      "\u001b[0;31mNameError\u001b[0m: name 'cv_group' is not defined"
     ]
    }
   ],
   "source": [
    "cv_group"
   ]
  },
  {
   "cell_type": "markdown",
   "id": "finnish-fireplace",
   "metadata": {},
   "source": [
    "## load atomisitic models and sim endpoints to compare to projection. \n",
    "###### this is not required to run, so skip if you want to add the points on top"
   ]
  },
  {
   "cell_type": "code",
   "execution_count": null,
   "id": "equivalent-software",
   "metadata": {},
   "outputs": [],
   "source": [
    "def get_G5_atomistic_gate(timestep):\n",
    "    # get all pieces together, then colors and naming consistent in plots\n",
    "    G5_Out = np.array(['OUT', 'Out Open', 'green', \"Greens\"])\n",
    "    G5_OutOcc = np.array(['OUT-OCC', 'Out Occ.', 'grey', \"Greys\"])\n",
    "    G5_Occ = np.array(['OCC', 'Occluded', 'red', \"Reds\"])\n",
    "    G5_InOcc = np.array(['IN-OCC', 'In Occ.', 'orange', \"Oranges\"])\n",
    "    G5_In = np.array(['IN', 'In Open', 'blue', \"Blues\"])\n",
    "    all_sims = np.array([G5_Out, G5_OutOcc, G5_Occ, G5_InOcc, G5_In])\n",
    "\n",
    "    indir = '/data2/GLUT5_string/string/analysis/textfiles_out/EC_IC_gate_refs'\n",
    "\n",
    " \n",
    "    out_arr = []\n",
    "    for n, sim in enumerate(all_sims):\n",
    "        name = sim[0]\n",
    "        ec = np.loadtxt(f\"{indir}/{name}.EC.{timestep}.xvg\")[1]\n",
    "        ic = np.loadtxt(f\"{indir}/{name}.IC.{timestep}.xvg\")[1]\n",
    "        \n",
    "        \n",
    "        temp = np.append(all_sims[n], [f'EC: {str(ec)}', f'IC: {str(ic)}'])\n",
    "        out_arr.append(temp)\n",
    "\n",
    "    out_arr = np.array(out_arr)\n",
    "    return out_arr"
   ]
  },
  {
   "cell_type": "code",
   "execution_count": null,
   "id": "impressed-vulnerability",
   "metadata": {},
   "outputs": [],
   "source": [
    "plot_atomistic = False\n",
    "name = 'start_model'\n",
    "#name = 'end_atom'\n",
    "atom_sims = get_G5_atomistic_gate(name)"
   ]
  },
  {
   "cell_type": "code",
   "execution_count": null,
   "id": "annual-traveler",
   "metadata": {},
   "outputs": [],
   "source": []
  },
  {
   "cell_type": "markdown",
   "id": "baa20877-6de5-4e29-8d35-66b257239baf",
   "metadata": {},
   "source": [
    "## Project FES"
   ]
  },
  {
   "cell_type": "markdown",
   "id": "2ec818b9-9192-42f6-afd2-06cdcd14fe09",
   "metadata": {},
   "source": [
    "Do the projection and take log. You have to choose a bandwidth for the [KDE](https://en.wikipedia.org/wiki/Kernel_density_estimation) of the histogram. It should be big enough to reduce noise but not so big to remove features. If you give `None`"
   ]
  },
  {
   "cell_type": "code",
   "execution_count": null,
   "id": "cf589f3f-60c3-4237-8da1-7b5f4b5a5a7d",
   "metadata": {},
   "outputs": [],
   "source": [
    "bandwidth = 0.05\n",
    "p_of_cv, extent = my_msm.get_kde(cv_proj, weights, bandwidth)\n",
    "F0 = -np.log(p_of_cv)\n",
    "F = F0 - F0.min()\n",
    "F[F > 40] = np.nan"
   ]
  },
  {
   "cell_type": "markdown",
   "id": "13bfa74c-f72f-4919-a8da-29055957afd4",
   "metadata": {},
   "source": [
    "## Plot FES"
   ]
  },
  {
   "cell_type": "code",
   "execution_count": null,
   "id": "bed42a66-3599-411b-af26-88990691e49a",
   "metadata": {},
   "outputs": [],
   "source": [
    "f_max = 3.8\n",
    "\n",
    "if last_iteration == None:\n",
    "    last_iteration_n = \"final\"\n",
    "else:\n",
    "    last_iteration_n = last_iteration\n",
    "fig, ax = my_msm.plot_2D_heatmap(\n",
    "    F,\n",
    "    extent,\n",
    "    f_max=f_max,\n",
    "    cbar_label=\"Free Energy (kT)\",\n",
    "    xlabel=cv_labels[0],\n",
    "    ylabel=cv_labels[1],\n",
    "    xlim= xlim,\n",
    "    ylim= ylim\n",
    ")\n",
    "\n",
    "fig.tight_layout()\n",
    "\n",
    "if plot_atomistic:\n",
    "    for n in atom_sims:\n",
    "        ic = float(n[-1].split(' ')[1])\n",
    "        ec = float(n[-2].split(' ')[1])\n",
    "        ax.scatter(ic, ec, color = 'grey', edgecolor = 'black', s = 100, zorder=2, marker='X')\n",
    "        \n",
    "        fig.savefig(path_report + f\"/structure_snapshots/FES_cutoff{f_max}.{name}.iteration{first_iteration}-{last_iteration_n}.png\")\n",
    "\n",
    "    \n",
    "else:\n",
    "    if darko:\n",
    "        fig.savefig(path_report + f\"/darko_proj/{cv_group}_CV_group.FES_cutoff{f_max}.iteration{first_iteration}-{last_iteration_n}.png\")    \n",
    "\n",
    "    elif not darko:\n",
    "        if split_by_bead:\n",
    "            fig.savefig(path_report + f\"/FES_cutoff{f_max}.ONLY_group_{cv_group}.iteration{first_iteration}-{last_iteration_n}.png\")\n",
    "        else:\n",
    "            fig.savefig(path_report + f\"/FES_cutoff{f_max}.iteration{first_iteration}-{last_iteration_n}.png\")"
   ]
  },
  {
   "cell_type": "code",
   "execution_count": null,
   "id": "modern-netscape",
   "metadata": {},
   "outputs": [],
   "source": []
  },
  {
   "cell_type": "markdown",
   "id": "ac4af9d6-c73a-4b44-b786-a9ec31571f46",
   "metadata": {},
   "source": [
    "## Bootstrap to get error"
   ]
  },
  {
   "cell_type": "markdown",
   "id": "6eaeb808-1306-4705-9bec-e225d9ecf993",
   "metadata": {},
   "source": [
    "The problem with calculating errors in MD is that most statistical techniques for this rely on the data being uncorrelated. MD data is most of the time highly correlated due to the proximity in time and starting structure. Correlated data generates artificially low error estimates. \n",
    "\n",
    "For this reason we use blocking. In our case we will use blocking+bootstrapping. This is very well explained in this [very usefull video](https://www.youtube.com/watch?v=gHXXGYIgasE&t=1854s) by prof. Giovanni Bussi.\n",
    "\n",
    "The uncertainty is calculated as half of the interval containing 95% of the probability of the distribution of histograms generated in the bootstraps."
   ]
  },
  {
   "cell_type": "markdown",
   "id": "e62641e3-4288-47b8-95f3-04a15f1b1ecc",
   "metadata": {},
   "source": [
    "This part is probably going to be slow! Maybe it will go over night. It is actually doing len(blocks) * n_boot msms! The good things is that once you have figured out for your system (and similar systems) what is a reasonable number of blocks then you can just do `blocks=[my_reasonable_number_blocks]`."
   ]
  },
  {
   "cell_type": "code",
   "execution_count": null,
   "id": "97a0ecf4-1e8b-4588-8187-b13ef8d02e46",
   "metadata": {
    "tags": []
   },
   "outputs": [
    {
     "data": {
      "application/vnd.jupyter.widget-view+json": {
       "model_id": "f71f268fbfe142a59e8c8dd88844b08a",
       "version_major": 2,
       "version_minor": 0
      },
      "text/plain": [
       "Loop over blocks:   0%|          | 0/5 [00:00<?, ?it/s]"
      ]
     },
     "metadata": {},
     "output_type": "display_data"
    },
    {
     "data": {
      "application/vnd.jupyter.widget-view+json": {
       "model_id": "",
       "version_major": 2,
       "version_minor": 0
      },
      "text/plain": [
       "Loop over bootstraps:   0%|          | 0/200 [00:00<?, ?it/s]"
      ]
     },
     "metadata": {},
     "output_type": "display_data"
    },
    {
     "name": "stderr",
     "output_type": "stream",
     "text": [
      "/data2/GLUT5_string/string/analysis/scripts/string_tica_msm.py:249: RuntimeWarning: invalid value encountered in true_divide\n",
      "  errors.append((hdi[1, :, :] - hdi[0, :, :]) / 2 / x_mean)\n"
     ]
    },
    {
     "data": {
      "application/vnd.jupyter.widget-view+json": {
       "model_id": "c945f7aabecb4e7ba778dab541e90d14",
       "version_major": 2,
       "version_minor": 0
      },
      "text/plain": [
       "Loop over bootstraps:   0%|          | 0/200 [00:00<?, ?it/s]"
      ]
     },
     "metadata": {},
     "output_type": "display_data"
    }
   ],
   "source": [
    "blocks =[2, 4, 8, 16, 32]\n",
    "errors = my_msm.get_error(\n",
    "    cv_proj,\n",
    "    clusters,\n",
    "    extent,\n",
    "    n_boot=200,\n",
    "    bandwidth=0.05,\n",
    "    nbin=55,\n",
    "    blocks=blocks\n",
    ")"
   ]
  },
  {
   "cell_type": "code",
   "execution_count": null,
   "id": "d5626822-4396-4e20-a4db-c5988fbe03bf",
   "metadata": {},
   "outputs": [],
   "source": [
    "np.save(\"postprocessing/errors.npy\", errors)"
   ]
  },
  {
   "cell_type": "markdown",
   "id": "6c85dd56-f5c9-4a95-93ad-d1fcd8e3d4d5",
   "metadata": {},
   "source": [
    "Choose the number of blocks that gives you a high error.\n",
    "\n",
    "Note,`e_min` and `e_max` are choosen to remove the extremely high or low values of error that are generated due to poor sampling or high free energy. These regions of the \"free error surface\" are not what we care about and thus we remove it from the statistic and the visualization."
   ]
  },
  {
   "cell_type": "code",
   "execution_count": null,
   "id": "3eb5da22-9788-4511-9f8f-6c9b444e0b91",
   "metadata": {
    "tags": []
   },
   "outputs": [],
   "source": [
    "e_max = 6\n",
    "e_min = 1.0e-03\n",
    "e = errors.copy()\n",
    "e[e > e_max] = np.nan\n",
    "e[e <= e_min] = np.nan\n",
    "_ = plt.plot(np.array(blocks), np.nanmean(e, axis=(1, 2)), marker=\"o\")\n",
    "_ = plt.xlabel(\"Number of blocks\", size=15)\n",
    "_ = plt.ylabel(\"FES error (kT)\", size=15)"
   ]
  },
  {
   "cell_type": "markdown",
   "id": "0cdea64c-85e5-475a-869b-53ab8c087536",
   "metadata": {},
   "source": [
    "From the previous plot you can see which is the adequate number of blocks that low but still gives you the plateauing (or highest) error."
   ]
  },
  {
   "cell_type": "code",
   "execution_count": null,
   "id": "9718d087-a494-4ab4-8cd9-6b212685982b",
   "metadata": {
    "tags": []
   },
   "outputs": [],
   "source": [
    "number_blocks = 8\n",
    "f_max = 20\n",
    "e_max = 6\n",
    "e_min = 1.0e-03\n",
    "\n",
    "e = errors[blocks.index(number_blocks)].copy()\n",
    "e[e > e_max] = np.nan\n",
    "e[e <= e_min] = np.nan\n",
    "\n",
    "fig, ax = plt.subplots(1, 2, figsize=(10 * 2, 7), sharex=True, sharey=True)\n",
    "_ = my_msm.plot_2D_heatmap(\n",
    "    F,\n",
    "    extent,\n",
    "    f_max=20,\n",
    "    cbar_label=\"Free Energy (kT)\",\n",
    "    xlabel=\"SF (nm)\",\n",
    "    ylabel=\"IG (nm)\",\n",
    "    fig=fig,\n",
    "    ax=ax[0],\n",
    ")\n",
    "_ = my_msm.plot_2D_heatmap(\n",
    "    e,\n",
    "    extent,\n",
    "    f_max=e_max,\n",
    "    cbar_label=\"FES Uncertainty (kT)\",\n",
    "    xlabel=\"SF (nm)\",\n",
    "    cmap=plt.cm.viridis_r,\n",
    "    fig=fig,\n",
    "    ax=ax[1],\n",
    ")\n",
    "ax[1].set_title(\"Bootstrap Error (95%)\")\n",
    "fig.tight_layout()\n",
    "fig.savefig(path_report + \"FES_error.png\")"
   ]
  },
  {
   "cell_type": "code",
   "execution_count": null,
   "id": "4e0d3a36-cd02-4bd6-aa3a-b13f6c7534a7",
   "metadata": {},
   "outputs": [],
   "source": []
  },
  {
   "cell_type": "code",
   "execution_count": null,
   "id": "3d6e33c9-0df6-45f5-a181-3ca5aa5a3726",
   "metadata": {},
   "outputs": [],
   "source": []
  },
  {
   "cell_type": "code",
   "execution_count": null,
   "id": "inappropriate-sunday",
   "metadata": {},
   "outputs": [],
   "source": []
  },
  {
   "cell_type": "code",
   "execution_count": null,
   "id": "electric-gentleman",
   "metadata": {},
   "outputs": [],
   "source": []
  },
  {
   "cell_type": "code",
   "execution_count": null,
   "id": "written-compensation",
   "metadata": {},
   "outputs": [],
   "source": []
  },
  {
   "cell_type": "code",
   "execution_count": null,
   "id": "welsh-investment",
   "metadata": {},
   "outputs": [],
   "source": []
  },
  {
   "cell_type": "code",
   "execution_count": null,
   "id": "directed-chile",
   "metadata": {},
   "outputs": [],
   "source": []
  },
  {
   "cell_type": "code",
   "execution_count": null,
   "id": "automated-longer",
   "metadata": {},
   "outputs": [],
   "source": []
  },
  {
   "cell_type": "code",
   "execution_count": null,
   "id": "ecological-metropolitan",
   "metadata": {},
   "outputs": [],
   "source": []
  },
  {
   "cell_type": "code",
   "execution_count": null,
   "id": "initial-synthesis",
   "metadata": {},
   "outputs": [],
   "source": []
  },
  {
   "cell_type": "code",
   "execution_count": null,
   "id": "efficient-turtle",
   "metadata": {},
   "outputs": [],
   "source": []
  },
  {
   "cell_type": "code",
   "execution_count": null,
   "id": "bearing-bangkok",
   "metadata": {},
   "outputs": [],
   "source": []
  },
  {
   "cell_type": "code",
   "execution_count": null,
   "id": "mathematical-arrest",
   "metadata": {},
   "outputs": [],
   "source": []
  }
 ],
 "metadata": {
  "kernelspec": {
   "display_name": "Python 3",
   "language": "python",
   "name": "python3"
  },
  "language_info": {
   "codemirror_mode": {
    "name": "ipython",
    "version": 3
   },
   "file_extension": ".py",
   "mimetype": "text/x-python",
   "name": "python",
   "nbconvert_exporter": "python",
   "pygments_lexer": "ipython3",
   "version": "3.8.5"
  },
  "widgets": {
   "application/vnd.jupyter.widget-state+json": {
    "state": {
     "00c30b75a2a14931a57fe1d77d34ab2d": {
      "model_module": "@jupyter-widgets/controls",
      "model_module_version": "1.5.0",
      "model_name": "DescriptionStyleModel",
      "state": {
       "description_width": ""
      }
     },
     "0313777d4ab5479891ee02f5b62ff01d": {
      "model_module": "@jupyter-widgets/base",
      "model_module_version": "1.2.0",
      "model_name": "LayoutModel",
      "state": {}
     },
     "05a65ca5a6f1498d922892787940891f": {
      "model_module": "@jupyter-widgets/base",
      "model_module_version": "1.2.0",
      "model_name": "LayoutModel",
      "state": {}
     },
     "06f840cc2312404d9603a47ca22c222a": {
      "model_module": "@jupyter-widgets/base",
      "model_module_version": "1.2.0",
      "model_name": "LayoutModel",
      "state": {}
     },
     "0a71610c790f48ba9e12cd5a4d0686e2": {
      "model_module": "@jupyter-widgets/base",
      "model_module_version": "1.2.0",
      "model_name": "LayoutModel",
      "state": {}
     },
     "0ac19bd582c54ec2a941c2f1c5c342c6": {
      "model_module": "@jupyter-widgets/base",
      "model_module_version": "1.2.0",
      "model_name": "LayoutModel",
      "state": {}
     },
     "0cc584c3f8524b71a233c5aed0c2d9be": {
      "model_module": "@jupyter-widgets/controls",
      "model_module_version": "1.5.0",
      "model_name": "DescriptionStyleModel",
      "state": {
       "description_width": ""
      }
     },
     "0e194152a5704268b75bc85d00fa2661": {
      "model_module": "@jupyter-widgets/controls",
      "model_module_version": "1.5.0",
      "model_name": "FloatProgressModel",
      "state": {
       "bar_style": "success",
       "layout": "IPY_MODEL_2cf3d8b33c6e47f1a039f85408dad4ed",
       "max": 5,
       "style": "IPY_MODEL_8bb3f26fb335473ab3f3da296d7ae01c",
       "value": 5
      }
     },
     "1759a2b5f19a48329b6480ede1ecd2ff": {
      "model_module": "@jupyter-widgets/controls",
      "model_module_version": "1.5.0",
      "model_name": "DescriptionStyleModel",
      "state": {
       "description_width": ""
      }
     },
     "18074173e118469e8a138e2457f4954b": {
      "model_module": "@jupyter-widgets/controls",
      "model_module_version": "1.5.0",
      "model_name": "HTMLModel",
      "state": {
       "layout": "IPY_MODEL_05a65ca5a6f1498d922892787940891f",
       "style": "IPY_MODEL_3a027d9ae47d4f1b9ad353ecf49136e9",
       "value": "Loop over iterations:: 100%"
      }
     },
     "1bab45ecb2b243f5b8569123b7936c17": {
      "model_module": "@jupyter-widgets/controls",
      "model_module_version": "1.5.0",
      "model_name": "ProgressStyleModel",
      "state": {
       "description_width": ""
      }
     },
     "1cc0e5d178634bc98b144b2a633522aa": {
      "model_module": "@jupyter-widgets/controls",
      "model_module_version": "1.5.0",
      "model_name": "HTMLModel",
      "state": {
       "layout": "IPY_MODEL_80075b5a34d544e2908ddd1a0f3c0743",
       "style": "IPY_MODEL_e5e434be23ad4124b777b2f8e17b39d7",
       "value": "Loop over blocks: 100%"
      }
     },
     "1f4d7c4331dd4814937157333542c10c": {
      "model_module": "@jupyter-widgets/controls",
      "model_module_version": "1.5.0",
      "model_name": "FloatProgressModel",
      "state": {
       "layout": "IPY_MODEL_a2df59f7266a4ba9b1a6a70a9e5d8ba0",
       "max": 5,
       "style": "IPY_MODEL_3a5fd79847cb4d1b83e417f776c600cc",
       "value": 5
      }
     },
     "2229e8665222408ba73727161cf0e027": {
      "model_module": "@jupyter-widgets/controls",
      "model_module_version": "1.5.0",
      "model_name": "FloatProgressModel",
      "state": {
       "layout": "IPY_MODEL_7d562ae0b7834a7dbbf4905e1e8296f0",
       "max": 5,
       "style": "IPY_MODEL_5ba5399908c64e928c7e481c73fa2708",
       "value": 5
      }
     },
     "22697a0f73c349b5bf164ab91b1447de": {
      "model_module": "@jupyter-widgets/base",
      "model_module_version": "1.2.0",
      "model_name": "LayoutModel",
      "state": {}
     },
     "22f93693a3824565a965862e0a568293": {
      "model_module": "@jupyter-widgets/base",
      "model_module_version": "1.2.0",
      "model_name": "LayoutModel",
      "state": {}
     },
     "2398cd860caa46b9af18a699c39813ac": {
      "model_module": "@jupyter-widgets/controls",
      "model_module_version": "1.5.0",
      "model_name": "HTMLModel",
      "state": {
       "layout": "IPY_MODEL_d1107a79974843218dbedce05586e3e5",
       "style": "IPY_MODEL_e562930cc86b49e580f5a1374e9e109d",
       "value": "Loop over bootstraps: 100%"
      }
     },
     "25b84670511a4a56a459cca6c50299f1": {
      "model_module": "@jupyter-widgets/controls",
      "model_module_version": "1.5.0",
      "model_name": "DescriptionStyleModel",
      "state": {
       "description_width": ""
      }
     },
     "263713269d974c6ea6b2e1b02427abda": {
      "model_module": "@jupyter-widgets/base",
      "model_module_version": "1.2.0",
      "model_name": "LayoutModel",
      "state": {}
     },
     "27ed2ec4af524abaaab7dd7fc121716d": {
      "model_module": "@jupyter-widgets/controls",
      "model_module_version": "1.5.0",
      "model_name": "FloatProgressModel",
      "state": {
       "layout": "IPY_MODEL_7ca40c0182bc454dbe06306c8e0a830b",
       "max": 200,
       "style": "IPY_MODEL_ac93f110149d4d38833708451310ce13",
       "value": 200
      }
     },
     "2a82321c974f45f5bb4b236f7de60095": {
      "model_module": "@jupyter-widgets/base",
      "model_module_version": "1.2.0",
      "model_name": "LayoutModel",
      "state": {}
     },
     "2c17a359c39349a98dd1acc8182224b6": {
      "model_module": "@jupyter-widgets/base",
      "model_module_version": "1.2.0",
      "model_name": "LayoutModel",
      "state": {}
     },
     "2cf3d8b33c6e47f1a039f85408dad4ed": {
      "model_module": "@jupyter-widgets/base",
      "model_module_version": "1.2.0",
      "model_name": "LayoutModel",
      "state": {}
     },
     "2d40f38a5fca4ad394e76300120937f1": {
      "model_module": "@jupyter-widgets/controls",
      "model_module_version": "1.5.0",
      "model_name": "HTMLModel",
      "state": {
       "layout": "IPY_MODEL_824d7847b61047b082b0987bd1ead590",
       "style": "IPY_MODEL_35b6575fa0ba42fabaa99bad75a44545",
       "value": "Loop over k:: 100%"
      }
     },
     "2de81186c7764d58a1d2b4c20efb026f": {
      "model_module": "@jupyter-widgets/base",
      "model_module_version": "1.2.0",
      "model_name": "LayoutModel",
      "state": {}
     },
     "2f223d85adde4722aab3824c33451164": {
      "model_module": "@jupyter-widgets/controls",
      "model_module_version": "1.5.0",
      "model_name": "HTMLModel",
      "state": {
       "layout": "IPY_MODEL_b6255d44bcae4e5ba7128005ffb50154",
       "style": "IPY_MODEL_dba4df4426464801b9fa35d5f1fb02a6",
       "value": " 5/5 [00:18&lt;00:00,  3.64s/it]"
      }
     },
     "2ff56205a1384b62b74e4adc9b8aa958": {
      "model_module": "@jupyter-widgets/controls",
      "model_module_version": "1.5.0",
      "model_name": "FloatProgressModel",
      "state": {
       "bar_style": "success",
       "layout": "IPY_MODEL_7ed054cf7bb446988025500414ae0e24",
       "max": 8,
       "style": "IPY_MODEL_5abf17d81ee54a87ad7da68dbb8ea4f1",
       "value": 8
      }
     },
     "32ba1bbd6bf3415b94ee3d1f4506a920": {
      "model_module": "@jupyter-widgets/controls",
      "model_module_version": "1.5.0",
      "model_name": "DescriptionStyleModel",
      "state": {
       "description_width": ""
      }
     },
     "3475be7a1d1e443dbffc0365edad9830": {
      "model_module": "@jupyter-widgets/base",
      "model_module_version": "1.2.0",
      "model_name": "LayoutModel",
      "state": {}
     },
     "34d5fe4f20cc43eca3502dda412c0627": {
      "model_module": "@jupyter-widgets/controls",
      "model_module_version": "1.5.0",
      "model_name": "ProgressStyleModel",
      "state": {
       "description_width": ""
      }
     },
     "35621508d315471ab82465257a3458dc": {
      "model_module": "@jupyter-widgets/controls",
      "model_module_version": "1.5.0",
      "model_name": "ProgressStyleModel",
      "state": {
       "description_width": ""
      }
     },
     "35b6575fa0ba42fabaa99bad75a44545": {
      "model_module": "@jupyter-widgets/controls",
      "model_module_version": "1.5.0",
      "model_name": "DescriptionStyleModel",
      "state": {
       "description_width": ""
      }
     },
     "3a027d9ae47d4f1b9ad353ecf49136e9": {
      "model_module": "@jupyter-widgets/controls",
      "model_module_version": "1.5.0",
      "model_name": "DescriptionStyleModel",
      "state": {
       "description_width": ""
      }
     },
     "3a4c5bc5704b4cf58547f192dd68f47f": {
      "model_module": "@jupyter-widgets/base",
      "model_module_version": "1.2.0",
      "model_name": "LayoutModel",
      "state": {}
     },
     "3a5fd79847cb4d1b83e417f776c600cc": {
      "model_module": "@jupyter-widgets/controls",
      "model_module_version": "1.5.0",
      "model_name": "ProgressStyleModel",
      "state": {
       "description_width": ""
      }
     },
     "4bba592225e842d5a22932b45fe2d0f9": {
      "model_module": "@jupyter-widgets/controls",
      "model_module_version": "1.5.0",
      "model_name": "FloatProgressModel",
      "state": {
       "layout": "IPY_MODEL_b6099b5909554be3bef2f9d9c487cc2e",
       "max": 5,
       "style": "IPY_MODEL_7063a562f7f04d44a75d2843bb60f2ae",
       "value": 5
      }
     },
     "4ea9a78c23bb48bcad122548bc887fe8": {
      "model_module": "@jupyter-widgets/controls",
      "model_module_version": "1.5.0",
      "model_name": "DescriptionStyleModel",
      "state": {
       "description_width": ""
      }
     },
     "51d8cec172e2442d9d4f8c133fafbca6": {
      "model_module": "@jupyter-widgets/base",
      "model_module_version": "1.2.0",
      "model_name": "LayoutModel",
      "state": {}
     },
     "53d16177f1184605a3ec0d6377822f81": {
      "model_module": "@jupyter-widgets/controls",
      "model_module_version": "1.5.0",
      "model_name": "HBoxModel",
      "state": {
       "children": [
        "IPY_MODEL_2d40f38a5fca4ad394e76300120937f1",
        "IPY_MODEL_2ff56205a1384b62b74e4adc9b8aa958",
        "IPY_MODEL_b910a7b7aaf7442abf1c50d0bdb3f29b"
       ],
       "layout": "IPY_MODEL_fc70902d9e80400fa7a0201bfb7b9643"
      }
     },
     "55d866b7eb2d43eb96eebc2227b05b79": {
      "model_module": "@jupyter-widgets/controls",
      "model_module_version": "1.5.0",
      "model_name": "DescriptionStyleModel",
      "state": {
       "description_width": ""
      }
     },
     "57c409efeb7b43e59b0aeb028c0a82da": {
      "model_module": "@jupyter-widgets/base",
      "model_module_version": "1.2.0",
      "model_name": "LayoutModel",
      "state": {}
     },
     "57e4db9d4c44429888c5bc17235ab026": {
      "model_module": "@jupyter-widgets/controls",
      "model_module_version": "1.5.0",
      "model_name": "FloatProgressModel",
      "state": {
       "layout": "IPY_MODEL_94b69ddd48fa4a72aa75b999645141bb",
       "max": 200,
       "style": "IPY_MODEL_83f11f0c6dcc4cc3b56cce5c33b5a7c4",
       "value": 200
      }
     },
     "5870399f7edc4058b415e862650aafa2": {
      "model_module": "@jupyter-widgets/controls",
      "model_module_version": "1.5.0",
      "model_name": "HTMLModel",
      "state": {
       "layout": "IPY_MODEL_2a82321c974f45f5bb4b236f7de60095",
       "style": "IPY_MODEL_87702835eb9242688cbcdd1996e4fd45",
       "value": " 5/5 [00:18&lt;00:00,  3.83s/it]"
      }
     },
     "597157a02b00458f8d5f86e9b23298f0": {
      "model_module": "@jupyter-widgets/controls",
      "model_module_version": "1.5.0",
      "model_name": "DescriptionStyleModel",
      "state": {
       "description_width": ""
      }
     },
     "5abf17d81ee54a87ad7da68dbb8ea4f1": {
      "model_module": "@jupyter-widgets/controls",
      "model_module_version": "1.5.0",
      "model_name": "ProgressStyleModel",
      "state": {
       "description_width": ""
      }
     },
     "5b85a98e8d2546c0b4035796b7e9fe58": {
      "model_module": "@jupyter-widgets/controls",
      "model_module_version": "1.5.0",
      "model_name": "DescriptionStyleModel",
      "state": {
       "description_width": ""
      }
     },
     "5ba5399908c64e928c7e481c73fa2708": {
      "model_module": "@jupyter-widgets/controls",
      "model_module_version": "1.5.0",
      "model_name": "ProgressStyleModel",
      "state": {
       "description_width": ""
      }
     },
     "5e2753de4a5c4eb38560fd8f0fdc964f": {
      "model_module": "@jupyter-widgets/controls",
      "model_module_version": "1.5.0",
      "model_name": "DescriptionStyleModel",
      "state": {
       "description_width": ""
      }
     },
     "61c7722fd6d641c0a912dfb4baed696d": {
      "model_module": "@jupyter-widgets/controls",
      "model_module_version": "1.5.0",
      "model_name": "HTMLModel",
      "state": {
       "layout": "IPY_MODEL_a889a29639df4f7399c12fdeaa9203cb",
       "style": "IPY_MODEL_c169fb7fdd724949895b09893f33459e",
       "value": "Loop over iterations:: 100%"
      }
     },
     "61db5e7dde5c41a3a06520d567bdcec1": {
      "model_module": "@jupyter-widgets/controls",
      "model_module_version": "1.5.0",
      "model_name": "HTMLModel",
      "state": {
       "layout": "IPY_MODEL_263713269d974c6ea6b2e1b02427abda",
       "style": "IPY_MODEL_fd9be3b642414a21825c0ec3b6d1a79b",
       "value": "Loop over bootstraps: 100%"
      }
     },
     "65c33c7297104667bb8205743c3a1455": {
      "model_module": "@jupyter-widgets/base",
      "model_module_version": "1.2.0",
      "model_name": "LayoutModel",
      "state": {}
     },
     "67e3a9a5ae204776bbe6a0cd5755ee1e": {
      "model_module": "@jupyter-widgets/controls",
      "model_module_version": "1.5.0",
      "model_name": "FloatProgressModel",
      "state": {
       "layout": "IPY_MODEL_2c17a359c39349a98dd1acc8182224b6",
       "max": 5,
       "style": "IPY_MODEL_e1b08e55981f4c0eb4bc9bb06e831734",
       "value": 5
      }
     },
     "67f6c7b352b044518327657e4883d790": {
      "model_module": "@jupyter-widgets/controls",
      "model_module_version": "1.5.0",
      "model_name": "HTMLModel",
      "state": {
       "layout": "IPY_MODEL_cdf7596fc2d24f24b578831ab9a3bc28",
       "style": "IPY_MODEL_7af20fa87d3c4ab5aab44e46a2ff5ddc",
       "value": " 200/200 [1:36:04&lt;00:00, 28.29s/it]"
      }
     },
     "68f3e9fcf66a478293ccd4761bd54be0": {
      "model_module": "@jupyter-widgets/controls",
      "model_module_version": "1.5.0",
      "model_name": "FloatProgressModel",
      "state": {
       "layout": "IPY_MODEL_c2dd632844e24e39b67f75b97522249b",
       "max": 5,
       "style": "IPY_MODEL_34d5fe4f20cc43eca3502dda412c0627",
       "value": 5
      }
     },
     "6951e7d05c0348f98fe80cb939d821a4": {
      "model_module": "@jupyter-widgets/controls",
      "model_module_version": "1.5.0",
      "model_name": "DescriptionStyleModel",
      "state": {
       "description_width": ""
      }
     },
     "6d20693885444927b9065ead83350511": {
      "model_module": "@jupyter-widgets/controls",
      "model_module_version": "1.5.0",
      "model_name": "ProgressStyleModel",
      "state": {
       "description_width": ""
      }
     },
     "6d85c2fc7e81462d908db20990818005": {
      "model_module": "@jupyter-widgets/controls",
      "model_module_version": "1.5.0",
      "model_name": "HTMLModel",
      "state": {
       "layout": "IPY_MODEL_b747434e5da04c55a81fbf5c9a81706e",
       "style": "IPY_MODEL_4ea9a78c23bb48bcad122548bc887fe8",
       "value": "Loop over iterations:: 100%"
      }
     },
     "6d965847badf408fa67026de431be1b5": {
      "model_module": "@jupyter-widgets/controls",
      "model_module_version": "1.5.0",
      "model_name": "HTMLModel",
      "state": {
       "layout": "IPY_MODEL_c982ffedca2749ff8f2712a13bb0c476",
       "style": "IPY_MODEL_ab97ddddc72a4b80be5590fe9709a796",
       "value": " 200/200 [1:34:55&lt;00:00, 28.14s/it]"
      }
     },
     "6f188f28a24a4d73aca0427c7000258e": {
      "model_module": "@jupyter-widgets/base",
      "model_module_version": "1.2.0",
      "model_name": "LayoutModel",
      "state": {}
     },
     "6f8367f338be45f4b61043b1cdfdacc0": {
      "model_module": "@jupyter-widgets/base",
      "model_module_version": "1.2.0",
      "model_name": "LayoutModel",
      "state": {}
     },
     "7063a562f7f04d44a75d2843bb60f2ae": {
      "model_module": "@jupyter-widgets/controls",
      "model_module_version": "1.5.0",
      "model_name": "ProgressStyleModel",
      "state": {
       "description_width": ""
      }
     },
     "70dae6015b184df09a4db517bfb2abc4": {
      "model_module": "@jupyter-widgets/controls",
      "model_module_version": "1.5.0",
      "model_name": "ProgressStyleModel",
      "state": {
       "description_width": ""
      }
     },
     "7148e2c9dfd547d2b6554c5b5b7dd917": {
      "model_module": "@jupyter-widgets/base",
      "model_module_version": "1.2.0",
      "model_name": "LayoutModel",
      "state": {}
     },
     "7380dd3d06a34158a2c832c8874fd87e": {
      "model_module": "@jupyter-widgets/controls",
      "model_module_version": "1.5.0",
      "model_name": "HTMLModel",
      "state": {
       "layout": "IPY_MODEL_dce22e35d24048e58c57aee937d5b1e5",
       "style": "IPY_MODEL_cbf0f0c6c9b640d2b7e5475ff685ab48",
       "value": " 5/5 [00:45&lt;00:00,  9.09s/it]"
      }
     },
     "74411865948645ccb07d805a39d5c19d": {
      "model_module": "@jupyter-widgets/controls",
      "model_module_version": "1.5.0",
      "model_name": "DescriptionStyleModel",
      "state": {
       "description_width": ""
      }
     },
     "74f6eca6efca4b74ab459eb13567b5b0": {
      "model_module": "@jupyter-widgets/base",
      "model_module_version": "1.2.0",
      "model_name": "LayoutModel",
      "state": {}
     },
     "750bc07bf8594305b0bca79c889d55d1": {
      "model_module": "@jupyter-widgets/controls",
      "model_module_version": "1.5.0",
      "model_name": "HTMLModel",
      "state": {
       "layout": "IPY_MODEL_7148e2c9dfd547d2b6554c5b5b7dd917",
       "style": "IPY_MODEL_5e2753de4a5c4eb38560fd8f0fdc964f",
       "value": " 5/5 [00:18&lt;00:00,  3.59s/it]"
      }
     },
     "7513af4b32de4fa4bf1c88acb88d652c": {
      "model_module": "@jupyter-widgets/controls",
      "model_module_version": "1.5.0",
      "model_name": "HTMLModel",
      "state": {
       "layout": "IPY_MODEL_2de81186c7764d58a1d2b4c20efb026f",
       "style": "IPY_MODEL_1759a2b5f19a48329b6480ede1ecd2ff",
       "value": "Loop over iterations:: 100%"
      }
     },
     "7653c74e472f412098053c62470908eb": {
      "model_module": "@jupyter-widgets/base",
      "model_module_version": "1.2.0",
      "model_name": "LayoutModel",
      "state": {}
     },
     "7af20fa87d3c4ab5aab44e46a2ff5ddc": {
      "model_module": "@jupyter-widgets/controls",
      "model_module_version": "1.5.0",
      "model_name": "DescriptionStyleModel",
      "state": {
       "description_width": ""
      }
     },
     "7ca40c0182bc454dbe06306c8e0a830b": {
      "model_module": "@jupyter-widgets/base",
      "model_module_version": "1.2.0",
      "model_name": "LayoutModel",
      "state": {}
     },
     "7d562ae0b7834a7dbbf4905e1e8296f0": {
      "model_module": "@jupyter-widgets/base",
      "model_module_version": "1.2.0",
      "model_name": "LayoutModel",
      "state": {}
     },
     "7dfc70decf3145cdadb7a43ff52bd2ac": {
      "model_module": "@jupyter-widgets/base",
      "model_module_version": "1.2.0",
      "model_name": "LayoutModel",
      "state": {}
     },
     "7dff797ba52743f6be592ab830f61744": {
      "model_module": "@jupyter-widgets/base",
      "model_module_version": "1.2.0",
      "model_name": "LayoutModel",
      "state": {}
     },
     "7e57b3e782f54c04ab33608cfcb25f6c": {
      "model_module": "@jupyter-widgets/controls",
      "model_module_version": "1.5.0",
      "model_name": "FloatProgressModel",
      "state": {
       "layout": "IPY_MODEL_22697a0f73c349b5bf164ab91b1447de",
       "max": 5,
       "style": "IPY_MODEL_70dae6015b184df09a4db517bfb2abc4",
       "value": 5
      }
     },
     "7ed054cf7bb446988025500414ae0e24": {
      "model_module": "@jupyter-widgets/base",
      "model_module_version": "1.2.0",
      "model_name": "LayoutModel",
      "state": {}
     },
     "80075b5a34d544e2908ddd1a0f3c0743": {
      "model_module": "@jupyter-widgets/base",
      "model_module_version": "1.2.0",
      "model_name": "LayoutModel",
      "state": {}
     },
     "81fcbb8b55de49b78364a3bde2f2ebfd": {
      "model_module": "@jupyter-widgets/base",
      "model_module_version": "1.2.0",
      "model_name": "LayoutModel",
      "state": {}
     },
     "824d7847b61047b082b0987bd1ead590": {
      "model_module": "@jupyter-widgets/base",
      "model_module_version": "1.2.0",
      "model_name": "LayoutModel",
      "state": {}
     },
     "83f11f0c6dcc4cc3b56cce5c33b5a7c4": {
      "model_module": "@jupyter-widgets/controls",
      "model_module_version": "1.5.0",
      "model_name": "ProgressStyleModel",
      "state": {
       "description_width": ""
      }
     },
     "87702835eb9242688cbcdd1996e4fd45": {
      "model_module": "@jupyter-widgets/controls",
      "model_module_version": "1.5.0",
      "model_name": "DescriptionStyleModel",
      "state": {
       "description_width": ""
      }
     },
     "87723632d0c14adfb12b40f04fec20e5": {
      "model_module": "@jupyter-widgets/base",
      "model_module_version": "1.2.0",
      "model_name": "LayoutModel",
      "state": {}
     },
     "8bb3f26fb335473ab3f3da296d7ae01c": {
      "model_module": "@jupyter-widgets/controls",
      "model_module_version": "1.5.0",
      "model_name": "ProgressStyleModel",
      "state": {
       "description_width": ""
      }
     },
     "8c96914646f44c10b8c82fcdd81531af": {
      "model_module": "@jupyter-widgets/base",
      "model_module_version": "1.2.0",
      "model_name": "LayoutModel",
      "state": {}
     },
     "939dd43c0b2b417a93dbcb83822ebe33": {
      "model_module": "@jupyter-widgets/controls",
      "model_module_version": "1.5.0",
      "model_name": "HBoxModel",
      "state": {
       "children": [
        "IPY_MODEL_1cc0e5d178634bc98b144b2a633522aa",
        "IPY_MODEL_0e194152a5704268b75bc85d00fa2661",
        "IPY_MODEL_ad743c6e8e124b05982cf34cfe8fd76b"
       ],
       "layout": "IPY_MODEL_fff3289d8ca249188aec41988bec75fb"
      }
     },
     "94b69ddd48fa4a72aa75b999645141bb": {
      "model_module": "@jupyter-widgets/base",
      "model_module_version": "1.2.0",
      "model_name": "LayoutModel",
      "state": {}
     },
     "94bd5accf45047679e644d142fe8a6e8": {
      "model_module": "@jupyter-widgets/controls",
      "model_module_version": "1.5.0",
      "model_name": "HTMLModel",
      "state": {
       "layout": "IPY_MODEL_81fcbb8b55de49b78364a3bde2f2ebfd",
       "style": "IPY_MODEL_c00f1e9614ef4ac6b93972ca9ce17fbc",
       "value": " 5/5 [00:22&lt;00:00,  4.50s/it]"
      }
     },
     "94fe396441684e8885cfeb8f1d5d9651": {
      "model_module": "@jupyter-widgets/base",
      "model_module_version": "1.2.0",
      "model_name": "LayoutModel",
      "state": {}
     },
     "95c04428e5584a048e5fecd7d559256e": {
      "model_module": "@jupyter-widgets/base",
      "model_module_version": "1.2.0",
      "model_name": "LayoutModel",
      "state": {}
     },
     "97d51e1c0734426ea79e0954dc938665": {
      "model_module": "@jupyter-widgets/controls",
      "model_module_version": "1.5.0",
      "model_name": "DescriptionStyleModel",
      "state": {
       "description_width": ""
      }
     },
     "9ab0f1105d5d4e7fb339d1fe3c332154": {
      "model_module": "@jupyter-widgets/base",
      "model_module_version": "1.2.0",
      "model_name": "LayoutModel",
      "state": {}
     },
     "9dbe2e04f270425cbb0e85c8490452ab": {
      "model_module": "@jupyter-widgets/controls",
      "model_module_version": "1.5.0",
      "model_name": "FloatProgressModel",
      "state": {
       "layout": "IPY_MODEL_9ab0f1105d5d4e7fb339d1fe3c332154",
       "max": 200,
       "style": "IPY_MODEL_d2d6ee8133d34fa3b7ff7b8eab45aca5",
       "value": 200
      }
     },
     "9f2e89c881754e9d9c3664d09404b506": {
      "model_module": "@jupyter-widgets/controls",
      "model_module_version": "1.5.0",
      "model_name": "HTMLModel",
      "state": {
       "layout": "IPY_MODEL_22f93693a3824565a965862e0a568293",
       "style": "IPY_MODEL_00c30b75a2a14931a57fe1d77d34ab2d",
       "value": " 5/5 [00:20&lt;00:00,  4.03s/it]"
      }
     },
     "a2a4aa08e57d488dbcb50c01979a948e": {
      "model_module": "@jupyter-widgets/controls",
      "model_module_version": "1.5.0",
      "model_name": "FloatProgressModel",
      "state": {
       "layout": "IPY_MODEL_7653c74e472f412098053c62470908eb",
       "max": 5,
       "style": "IPY_MODEL_1bab45ecb2b243f5b8569123b7936c17",
       "value": 5
      }
     },
     "a2df59f7266a4ba9b1a6a70a9e5d8ba0": {
      "model_module": "@jupyter-widgets/base",
      "model_module_version": "1.2.0",
      "model_name": "LayoutModel",
      "state": {}
     },
     "a7795a7d6b4640f1bac3878e715579d5": {
      "model_module": "@jupyter-widgets/controls",
      "model_module_version": "1.5.0",
      "model_name": "HTMLModel",
      "state": {
       "layout": "IPY_MODEL_57c409efeb7b43e59b0aeb028c0a82da",
       "style": "IPY_MODEL_ad46149c0b37471fa174970bdc2e862e",
       "value": " 5/5 [00:21&lt;00:00,  4.28s/it]"
      }
     },
     "a821fa114164469a9cad002cf3cc60bf": {
      "model_module": "@jupyter-widgets/controls",
      "model_module_version": "1.5.0",
      "model_name": "FloatProgressModel",
      "state": {
       "layout": "IPY_MODEL_c1dac78c27b9452a84cb15e14d72453b",
       "max": 5,
       "style": "IPY_MODEL_6d20693885444927b9065ead83350511",
       "value": 5
      }
     },
     "a889a29639df4f7399c12fdeaa9203cb": {
      "model_module": "@jupyter-widgets/base",
      "model_module_version": "1.2.0",
      "model_name": "LayoutModel",
      "state": {}
     },
     "a8fa95a2c433488ca3739aa19e940062": {
      "model_module": "@jupyter-widgets/controls",
      "model_module_version": "1.5.0",
      "model_name": "HTMLModel",
      "state": {
       "layout": "IPY_MODEL_65c33c7297104667bb8205743c3a1455",
       "style": "IPY_MODEL_55d866b7eb2d43eb96eebc2227b05b79",
       "value": "Loop over iterations:: 100%"
      }
     },
     "a903b78b1a8e478f900d4ede6ccd56e4": {
      "model_module": "@jupyter-widgets/base",
      "model_module_version": "1.2.0",
      "model_name": "LayoutModel",
      "state": {}
     },
     "aa1e04ff69e940378cc9619781cea409": {
      "model_module": "@jupyter-widgets/base",
      "model_module_version": "1.2.0",
      "model_name": "LayoutModel",
      "state": {}
     },
     "ab97ddddc72a4b80be5590fe9709a796": {
      "model_module": "@jupyter-widgets/controls",
      "model_module_version": "1.5.0",
      "model_name": "DescriptionStyleModel",
      "state": {
       "description_width": ""
      }
     },
     "ac93f110149d4d38833708451310ce13": {
      "model_module": "@jupyter-widgets/controls",
      "model_module_version": "1.5.0",
      "model_name": "ProgressStyleModel",
      "state": {
       "description_width": ""
      }
     },
     "ad46149c0b37471fa174970bdc2e862e": {
      "model_module": "@jupyter-widgets/controls",
      "model_module_version": "1.5.0",
      "model_name": "DescriptionStyleModel",
      "state": {
       "description_width": ""
      }
     },
     "ad743c6e8e124b05982cf34cfe8fd76b": {
      "model_module": "@jupyter-widgets/controls",
      "model_module_version": "1.5.0",
      "model_name": "HTMLModel",
      "state": {
       "layout": "IPY_MODEL_c351b4304103433ba18f0ae4f6cf88cb",
       "style": "IPY_MODEL_6951e7d05c0348f98fe80cb939d821a4",
       "value": " 5/5 [7:55:45&lt;00:00, 5703.78s/it]"
      }
     },
     "b6099b5909554be3bef2f9d9c487cc2e": {
      "model_module": "@jupyter-widgets/base",
      "model_module_version": "1.2.0",
      "model_name": "LayoutModel",
      "state": {}
     },
     "b6255d44bcae4e5ba7128005ffb50154": {
      "model_module": "@jupyter-widgets/base",
      "model_module_version": "1.2.0",
      "model_name": "LayoutModel",
      "state": {}
     },
     "b747434e5da04c55a81fbf5c9a81706e": {
      "model_module": "@jupyter-widgets/base",
      "model_module_version": "1.2.0",
      "model_name": "LayoutModel",
      "state": {}
     },
     "b910a7b7aaf7442abf1c50d0bdb3f29b": {
      "model_module": "@jupyter-widgets/controls",
      "model_module_version": "1.5.0",
      "model_name": "HTMLModel",
      "state": {
       "layout": "IPY_MODEL_be5156e269614a5c9b7a49a5c8cf0ca7",
       "style": "IPY_MODEL_97d51e1c0734426ea79e0954dc938665",
       "value": " 8/8 [03:13&lt;00:00, 20.05s/it]"
      }
     },
     "b9b5e2b9ff834357a13f727fad405dfe": {
      "model_module": "@jupyter-widgets/base",
      "model_module_version": "1.2.0",
      "model_name": "LayoutModel",
      "state": {}
     },
     "bc5ee150206043629f25ce20aa28f98c": {
      "model_module": "@jupyter-widgets/controls",
      "model_module_version": "1.5.0",
      "model_name": "DescriptionStyleModel",
      "state": {
       "description_width": ""
      }
     },
     "be5156e269614a5c9b7a49a5c8cf0ca7": {
      "model_module": "@jupyter-widgets/base",
      "model_module_version": "1.2.0",
      "model_name": "LayoutModel",
      "state": {}
     },
     "bfe205a9f65e4b42b2e264886b98cc34": {
      "model_module": "@jupyter-widgets/controls",
      "model_module_version": "1.5.0",
      "model_name": "DescriptionStyleModel",
      "state": {
       "description_width": ""
      }
     },
     "c00f1e9614ef4ac6b93972ca9ce17fbc": {
      "model_module": "@jupyter-widgets/controls",
      "model_module_version": "1.5.0",
      "model_name": "DescriptionStyleModel",
      "state": {
       "description_width": ""
      }
     },
     "c169fb7fdd724949895b09893f33459e": {
      "model_module": "@jupyter-widgets/controls",
      "model_module_version": "1.5.0",
      "model_name": "DescriptionStyleModel",
      "state": {
       "description_width": ""
      }
     },
     "c1dac78c27b9452a84cb15e14d72453b": {
      "model_module": "@jupyter-widgets/base",
      "model_module_version": "1.2.0",
      "model_name": "LayoutModel",
      "state": {}
     },
     "c2dd632844e24e39b67f75b97522249b": {
      "model_module": "@jupyter-widgets/base",
      "model_module_version": "1.2.0",
      "model_name": "LayoutModel",
      "state": {}
     },
     "c351b4304103433ba18f0ae4f6cf88cb": {
      "model_module": "@jupyter-widgets/base",
      "model_module_version": "1.2.0",
      "model_name": "LayoutModel",
      "state": {}
     },
     "c43c9f0693e347e5b5c4d99b8212a17d": {
      "model_module": "@jupyter-widgets/controls",
      "model_module_version": "1.5.0",
      "model_name": "FloatProgressModel",
      "state": {
       "layout": "IPY_MODEL_3475be7a1d1e443dbffc0365edad9830",
       "max": 200,
       "style": "IPY_MODEL_c992360ef2d24f0db8f438e72cb2ecee",
       "value": 200
      }
     },
     "c8bd197c2e0a412590efa544326cf867": {
      "model_module": "@jupyter-widgets/controls",
      "model_module_version": "1.5.0",
      "model_name": "HTMLModel",
      "state": {
       "layout": "IPY_MODEL_3a4c5bc5704b4cf58547f192dd68f47f",
       "style": "IPY_MODEL_5b85a98e8d2546c0b4035796b7e9fe58",
       "value": "Loop over iterations:: 100%"
      }
     },
     "c9040cc5ca964bd6b80c96591d12ffec": {
      "model_module": "@jupyter-widgets/controls",
      "model_module_version": "1.5.0",
      "model_name": "HTMLModel",
      "state": {
       "layout": "IPY_MODEL_7dff797ba52743f6be592ab830f61744",
       "style": "IPY_MODEL_32ba1bbd6bf3415b94ee3d1f4506a920",
       "value": "Loop over iterations:: 100%"
      }
     },
     "c982ffedca2749ff8f2712a13bb0c476": {
      "model_module": "@jupyter-widgets/base",
      "model_module_version": "1.2.0",
      "model_name": "LayoutModel",
      "state": {}
     },
     "c992360ef2d24f0db8f438e72cb2ecee": {
      "model_module": "@jupyter-widgets/controls",
      "model_module_version": "1.5.0",
      "model_name": "ProgressStyleModel",
      "state": {
       "description_width": ""
      }
     },
     "ca3cd6a077cd45f8acf7f7da2cc6b600": {
      "model_module": "@jupyter-widgets/base",
      "model_module_version": "1.2.0",
      "model_name": "LayoutModel",
      "state": {}
     },
     "cbf0f0c6c9b640d2b7e5475ff685ab48": {
      "model_module": "@jupyter-widgets/controls",
      "model_module_version": "1.5.0",
      "model_name": "DescriptionStyleModel",
      "state": {
       "description_width": ""
      }
     },
     "cdf7596fc2d24f24b578831ab9a3bc28": {
      "model_module": "@jupyter-widgets/base",
      "model_module_version": "1.2.0",
      "model_name": "LayoutModel",
      "state": {}
     },
     "cef02da1d2554ff3beb156bb29ccaebb": {
      "model_module": "@jupyter-widgets/base",
      "model_module_version": "1.2.0",
      "model_name": "LayoutModel",
      "state": {}
     },
     "d1107a79974843218dbedce05586e3e5": {
      "model_module": "@jupyter-widgets/base",
      "model_module_version": "1.2.0",
      "model_name": "LayoutModel",
      "state": {}
     },
     "d1a814d07999406d8890e09e5a5b2791": {
      "model_module": "@jupyter-widgets/base",
      "model_module_version": "1.2.0",
      "model_name": "LayoutModel",
      "state": {}
     },
     "d2d6ee8133d34fa3b7ff7b8eab45aca5": {
      "model_module": "@jupyter-widgets/controls",
      "model_module_version": "1.5.0",
      "model_name": "ProgressStyleModel",
      "state": {
       "description_width": ""
      }
     },
     "d7463c18a90046a5be19ec395d9528c6": {
      "model_module": "@jupyter-widgets/controls",
      "model_module_version": "1.5.0",
      "model_name": "HTMLModel",
      "state": {
       "layout": "IPY_MODEL_87723632d0c14adfb12b40f04fec20e5",
       "style": "IPY_MODEL_bc5ee150206043629f25ce20aa28f98c",
       "value": " 200/200 [1:35:12&lt;00:00, 28.47s/it]"
      }
     },
     "d8798e8072bf46a0a15accfb4b5be97b": {
      "model_module": "@jupyter-widgets/controls",
      "model_module_version": "1.5.0",
      "model_name": "HTMLModel",
      "state": {
       "layout": "IPY_MODEL_0ac19bd582c54ec2a941c2f1c5c342c6",
       "style": "IPY_MODEL_25b84670511a4a56a459cca6c50299f1",
       "value": "Loop over bootstraps: 100%"
      }
     },
     "d9ce5aef71204ecf91df198c6ada9ca4": {
      "model_module": "@jupyter-widgets/controls",
      "model_module_version": "1.5.0",
      "model_name": "HTMLModel",
      "state": {
       "layout": "IPY_MODEL_f94b608ed6d34ebea56e1a06c0cff0ed",
       "style": "IPY_MODEL_f36b6c900e1d4915b47919d6f2681de8",
       "value": "Loop over bootstraps: 100%"
      }
     },
     "dba4df4426464801b9fa35d5f1fb02a6": {
      "model_module": "@jupyter-widgets/controls",
      "model_module_version": "1.5.0",
      "model_name": "DescriptionStyleModel",
      "state": {
       "description_width": ""
      }
     },
     "dce22e35d24048e58c57aee937d5b1e5": {
      "model_module": "@jupyter-widgets/base",
      "model_module_version": "1.2.0",
      "model_name": "LayoutModel",
      "state": {}
     },
     "e1b08e55981f4c0eb4bc9bb06e831734": {
      "model_module": "@jupyter-widgets/controls",
      "model_module_version": "1.5.0",
      "model_name": "ProgressStyleModel",
      "state": {
       "description_width": ""
      }
     },
     "e20c0a06c56f451d9b981c6b10390445": {
      "model_module": "@jupyter-widgets/controls",
      "model_module_version": "1.5.0",
      "model_name": "HTMLModel",
      "state": {
       "layout": "IPY_MODEL_74f6eca6efca4b74ab459eb13567b5b0",
       "style": "IPY_MODEL_bfe205a9f65e4b42b2e264886b98cc34",
       "value": " 5/5 [00:28&lt;00:00,  5.62s/it]"
      }
     },
     "e2762e95c9c446ba92bc046fa5dab081": {
      "model_module": "@jupyter-widgets/controls",
      "model_module_version": "1.5.0",
      "model_name": "DescriptionStyleModel",
      "state": {
       "description_width": ""
      }
     },
     "e562930cc86b49e580f5a1374e9e109d": {
      "model_module": "@jupyter-widgets/controls",
      "model_module_version": "1.5.0",
      "model_name": "DescriptionStyleModel",
      "state": {
       "description_width": ""
      }
     },
     "e5e434be23ad4124b777b2f8e17b39d7": {
      "model_module": "@jupyter-widgets/controls",
      "model_module_version": "1.5.0",
      "model_name": "DescriptionStyleModel",
      "state": {
       "description_width": ""
      }
     },
     "ed64d9d251054e5cb1c90655086eb336": {
      "model_module": "@jupyter-widgets/controls",
      "model_module_version": "1.5.0",
      "model_name": "FloatProgressModel",
      "state": {
       "layout": "IPY_MODEL_6f188f28a24a4d73aca0427c7000258e",
       "max": 200,
       "style": "IPY_MODEL_35621508d315471ab82465257a3458dc",
       "value": 200
      }
     },
     "f36b6c900e1d4915b47919d6f2681de8": {
      "model_module": "@jupyter-widgets/controls",
      "model_module_version": "1.5.0",
      "model_name": "DescriptionStyleModel",
      "state": {
       "description_width": ""
      }
     },
     "f440432bb4bc4b29b4f295eb7b109fdf": {
      "model_module": "@jupyter-widgets/controls",
      "model_module_version": "1.5.0",
      "model_name": "HTMLModel",
      "state": {
       "layout": "IPY_MODEL_f78272e2c37a40138c73ad548d40d118",
       "style": "IPY_MODEL_74411865948645ccb07d805a39d5c19d",
       "value": "Loop over iterations:: 100%"
      }
     },
     "f4e06d5748554cc9a090ea57333aa61d": {
      "model_module": "@jupyter-widgets/controls",
      "model_module_version": "1.5.0",
      "model_name": "HTMLModel",
      "state": {
       "layout": "IPY_MODEL_f64efd354a0e4b92821c87b3fc3e8b83",
       "style": "IPY_MODEL_597157a02b00458f8d5f86e9b23298f0",
       "value": " 200/200 [1:34:44&lt;00:00, 28.62s/it]"
      }
     },
     "f64efd354a0e4b92821c87b3fc3e8b83": {
      "model_module": "@jupyter-widgets/base",
      "model_module_version": "1.2.0",
      "model_name": "LayoutModel",
      "state": {}
     },
     "f78272e2c37a40138c73ad548d40d118": {
      "model_module": "@jupyter-widgets/base",
      "model_module_version": "1.2.0",
      "model_name": "LayoutModel",
      "state": {}
     },
     "f7f84a984ebc48c19b4e574b0d46dd46": {
      "model_module": "@jupyter-widgets/controls",
      "model_module_version": "1.5.0",
      "model_name": "HTMLModel",
      "state": {
       "layout": "IPY_MODEL_0313777d4ab5479891ee02f5b62ff01d",
       "style": "IPY_MODEL_e2762e95c9c446ba92bc046fa5dab081",
       "value": "Loop over bootstraps: 100%"
      }
     },
     "f94b608ed6d34ebea56e1a06c0cff0ed": {
      "model_module": "@jupyter-widgets/base",
      "model_module_version": "1.2.0",
      "model_name": "LayoutModel",
      "state": {}
     },
     "fc70902d9e80400fa7a0201bfb7b9643": {
      "model_module": "@jupyter-widgets/base",
      "model_module_version": "1.2.0",
      "model_name": "LayoutModel",
      "state": {}
     },
     "fd9be3b642414a21825c0ec3b6d1a79b": {
      "model_module": "@jupyter-widgets/controls",
      "model_module_version": "1.5.0",
      "model_name": "DescriptionStyleModel",
      "state": {
       "description_width": ""
      }
     },
     "ff97ec49a48e4932a6e60e5a0beb9502": {
      "model_module": "@jupyter-widgets/controls",
      "model_module_version": "1.5.0",
      "model_name": "HTMLModel",
      "state": {
       "layout": "IPY_MODEL_aa1e04ff69e940378cc9619781cea409",
       "style": "IPY_MODEL_0cc584c3f8524b71a233c5aed0c2d9be",
       "value": " 200/200 [1:34:47&lt;00:00, 28.46s/it]"
      }
     },
     "fff3289d8ca249188aec41988bec75fb": {
      "model_module": "@jupyter-widgets/base",
      "model_module_version": "1.2.0",
      "model_name": "LayoutModel",
      "state": {}
     }
    },
    "version_major": 2,
    "version_minor": 0
   }
  }
 },
 "nbformat": 4,
 "nbformat_minor": 5
}
