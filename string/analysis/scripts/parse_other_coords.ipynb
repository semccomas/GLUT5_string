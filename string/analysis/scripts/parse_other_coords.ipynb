{
 "cells": [
  {
   "cell_type": "markdown",
   "id": "underlying-upper",
   "metadata": {},
   "source": [
    "The point of this script is to gather all the ways that we could make numpy arrays for FES calculations. Generally, these take quite a long time and only need to be run once.\n",
    "\n",
    "This is loosely based on `parse_gate_COM.py` and `gate_COM_xvg.sh` which I used in previous string sims to get the gate COM out of string sims using other CVs\n",
    "\n",
    "\n",
    "**The shape of these CVs must be**: `(n_iterations*n_swarms_per_iter*n_beads, n_frames_per_iter, n_cvs)`\n",
    "\n",
    "In the first dimension, this is also organized in a certain way... Iteration by iteration, then bead by bead, then swarm by swarm\n",
    "\n",
    "ex: 20 iterations, 10 beads, 3 swarms/ bead = (600,2,2) for 2 cvs\n",
    "\n",
    "iteration1, bead1, swarm1\n",
    "\n",
    "iteration1, bead1, swarm2...\n",
    "\n",
    "iteration19, bead10, swarm3\n",
    "\n",
    "iteration20, bead1, swarm1,\n",
    "\n",
    "iteration20, bead1, swarm2\n",
    "\n",
    "---\n",
    "\n",
    "Generally, we have been using 16 beads, with 2 fixed ends, so the calculated CVs will be for **14 beads**, and we have also used **32 swarms**\n",
    "\n",
    "\n",
    "Files are formatted as: `md/$iteration/$bead/$swarm/traj_comp.xtc`\n",
    "\n",
    "Thankfully, these xtc files should already be 2 frames only, so `n_frames_per_iter` should stay as 2\n",
    "\n",
    "---\n",
    "\n",
    "\n",
    "The calculations possible are:\n",
    "- Salt bridge distances\n",
    "- Using Darko's CVs"
   ]
  },
  {
   "cell_type": "code",
   "execution_count": 1,
   "id": "amino-healthcare",
   "metadata": {},
   "outputs": [],
   "source": [
    "import numpy as np"
   ]
  },
  {
   "cell_type": "markdown",
   "id": "stainless-swift",
   "metadata": {},
   "source": [
    "# Salt bridges\n",
    "\n",
    "Salt bridge contacts in the simulations are:\n",
    "\n",
    "**Bridge 1**:\n",
    "  - E145+R91 always in contact, OF or IF (N term, TM 4 and 3) ( = E151,R97,R407 in paper)\n",
    "  - R401 contacts when OF (TM11)\n",
    "  \n",
    "  \n",
    "**Bridge 2:**\n",
    "  - R334+E394 always in contact, OF or IF (C term, TM9 and 10) ( = R340,E400,E336,R158 in paper)\n",
    "  - R152 contacts when OF(TM5)\n",
    "  - E330 is on TM 8, might also coordinate\n",
    "  "
   ]
  },
  {
   "cell_type": "markdown",
   "id": "boolean-medicaid",
   "metadata": {},
   "source": [
    " "
   ]
  },
  {
   "cell_type": "markdown",
   "id": "greek-telephone",
   "metadata": {},
   "source": [
    " "
   ]
  },
  {
   "cell_type": "markdown",
   "id": "regulated-thunder",
   "metadata": {},
   "source": [
    " "
   ]
  },
  {
   "cell_type": "markdown",
   "id": "superb-panel",
   "metadata": {},
   "source": [
    " "
   ]
  },
  {
   "cell_type": "markdown",
   "id": "verified-knight",
   "metadata": {},
   "source": [
    "# Darko's contacts\n",
    "\n",
    "\n",
    "Here we load the original np arrays, parse out which frames we are going to read (so that it matches MSM), and then multiply each cv by their score\n",
    "\n",
    "\n",
    "Also, need to shape it as the MSM dictates, so:\n",
    "`(n_iterations*n_swarms_per_iter*n_beads, n_frames_per_iter, n_cvs)`\n",
    "\n",
    "This requires that you take every other frame from the cv and then vstack them together, so this is why I did this"
   ]
  },
  {
   "cell_type": "code",
   "execution_count": 2,
   "id": "grand-subject",
   "metadata": {},
   "outputs": [],
   "source": [
    "scores_cv1 = {'OUTWARD_OPEN':[0.2394941214441451, 0.17863718195954076, 0.22829366907512316,\\\n",
    "                              0.19946214152438158, 0.15411288599680942],\n",
    "\n",
    "             'OUTWARD_OCCLUDED':[0.36805920033218326, 0.2764556145667593, 0.3554851851010575],\n",
    "\n",
    "             'INWARD_OCCLUDED':[0.488214651736396, 0.5117853482636041]}\n",
    "\n",
    "\n",
    "scores_cv2 = {'OUTWARD_OPEN':[0.2229487221925901, 0.22352902476893688, 0.1541859413566841, \\\n",
    "                              0.15980437637399936, 0.23953193530778957],\n",
    "\n",
    "             'OUTWARD_OCCLUDED':[0.140953252458209, 0.1772870039340966, 0.13652678227951054, \\\n",
    "                                 0.116917466261338, 0.11464804932410656, 0.17362681856969972, 0.14004062717303947],\n",
    "\n",
    "             'INWARD_OCCLUDED':[0.1294970260086535, 0.1155039966361535, 0.1255693377498144, 0.11155992278130479,\\\n",
    "                                0.08760322976066104, 0.09880977669901195, 0.10682457260253515,\\\n",
    "                                0.12239235626633586, 0.10223978149552974]}"
   ]
  },
  {
   "cell_type": "code",
   "execution_count": 3,
   "id": "physical-packet",
   "metadata": {},
   "outputs": [],
   "source": [
    "def parse_cv_groups(start_iteration, end_iteration, cv_group, cv_name):\n",
    "    cv1 = np.load(f\"{indir}/{cv_name}_cv1.npy\")\n",
    "    cv2 = np.load(f\"{indir}/{cv_name}_cv2.npy\")\n",
    "\n",
    "\n",
    "    cv1 = cv1[start_iteration:(end_iteration+1)]\n",
    "    cv2 = cv2[start_iteration:(end_iteration+1)]\n",
    "\n",
    "    # flatten across the n_iterations * n_frames\n",
    "    cv1 = np.vstack(cv1)\n",
    "    cv2 = np.vstack(cv2)\n",
    "    \n",
    "    cv1_scored = np.zeros(np.shape(cv1))\n",
    "    cv2_scored = np.zeros(np.shape(cv2))\n",
    "\n",
    "    for n, score in enumerate(scores_cv1[cv_group]):\n",
    "        cv1_scored[:,n] = cv1[:,n] * score\n",
    "\n",
    "    for n, score in enumerate(scores_cv2[cv_group]):\n",
    "        cv2_scored[:,n] = cv2[:,n] * score    \n",
    "    \n",
    "    cv1_scored = np.sum(cv1_scored, axis = 1)\n",
    "    cv2_scored = np.sum(cv2_scored, axis = 1)\n",
    "    \n",
    "    \n",
    "    cv1_scored = np.vstack((cv1_scored[::2], cv1_scored[1::2])).T\n",
    "    cv2_scored = np.vstack((cv2_scored[::2], cv2_scored[1::2])).T\n",
    "\n",
    "    np.save(f\"{indir}/{cv_name}_cv1_scored.npy\", cv1_scored)\n",
    "    np.save(f\"{indir}/{cv_name}_cv2_scored.npy\", cv2_scored)\n",
    "    \n",
    "    return cv1, cv2, cv1_scored, cv2_scored"
   ]
  },
  {
   "cell_type": "code",
   "execution_count": 6,
   "id": "modified-clinton",
   "metadata": {},
   "outputs": [],
   "source": [
    "indir = '../textfiles_out/darko_dists_np/influx_apo_gate_CV'\n",
    "\n",
    "start_iteration = 99\n",
    "end_iteration = 745\n",
    "\n",
    "cv1, cv2, cv1_scored, cv2_scored = parse_cv_groups(start_iteration=start_iteration, \n",
    "                end_iteration=end_iteration,\n",
    "               cv_group='OUTWARD_OPEN',\n",
    "               cv_name='OutOpen')"
   ]
  },
  {
   "cell_type": "code",
   "execution_count": 18,
   "id": "random-candle",
   "metadata": {},
   "outputs": [
    {
     "data": {
      "text/plain": [
       "(202944, 2)"
      ]
     },
     "execution_count": 18,
     "metadata": {},
     "output_type": "execute_result"
    }
   ],
   "source": [
    "np.shape(cv1_scored)"
   ]
  },
  {
   "cell_type": "code",
   "execution_count": 19,
   "id": "juvenile-motel",
   "metadata": {},
   "outputs": [
    {
     "data": {
      "text/plain": [
       "array([[5.40607594, 5.41188917],\n",
       "       [5.40607594, 5.20192794]])"
      ]
     },
     "execution_count": 19,
     "metadata": {},
     "output_type": "execute_result"
    }
   ],
   "source": [
    "cv2_scored[:2]"
   ]
  },
  {
   "cell_type": "code",
   "execution_count": 20,
   "id": "substantial-exclusive",
   "metadata": {},
   "outputs": [
    {
     "data": {
      "text/plain": [
       "array([[ 3.84916979,  4.18894958,  6.4026099 , ...,  8.63069496,\n",
       "         3.22114458,  4.70978199],\n",
       "       [ 4.28931378,  4.06607943,  6.27501566, ...,  8.61730358,\n",
       "         3.5085874 ,  4.56336326],\n",
       "       [ 3.84916979,  4.18894958,  6.4026099 , ...,  8.63069496,\n",
       "         3.22114458,  4.70978199],\n",
       "       ...,\n",
       "       [ 3.56983006,  4.8306326 , 17.4263315 , ...,  7.94360957,\n",
       "         3.05249274,  2.51813278],\n",
       "       [ 3.35244927,  5.20801417, 16.87741798, ...,  7.96910837,\n",
       "         3.42795792,  4.10827318],\n",
       "       [ 2.80784512,  4.73752181, 16.69034975, ...,  7.82131836,\n",
       "         2.95502826,  4.13948019]])"
      ]
     },
     "execution_count": 20,
     "metadata": {},
     "output_type": "execute_result"
    }
   ],
   "source": [
    "cv2"
   ]
  },
  {
   "cell_type": "code",
   "execution_count": null,
   "id": "vertical-penalty",
   "metadata": {},
   "outputs": [],
   "source": []
  },
  {
   "cell_type": "code",
   "execution_count": null,
   "id": "asian-mistake",
   "metadata": {},
   "outputs": [],
   "source": []
  },
  {
   "cell_type": "code",
   "execution_count": null,
   "id": "underlying-lyric",
   "metadata": {},
   "outputs": [],
   "source": []
  },
  {
   "cell_type": "code",
   "execution_count": null,
   "id": "swedish-invasion",
   "metadata": {},
   "outputs": [],
   "source": []
  },
  {
   "cell_type": "code",
   "execution_count": null,
   "id": "southeast-shoulder",
   "metadata": {},
   "outputs": [],
   "source": []
  },
  {
   "cell_type": "code",
   "execution_count": null,
   "id": "constitutional-toolbox",
   "metadata": {},
   "outputs": [],
   "source": []
  },
  {
   "cell_type": "code",
   "execution_count": null,
   "id": "dynamic-telescope",
   "metadata": {},
   "outputs": [],
   "source": []
  },
  {
   "cell_type": "code",
   "execution_count": null,
   "id": "final-label",
   "metadata": {},
   "outputs": [],
   "source": []
  },
  {
   "cell_type": "code",
   "execution_count": 91,
   "id": "divine-watershed",
   "metadata": {},
   "outputs": [
    {
     "data": {
      "text/plain": [
       "32.0"
      ]
     },
     "execution_count": 91,
     "metadata": {},
     "output_type": "execute_result"
    }
   ],
   "source": [
    "80/2.5"
   ]
  },
  {
   "cell_type": "code",
   "execution_count": null,
   "id": "advised-anime",
   "metadata": {},
   "outputs": [],
   "source": []
  },
  {
   "cell_type": "code",
   "execution_count": 36,
   "id": "satisfied-stock",
   "metadata": {},
   "outputs": [],
   "source": [
    "OutOcc_cv1 = np.load(f\"{indir}/OutOcc_cv1.npy\")\n",
    "OutOcc_cv2 = np.load(f\"{indir}/OutOcc_cv2.npy\")"
   ]
  },
  {
   "cell_type": "code",
   "execution_count": null,
   "id": "missing-novel",
   "metadata": {},
   "outputs": [],
   "source": []
  },
  {
   "cell_type": "code",
   "execution_count": null,
   "id": "short-twelve",
   "metadata": {},
   "outputs": [],
   "source": [
    "\n",
    "n_iterations = end_iteration - start_iteration + 2\n",
    "distance_arr_cv1 = np.zeros((len(u.trajectory), len(contacts_cv1_groups[cv_group])))\n",
    "distance_arr_cv2 = np.zeros((len(u.trajectory), len(contacts_cv2_groups[cv_group])))\n",
    "\n",
    "## CV1\n",
    "distance_index = 0\n",
    "for contact1,contact2 in contacts_cv1_groups[cv_group]:\n",
    "    resid1,atomid1 = contact1.split('_')\n",
    "    resid2,atomid2 = contact2.split('_')\n",
    "\n",
    "    r1 = u.select_atoms(f\"resid {int(resid1) - 1} and name {atomid1}\") #MDA HAS 0 INDEXING, MINUS 1!!\n",
    "    r2 = u.select_atoms(f\"resid {int(resid2) - 1} and name {atomid2}\") #MDA HAS 0 INDEXING\n",
    "\n",
    "    for time_index, frame in enumerate(u.trajectory):\n",
    "        distance_arr_cv1[time_index, distance_index] = d.dist(r1, r2)[2]\n",
    "\n",
    "    distance_index = distance_index + 1\n",
    "\n",
    "\n",
    "\n",
    "## CV2\n",
    "distance_index = 0\n",
    "for contact1,contact2 in contacts_cv2_groups[cv_group]:\n",
    "    resid1,atomid1 = contact1.split('_')\n",
    "    resid2,atomid2 = contact2.split('_')\n",
    "\n",
    "    r1 = u.select_atoms(f\"resid {int(resid1) - 1} and name {atomid1}\") #MDA HAS 0 INDEXING, MINUS 1!!\n",
    "    r2 = u.select_atoms(f\"resid {int(resid2) - 1} and name {atomid2}\") #MDA HAS 0 INDEXING\n",
    "\n",
    "    for time_index, frame in enumerate(u.trajectory):\n",
    "        distance_arr_cv2[time_index, distance_index] = d.dist(r1, r2)[2]\n",
    "\n",
    "    distance_index = distance_index + 1\n",
    "\n",
    "\n",
    "return distance_arr_cv1, distance_arr_cv2"
   ]
  },
  {
   "cell_type": "code",
   "execution_count": 16,
   "id": "aggressive-granny",
   "metadata": {},
   "outputs": [],
   "source": [
    "import MDAnalysis as mda\n",
    "import MDAnalysis.analysis.distances as d"
   ]
  },
  {
   "cell_type": "code",
   "execution_count": 36,
   "id": "female-assets",
   "metadata": {},
   "outputs": [],
   "source": [
    "u = mda.Universe('../confout_files/tpr_files/influx_apo_gate_CV.wholesys.tpr', '../../string_sims/TMD_initial_path/influx_apo_gate_CV/md/1/test.xtc')"
   ]
  },
  {
   "cell_type": "code",
   "execution_count": 37,
   "id": "valid-gregory",
   "metadata": {},
   "outputs": [],
   "source": [
    "#465_HA','68_HG13'\n",
    "\n",
    "r1 = u.select_atoms(\"resid 464 and name HA\")\n",
    "r2 = u.select_atoms(\"resid 67 and name HG13\")\n",
    "\n",
    "protein = u.select_atoms(\"protein\")"
   ]
  },
  {
   "cell_type": "code",
   "execution_count": 38,
   "id": "earlier-fireplace",
   "metadata": {},
   "outputs": [
    {
     "name": "stdout",
     "output_type": "stream",
     "text": [
      "[[464.        ]\n",
      " [ 67.        ]\n",
      " [ 37.78642467]]\n",
      "[[464.        ]\n",
      " [ 67.        ]\n",
      " [ 37.26870936]]\n",
      "[[464.        ]\n",
      " [ 67.        ]\n",
      " [ 37.78642467]]\n",
      "[[464.       ]\n",
      " [ 67.       ]\n",
      " [ 37.7781208]]\n",
      "[[464.        ]\n",
      " [ 67.        ]\n",
      " [ 37.78642467]]\n",
      "[[464.        ]\n",
      " [ 67.        ]\n",
      " [ 38.07990844]]\n",
      "[[464.        ]\n",
      " [ 67.        ]\n",
      " [ 37.78642467]]\n",
      "[[464.       ]\n",
      " [ 67.       ]\n",
      " [ 38.0316567]]\n",
      "[[464.        ]\n",
      " [ 67.        ]\n",
      " [ 37.78642467]]\n",
      "[[464.        ]\n",
      " [ 67.        ]\n",
      " [ 38.29621978]]\n"
     ]
    }
   ],
   "source": [
    "for ts in u.trajectory:\n",
    "    if ts.frame < 10:\n",
    "        #protein.unwrap(compound='fragments')\n",
    "        print(d.dist(r1,r2, box = ts.dimensions))\n",
    "    else:\n",
    "        break"
   ]
  },
  {
   "cell_type": "code",
   "execution_count": 26,
   "id": "potential-journey",
   "metadata": {},
   "outputs": [
    {
     "data": {
      "text/plain": [
       "array([ 94.3472 ,  94.3472 , 113.78223,  90.     ,  90.     ,  90.     ],\n",
       "      dtype=float32)"
      ]
     },
     "execution_count": 26,
     "metadata": {},
     "output_type": "execute_result"
    }
   ],
   "source": [
    "ts = u.trajectory[1]\n",
    "ts.dimensions"
   ]
  },
  {
   "cell_type": "code",
   "execution_count": 31,
   "id": "polished-cloud",
   "metadata": {},
   "outputs": [
    {
     "data": {
      "text/plain": [
       "759"
      ]
     },
     "execution_count": 31,
     "metadata": {},
     "output_type": "execute_result"
    }
   ],
   "source": [
    "ts.frame"
   ]
  },
  {
   "cell_type": "code",
   "execution_count": null,
   "id": "finished-birthday",
   "metadata": {},
   "outputs": [],
   "source": []
  }
 ],
 "metadata": {
  "kernelspec": {
   "display_name": "Python 3",
   "language": "python",
   "name": "python3"
  },
  "language_info": {
   "codemirror_mode": {
    "name": "ipython",
    "version": 3
   },
   "file_extension": ".py",
   "mimetype": "text/x-python",
   "name": "python",
   "nbconvert_exporter": "python",
   "pygments_lexer": "ipython3",
   "version": "3.8.5"
  }
 },
 "nbformat": 4,
 "nbformat_minor": 5
}
