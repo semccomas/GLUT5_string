{
 "cells": [
  {
   "cell_type": "markdown",
   "id": "dying-russell",
   "metadata": {},
   "source": [
    "This is massively based on `string_MSM_analysis_TICS_deep_time_dev` where I took the MSM from Sergio's code, and took a square within this space. Now we need to make this process iterable, so I am making a python session (for now Jupyter notebook, but will be Python after, so we can put it into a bash script since there is a bash component to this as well)\n",
    "\n",
    "\n",
    "\n",
    "Selecting for certain energies might seem dumb but we still have the overall shape of the FES and some empty regions that we do not want to account for... so we leave the code as is\n",
    "\n",
    "\n",
    "I will leave this as an Ipython notebook as well so I can see how I made this, with the notes but Python code is one primarily executed\n",
    "\n",
    "\n",
    "#### obs: I use the dictionary created in making the square (under section: Loop through each square), which will take a variable from bash as to which grid to use (0-2916). You can therefore use this dictionary to refer later to which square belongs to what part of the FES\n",
    "\n",
    "# TODO :\n",
    "## make this iterative python script\n",
    "## save image of FES and taken data points so we can refer to it later if we need\n",
    "## bash script to process this\n",
    "## don't write anything to a certain directory if there is nothing to write (ie empty FES space)"
   ]
  },
  {
   "cell_type": "markdown",
   "id": "successful-cigarette",
   "metadata": {},
   "source": [
    "# imports ,etc"
   ]
  },
  {
   "cell_type": "code",
   "execution_count": 1,
   "id": "animal-hydrogen",
   "metadata": {},
   "outputs": [
    {
     "name": "stdout",
     "output_type": "stream",
     "text": [
      "2022-03-30 17:14:57 root-INFO: Setting up logging for gmxapi package.\n",
      "2022-03-30 17:14:57 gmxapi-INFO: Importing gmxapi.\n",
      "2022-03-30 17:14:57 gmxapi.operation-INFO: Importing gmxapi.operation\n",
      "2022-03-30 17:14:57 gmxapi.commandline-INFO: Importing gmxapi.commandline\n",
      "2022-03-30 17:14:57 gmxapi.simulation.workflow-INFO: Importing gmx.workflow\n",
      "2022-03-30 17:14:57 gmxapi.simulation.workflow-INFO: Using schema version gmxapi_workspec_0_1.\n",
      "2022-03-30 17:14:57 gmxapi.mdrun-INFO: Importing gmxapi.simulation.mdrun\n",
      "2022-03-30 17:14:57 gmxapi.read_tpr-INFO: Importing gmxapi.simulation.read_tpr\n",
      "2022-03-30 17:14:57 gmxapi.modify_input-INFO: Importing gmxapi.simulation.modify_input\n",
      "2022-03-30 17:14:57 stringmethod-0-INFO: Using 1 MPI ranks \n"
     ]
    }
   ],
   "source": [
    "import os\n",
    "import pickle\n",
    "import sys\n",
    "import logging\n",
    "import numpy as np\n",
    "import matplotlib.pyplot as plt\n",
    "\n",
    "\n",
    "logging.getLogger(\"stringmethod\").setLevel(logging.ERROR)\n",
    "sys.path.append(\"../../string-method-gmxapi/\")\n",
    "import string_tica_msm as my_msm"
   ]
  },
  {
   "cell_type": "code",
   "execution_count": 49,
   "id": "driving-recognition",
   "metadata": {},
   "outputs": [],
   "source": [
    "MSM_sim_dir = \"../../string_sims/TMD_initial_path/influx_BFRU_gate_CV\"\n",
    "F_extent_dir = '../../string_sims/TMD_initial_path/influx_BFRU_gate_CV'\n",
    "#grid = sys.argv[1]\n",
    "grid = 32\n",
    "\n",
    "F = np.load(f'{F_extent_dir}/F_MSM.npy')\n",
    "F_for_plotting = np.load(f\"{MSM_sim_dir}/F_MSM.npy\")\n",
    "extent = np.load(f'{F_extent_dir}/extent_MSM.npy')\n",
    "cv_proj = np.load(f'{MSM_sim_dir}/cv_proj_MSM.npy')  #IC, EC\n",
    "\n",
    "\n",
    "cv_labels = [\"Intracellular gate (nm)\", \"Extracellular gate (nm)\"]\n",
    "\n",
    "xlim = (0.9,1.6)\n",
    "ylim = (0.8,1.6)"
   ]
  },
  {
   "cell_type": "code",
   "execution_count": 66,
   "id": "592eafc7",
   "metadata": {},
   "outputs": [
    {
     "data": {
      "text/plain": [
       "202944"
      ]
     },
     "execution_count": 66,
     "metadata": {},
     "output_type": "execute_result"
    }
   ],
   "source": [
    "len(cv_proj)"
   ]
  },
  {
   "cell_type": "code",
   "execution_count": 50,
   "id": "periodic-catering",
   "metadata": {},
   "outputs": [],
   "source": [
    "def get_square(data, IC_leftmost, IC_rightmost, EC_lowermost, EC_uppermost, IC_index, EC_index):\n",
    "    '''\n",
    "    IC index should be 0 or 1 depending on where it exists in data, same for EC\n",
    "    '''\n",
    "    \n",
    "    col0m = np.logical_and(data[:,IC_index]>= IC_leftmost, data[:,IC_index]<=IC_rightmost) #IC column mask\n",
    "    col1m = np.logical_and(data[:,EC_index]>= EC_lowermost, data[:,EC_index]<=EC_uppermost) #EC column mask\n",
    "\n",
    "    col0_1 = data[col0m & col1m]\n",
    "    \n",
    "    IC_selected_region = col0_1[:,IC_index]\n",
    "    EC_selected_region = col0_1[:,EC_index]\n",
    "    \n",
    "    return IC_selected_region, EC_selected_region"
   ]
  },
  {
   "cell_type": "markdown",
   "id": "stupid-declaration",
   "metadata": {},
   "source": [
    "# Loop through each square region"
   ]
  },
  {
   "cell_type": "code",
   "execution_count": 51,
   "id": "regular-annex",
   "metadata": {},
   "outputs": [
    {
     "name": "stdout",
     "output_type": "stream",
     "text": [
      "1.307372925925926 1.3392546111111112 0.820969111111111 0.785414\n"
     ]
    }
   ],
   "source": [
    "IC_extent = np.linspace(extent[0], extent[1], 55)\n",
    "EC_extent = np.linspace(extent[2], extent[3], 55)\n",
    "\n",
    "## reading grid left to right, then down a row and left to right again. No reason for this. \n",
    "\n",
    "grid_label = 0\n",
    "grid_label_coord_dict = {}\n",
    "\n",
    "for y_grid_index in range(0, 55):\n",
    "    for x_grid_index in range(0, 55):\n",
    "        if x_grid_index < 54 and y_grid_index < 54:\n",
    "            #print(x_grid_index, ':x_left', y_grid_index, ':y_bottom')\n",
    "            #print(x_grid_index + 1, ':x_right', y_grid_index, ':y_bottom')\n",
    "            #print(x_grid_index, ':x_left', y_grid_index + 1, ':y_top')\n",
    "            #print(x_grid_index + 1, ':x_right', y_grid_index + 1, ':y_top')\n",
    "            \n",
    "            \n",
    "            IC_leftmost = IC_extent[x_grid_index] - 0.01\n",
    "            IC_rightmost = IC_extent[x_grid_index + 1] + 0.01\n",
    "            EC_uppermost = EC_extent[y_grid_index + 1] + 0.01\n",
    "            EC_lowermost = EC_extent[y_grid_index] - 0.01\n",
    "\n",
    "            coords = [IC_leftmost, IC_rightmost, EC_uppermost, EC_lowermost]    \n",
    "            grid_label_coord_dict[grid_label] = coords\n",
    "            grid_label = grid_label + 1\n",
    "\n",
    "            \n",
    "IC_leftmost, IC_rightmost, EC_uppermost, EC_lowermost = grid_label_coord_dict[grid]            \n",
    "print(IC_leftmost, IC_rightmost, EC_uppermost, EC_lowermost)"
   ]
  },
  {
   "cell_type": "code",
   "execution_count": 52,
   "id": "modified-knock",
   "metadata": {},
   "outputs": [
    {
     "data": {
      "text/plain": [
       "0.006940842592592588"
      ]
     },
     "execution_count": 52,
     "metadata": {},
     "output_type": "execute_result"
    }
   ],
   "source": [
    "np.diff(IC_extent)[0] / 2 + 0.001"
   ]
  },
  {
   "cell_type": "markdown",
   "id": "pleasant-immunology",
   "metadata": {},
   "source": [
    "#### We will mask `F` to return only the values in the range between `min_F` and `max_F`. This is `all_min_vals`.\n",
    "- If you want to be sure that you are plotting the correct range, just plot as this in the FES plot:\n",
    "```\n",
    "ax.scatter(all_mins_vals[:,0], all_mins_vals[:,1])\n",
    "```\n",
    " \n",
    "\n",
    "---\n",
    "\n",
    "#### Then, take a specific square of all these values on the 55x55 grid, which becomes `all_min_vals_selected_region`\n",
    "- This is however, on a 55x55 grid (based on the MSM calculations bandwidth) so it will not match the `cv_proj` just yet"
   ]
  },
  {
   "cell_type": "code",
   "execution_count": 53,
   "id": "trained-exercise",
   "metadata": {},
   "outputs": [],
   "source": [
    "min_F = 0\n",
    "max_F = 15\n",
    "\n",
    "\n",
    "IC_min_indices = np.where(np.logical_and(F > min_F, F < max_F))[1]\n",
    "EC_min_indices = np.where(np.logical_and(F > min_F, F < max_F))[0]\n",
    "\n",
    "\n",
    "\n",
    "#Return the IC&EC gate values where F is within specified range\n",
    "IC_min_vals = []\n",
    "EC_min_vals = []\n",
    "for val_IC, val_EC in zip(IC_extent[IC_min_indices], EC_extent[EC_min_indices]):\n",
    "    IC_min_vals.append(val_IC)\n",
    "    EC_min_vals.append(val_EC)\n",
    "\n",
    "all_min_vals = np.vstack((IC_min_vals, EC_min_vals)).T\n",
    "\n",
    "\n",
    "IC_selected_region, EC_selected_region = get_square(data = all_min_vals,\n",
    "                                                    IC_leftmost=IC_leftmost,\n",
    "                                                    IC_rightmost=IC_rightmost,\n",
    "                                                    EC_lowermost=EC_lowermost,\n",
    "                                                    EC_uppermost=EC_uppermost,\n",
    "                                                    IC_index=0,\n",
    "                                                    EC_index=1)\n",
    "\n",
    "all_min_vals_selected_region = np.vstack((IC_selected_region, EC_selected_region)).T"
   ]
  },
  {
   "cell_type": "code",
   "execution_count": 54,
   "id": "3fa0263a",
   "metadata": {},
   "outputs": [
    {
     "data": {
      "text/plain": [
       "array([[1.28172787, 0.795414  ],\n",
       "       [1.29360956, 0.795414  ],\n",
       "       [1.30549124, 0.795414  ],\n",
       "       ...,\n",
       "       [1.04409417, 1.51094911],\n",
       "       [0.98468574, 1.52650422],\n",
       "       [0.99656743, 1.52650422]])"
      ]
     },
     "execution_count": 54,
     "metadata": {},
     "output_type": "execute_result"
    }
   ],
   "source": [
    "all_min_vals"
   ]
  },
  {
   "cell_type": "code",
   "execution_count": 55,
   "id": "increased-timothy",
   "metadata": {},
   "outputs": [],
   "source": [
    "if np.shape(all_min_vals_selected_region)[0] == 0:\n",
    "    print(f\"Nothing in space for grid {grid} at {grid_label_coord_dict[grid]}\")\n",
    "    quit()"
   ]
  },
  {
   "cell_type": "code",
   "execution_count": 56,
   "id": "9297ab1e",
   "metadata": {},
   "outputs": [
    {
     "data": {
      "text/plain": [
       "array([[1.31737293, 0.795414  ],\n",
       "       [1.32925461, 0.795414  ],\n",
       "       [1.31737293, 0.81096911],\n",
       "       [1.32925461, 0.81096911]])"
      ]
     },
     "execution_count": 56,
     "metadata": {},
     "output_type": "execute_result"
    }
   ],
   "source": [
    "all_min_vals_selected_region\n",
    "\n",
    "#IC_mean = np.mean([IC_selected_region[0], IC_selected_region[1]])\n",
    "#EC_mean = np.mean([EC_selected_region[0], EC_selected_region[2]])\n",
    "#print(np.round([IC_mean, EC_mean],3))"
   ]
  },
  {
   "cell_type": "markdown",
   "id": "guilty-lobby",
   "metadata": {},
   "source": [
    "#### Use these minima in a designated square space (`all_min_vals_selected_region`) to find all values in `data` (`cv_proj` with removed first frame from the CV values) that are **close to** each point, specified by `margin`\n",
    "\n",
    "The reason that we do this is that we don't want only those points on the minima but everything in that space. Here below is a picture example:\n",
    "<img src=\"./images_for_jup/example_extract.png\" style=\"height:300px\"> \n",
    "Where:\n",
    "* blue dots are `all_min_vals` between 3 - 4\n",
    "* orange dots are `all_min_vals_selected_region`. Each of these is in `IC_region_bead` & `EC_region_bead` as shown below\n",
    "* pink dots are then `all_nearby_minima_square`, as calulated below\n",
    "\n",
    "\n",
    "You notice that the dots aren't perfect, but I think this is likely ok, it is still better than taking an entire square directly from `data` as this would include much more of the green (for this pic anyway)"
   ]
  },
  {
   "cell_type": "code",
   "execution_count": 57,
   "id": "facial-romantic",
   "metadata": {},
   "outputs": [
    {
     "name": "stdout",
     "output_type": "stream",
     "text": [
      "(3, 2)\n"
     ]
    },
    {
     "name": "stderr",
     "output_type": "stream",
     "text": [
      "/tmp/ipykernel_8219/44955742.py:14: VisibleDeprecationWarning: Creating an ndarray from ragged nested sequences (which is a list-or-tuple of lists-or-tuples-or ndarrays with different lengths or shapes) is deprecated. If you meant to do this, you must specify 'dtype=object' when creating the ndarray.\n",
      "  all_nearby_minima_square = np.array(all_nearby_minima_square)\n",
      "/tmp/ipykernel_8219/44955742.py:17: VisibleDeprecationWarning: Creating an ndarray from ragged nested sequences (which is a list-or-tuple of lists-or-tuples-or ndarrays with different lengths or shapes) is deprecated. If you meant to do this, you must specify 'dtype=object' when creating the ndarray.\n",
      "  all_nearby_indices = np.array(all_nearby_indices)\n"
     ]
    }
   ],
   "source": [
    "margin = np.diff(IC_extent)[0]/2 + 0.001  #dist between each point + a bit extra\n",
    "\n",
    "data = cv_proj[:,1,:] ## wondering if you need to only take the drift value of swarms, not starting...\n",
    "\n",
    "all_nearby_minima_square = []\n",
    "all_nearby_indices = []\n",
    "\n",
    "for IC_region_bead, EC_region_bead in all_min_vals_selected_region:\n",
    "    IC_nearby = np.logical_and(data[:,0]>(IC_region_bead-margin), data[:,0]<(IC_region_bead+margin))\n",
    "    EC_nearby = np.logical_and(data[:,1]>(EC_region_bead-margin), data[:,1]<(EC_region_bead+margin))\n",
    "    all_nearby_minima_square.append(data[IC_nearby & EC_nearby])\n",
    "    all_nearby_indices.append(np.where(IC_nearby & EC_nearby)[0])\n",
    "    \n",
    "all_nearby_minima_square = np.array(all_nearby_minima_square)\n",
    "all_nearby_minima_square = np.concatenate(all_nearby_minima_square)\n",
    "\n",
    "all_nearby_indices = np.array(all_nearby_indices)\n",
    "all_nearby_indices = np.concatenate(all_nearby_indices)\n",
    "\n",
    "print(np.shape(all_nearby_minima_square))"
   ]
  },
  {
   "cell_type": "code",
   "execution_count": 58,
   "id": "b423a250",
   "metadata": {},
   "outputs": [
    {
     "data": {
      "text/plain": [
       "0.817011"
      ]
     },
     "execution_count": 58,
     "metadata": {},
     "output_type": "execute_result"
    }
   ],
   "source": [
    "max(all_nearby_minima_square[:,1])"
   ]
  },
  {
   "cell_type": "markdown",
   "id": "polished-checkout",
   "metadata": {},
   "source": [
    "#### Lastly, check that your points you have chosen match the FES before taking the `confout` files\n",
    "\n",
    "Reiterate the process until you are happy"
   ]
  },
  {
   "cell_type": "code",
   "execution_count": 59,
   "id": "familiar-dragon",
   "metadata": {
    "scrolled": false
   },
   "outputs": [
    {
     "name": "stdout",
     "output_type": "stream",
     "text": [
      "2022-03-30 17:56:02 matplotlib.pyplot-DEBUG: Loaded backend module://ipympl.backend_nbagg version unknown.\n",
      "2022-03-30 17:56:02 matplotlib.colorbar-DEBUG: locator: <matplotlib.colorbar._ColorbarAutoLocator object at 0x7f09d3004dc0>\n",
      "2022-03-30 17:56:02 matplotlib.colorbar-DEBUG: Using auto colorbar locator <matplotlib.colorbar._ColorbarAutoLocator object at 0x7f09d3004dc0> on colorbar\n",
      "2022-03-30 17:56:02 matplotlib.colorbar-DEBUG: Setting pcolormesh\n"
     ]
    },
    {
     "data": {
      "text/plain": [
       "<matplotlib.collections.PathCollection at 0x7f09c8632f10>"
      ]
     },
     "execution_count": 59,
     "metadata": {},
     "output_type": "execute_result"
    },
    {
     "data": {
      "application/vnd.jupyter.widget-view+json": {
       "model_id": "4bb4ac0c04444ac4b89e921e32854db2",
       "version_major": 2,
       "version_minor": 0
      },
      "text/html": [
       "\n",
       "            <div style=\"display: inline-block;\">\n",
       "                <div class=\"jupyter-widgets widget-label\" style=\"text-align: center;\">\n",
       "                    Figure\n",
       "                </div>\n",
       "                <img src='data:image/png;base64,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' width=1000.0/>\n",
       "            </div>\n",
       "        "
      ],
      "text/plain": [
       "Canvas(toolbar=Toolbar(toolitems=[('Home', 'Reset original view', 'home', 'home'), ('Back', 'Back to previous …"
      ]
     },
     "metadata": {},
     "output_type": "display_data"
    }
   ],
   "source": [
    "%matplotlib widget\n",
    "\n",
    "f_max = 15\n",
    "\n",
    "\n",
    "fig, ax = my_msm.plot_2D_heatmap(\n",
    "    F_for_plotting,\n",
    "    extent,\n",
    "    f_max=f_max,\n",
    "    cbar_label=\"Free Energy (kT)\",\n",
    "    xlabel=cv_labels[0],\n",
    "    ylabel=cv_labels[1],\n",
    "    xlim= None,\n",
    "    ylim= None\n",
    ")\n",
    "\n",
    "fig.tight_layout()\n",
    "\n",
    "\n",
    "#ax.scatter(all_min_vals[:,0], all_min_vals[:,1], s = 10)\n",
    "ax.scatter(all_nearby_minima_square[:,0], all_nearby_minima_square[:,1], s = 5, alpha = 0.5, c = 'black')\n",
    "ax.scatter(all_min_vals_selected_region[:,0], all_min_vals_selected_region[:,1], c = 'orange',s = 20)\n",
    "#ax.scatter(IC_mean,EC_mean, c = 'pink')\n"
   ]
  },
  {
   "cell_type": "code",
   "execution_count": 60,
   "id": "259ea199",
   "metadata": {},
   "outputs": [
    {
     "data": {
      "text/plain": [
       "array([0.937159, 1.57877 , 0.795414, 1.63539 ])"
      ]
     },
     "execution_count": 60,
     "metadata": {},
     "output_type": "execute_result"
    }
   ],
   "source": [
    "extent"
   ]
  },
  {
   "cell_type": "markdown",
   "id": "general-monkey",
   "metadata": {},
   "source": [
    "# Pt 2:\n",
    "Get the confouts!!"
   ]
  },
  {
   "cell_type": "markdown",
   "id": "analyzed-decline",
   "metadata": {},
   "source": [
    "#### Once satisfied with `all_nearby_minima_square`, get original iteration, bead, swarm \n",
    "\n",
    "\n",
    "Ok, so now we have the values and indices for `data` where we have the specified box and minima (`all_nearby_minima_square` and `all_nearby_indices`). We will use this function from the `inflecs_string_sims` script to get original iteration, bead, swarm from these indices so we can do analysis on the confout files\n",
    "\n",
    "Same as in the inflecs script, I will make a `.sh` script to get the confouts of all the simulations found from the function, and put them together for analysis\n",
    "\n",
    "---\n",
    "We will also trim the dataset if it's quite big, and remove duplicates. We don't need to have > 3000 points I think... You can choose the size to make your dataset by `size_cutoff`"
   ]
  },
  {
   "cell_type": "code",
   "execution_count": 61,
   "id": "conditional-window",
   "metadata": {},
   "outputs": [],
   "source": [
    "def get_it_bead_swarm_from_index(index_number, iteration_start):\n",
    "    #### divide index by 448 to find which iteration it's in\n",
    "    iteration = int(np.floor(index_number / (n_swarms * n_beads))) \n",
    "    \n",
    "\n",
    "    #### find which index this dictated iteration starts on\n",
    "    iteration_start_string_index = (n_swarms * n_beads) * iteration  \n",
    "\n",
    "\n",
    "    #### take the difference of the iteration start index and the actual index\n",
    "    #### The difference between the actual index and iteration index / 32 will be which bead \n",
    "    bead = int(np.floor((index_number - iteration_start_string_index) / n_swarms)) \n",
    "\n",
    "\n",
    "    #### find which index this bead starts on\n",
    "    #### will be iteration start + (1-448)\n",
    "    bead_start_string_index = iteration_start_string_index + (n_swarms * bead)\n",
    "\n",
    "\n",
    "    #### Get actual index - bead index start, max diff should be 31\n",
    "    swarm = index_number - bead_start_string_index\n",
    "    \n",
    "    actual_iteration = iteration + iteration_start\n",
    "    #print(f\"Returning iteration {actual_iteration}, bead {bead}, swarm {swarm}\")\n",
    "    \n",
    "    \n",
    "    if name_sim == 'influx_apo_gate_CV':\n",
    "        indir = f'/mnt/cephfs/projects/2021071200_GLUT5_string_influx_TMD/GLUT5_string/string/string_sims/TMD_initial_path/{name_sim}/md'\n",
    "    if name_sim == 'influx_BFRU_gate_CV':\n",
    "        indir = f'/mnt/cephfs/projects/2021091701_GLUT5_string_influx_BFRU_TMD/GLUT5_string/string/string_sims/TMD_initial_path/{name_sim}/md'\n",
    "        \n",
    "    confout_statement = f\"{indir}/{actual_iteration}/{bead + 1}/s{swarm}/traj_comp.xtc\"\n",
    "    print(f\"Confout {index_number} should be in: {confout_statement}\")\n",
    "    return actual_iteration, bead, swarm, confout_statement"
   ]
  },
  {
   "cell_type": "code",
   "execution_count": 62,
   "id": "purple-consortium",
   "metadata": {},
   "outputs": [
    {
     "name": "stdout",
     "output_type": "stream",
     "text": [
      "Confout 3546 should be in: /mnt/cephfs/projects/2021091701_GLUT5_string_influx_BFRU_TMD/GLUT5_string/string/string_sims/TMD_initial_path/influx_BFRU_gate_CV/md/107/13/s26/traj_comp.xtc\n",
      "Confout 2197 should be in: /mnt/cephfs/projects/2021091701_GLUT5_string_influx_BFRU_TMD/GLUT5_string/string/string_sims/TMD_initial_path/influx_BFRU_gate_CV/md/104/13/s21/traj_comp.xtc\n",
      "Confout 95373 should be in: /mnt/cephfs/projects/2021091701_GLUT5_string_influx_BFRU_TMD/GLUT5_string/string/string_sims/TMD_initial_path/influx_BFRU_gate_CV/md/312/13/s13/traj_comp.xtc\n"
     ]
    }
   ],
   "source": [
    "n_swarms = 32\n",
    "n_beads = 14\n",
    "name_sim = 'influx_BFRU_gate_CV'\n",
    "confout_list = []\n",
    "\n",
    "for index in all_nearby_indices:\n",
    "    iteration, bead, swarm, confout = get_it_bead_swarm_from_index(index, 100)\n",
    "    confout_list.append(confout)\n",
    "    #print()\n",
    "\n",
    "#take uniques and trim dataset    \n",
    "confout_list = list(set(confout_list))\n",
    "size_cutoff = 1000\n",
    "random_start = int(np.random.randint(0, high=9, size = 1))\n",
    "\n",
    "if len(confout_list) > size_cutoff:\n",
    "    #slice_int = int(np.floor(len(confout_list) / float(size_cutoff)))\n",
    "    #confout_list = confout_list[random_start::slice_int]\n",
    "    confout_list = np.random.choice(confout_list, size_cutoff)"
   ]
  },
  {
   "cell_type": "code",
   "execution_count": 63,
   "id": "lined-antarctica",
   "metadata": {},
   "outputs": [
    {
     "name": "stdout",
     "output_type": "stream",
     "text": [
      "3546 /mnt/cephfs/projects/2021091701_GLUT5_string_influx_BFRU_TMD/GLUT5_string/string/string_sims/TMD_initial_path/influx_BFRU_gate_CV/md/312/13/s13/traj_comp.xtc\n"
     ]
    },
    {
     "data": {
      "text/plain": [
       "32"
      ]
     },
     "execution_count": 63,
     "metadata": {},
     "output_type": "execute_result"
    }
   ],
   "source": [
    "print(all_nearby_indices[0],confout_list[0])\n",
    "grid"
   ]
  },
  {
   "cell_type": "code",
   "execution_count": 64,
   "id": "mysterious-volleyball",
   "metadata": {},
   "outputs": [],
   "source": [
    "confout_path=f'../confout_files/FES_grids_confouts/{name_sim}/{grid}'\n",
    "if not os.path.isdir(confout_path):\n",
    "    os.mkdir(confout_path)\n",
    "logfile = open(f'{confout_path}/cluster_logs.txt', 'w')\n",
    "trjcat_inflecs = open('./FES_grids_confouts_selection.sh', 'w')\n",
    "\n",
    "trjcat_inflecs.write('#!/bin/bash')\n",
    "trjcat_inflecs.write('\\n')\n",
    "trjcat_inflecs.write('#SBATCH -p tcb')\n",
    "trjcat_inflecs.write('\\n')\n",
    "trjcat_inflecs.write('#SBATCH -J conf')\n",
    "trjcat_inflecs.write('\\n')\n",
    "trjcat_inflecs.write('#SBATCH -t 03:00:00')\n",
    "trjcat_inflecs.write('\\n')\n",
    "trjcat_inflecs.write('#SBATCH -N 1 --ntasks-per-node=4')\n",
    "trjcat_inflecs.write('\\n')\n",
    "trjcat_inflecs.write('#SBATCH -e error.err -o output.out')\n",
    "trjcat_inflecs.write('\\n')\n",
    "\n",
    "\n",
    "\n",
    "trjcat_inflecs.write('\\n')\n",
    "trjcat_inflecs.write('\\n')\n",
    "trjcat_inflecs.write(f'mkdir {confout_path}')\n",
    "trjcat_inflecs.write('\\n')\n",
    "trjcat_inflecs.write(f'echo \"removing all old pdbs in {confout_path}\"')\n",
    "trjcat_inflecs.write('\\n')\n",
    "trjcat_inflecs.write(f'rm {confout_path}/*pdb ')\n",
    "trjcat_inflecs.write('\\n')\n",
    "trjcat_inflecs.write('\\n')\n",
    "trjcat_inflecs.write('module unload gromacs')\n",
    "trjcat_inflecs.write('\\n')\n",
    "trjcat_inflecs.write('module load gromacs/2020.4')\n",
    "trjcat_inflecs.write('\\n')\n",
    "trjcat_inflecs.write('\\n')\n",
    "\n",
    "for i, n in enumerate(confout_list):\n",
    "    outname=n.split('/')\n",
    "    outname='-'.join(outname[-4:-1])\n",
    "    if 'traj_comp' in n:\n",
    "        trjcat_inflecs.write(f'gmx editconf -f {n[:-13]}confout.gro -o {confout_path}/{outname}.clu{i}.pdb' + '\\n')\n",
    "    logfile.write(f'{outname}.clu{i}' + '\\n')\n",
    "    \n",
    "    if i==0:\n",
    "        trjcat_inflecs.write(f\"cp {confout_path}/{outname}.clu{i}.pdb {confout_path}/FES_grid_all.start.pdb\" + '\\n')\n",
    "    \n",
    "### I know this looks messed up but this is how we can use string formatting and also use curly brackets in one        \n",
    "trjcat_inflecs.write(f'eval \"cat ./{confout_path}/*.clu{{0..')\n",
    "trjcat_inflecs.write(str(i))\n",
    "trjcat_inflecs.write(f'}}.pdb > ./{confout_path}/FES_grid_all.pdb\"')\n",
    "trjcat_inflecs.write('\\n')\n",
    "trjcat_inflecs.write('\\n')\n",
    "trjcat_inflecs.write(f'gmx trjconv -f {confout_path}/FES_grid_all.pdb -o {confout_path}/FES_grid_all.xtc')\n",
    "trjcat_inflecs.write('\\n')\n",
    "trjcat_inflecs.write('\\n')\n",
    "trjcat_inflecs.write(f'rm {confout_path}/FES_grid_all.pdb')\n",
    "\n",
    "\n",
    "\n",
    "trjcat_inflecs.write('\\n')\n",
    "trjcat_inflecs.write('\\n')\n",
    "trjcat_inflecs.write(f'gmx pairdist -f {confout_path}/FES_grid_all.xtc '\n",
    "                     f'-s ../confout_files/tpr_files/{name_sim}.wholesys.tpr '\n",
    "                    '-ref \"com of resid 30 to 37\" -sel \"com of resid 289 to 295\" '\n",
    "                    f'-o {confout_path}/FES_grid_all.EC_gate.xvg -xvg none'\n",
    "                    )\n",
    "trjcat_inflecs.write('\\n')\n",
    "trjcat_inflecs.write('\\n')\n",
    "trjcat_inflecs.write(f'gmx pairdist -f {confout_path}/FES_grid_all.xtc '\n",
    "                     f'-s ../confout_files/tpr_files/{name_sim}.wholesys.tpr '\n",
    "                    '-ref \"com of resid 136 to 145\" -sel \"com of resid 386 to 394\" '\n",
    "                    f'-o {confout_path}/FES_grid_all.IC_gate.xvg -xvg none'\n",
    "                    )\n",
    "\n",
    "trjcat_inflecs.close()        \n",
    "logfile.close()"
   ]
  },
  {
   "cell_type": "code",
   "execution_count": null,
   "id": "defensive-reproduction",
   "metadata": {},
   "outputs": [],
   "source": []
  },
  {
   "cell_type": "code",
   "execution_count": null,
   "id": "3871c1b7",
   "metadata": {},
   "outputs": [],
   "source": []
  }
 ],
 "metadata": {
  "kernelspec": {
   "display_name": "Python 3 (ipykernel)",
   "language": "python",
   "name": "python3"
  },
  "language_info": {
   "codemirror_mode": {
    "name": "ipython",
    "version": 3
   },
   "file_extension": ".py",
   "mimetype": "text/x-python",
   "name": "python",
   "nbconvert_exporter": "python",
   "pygments_lexer": "ipython3",
   "version": "3.8.5"
  }
 },
 "nbformat": 4,
 "nbformat_minor": 5
}
