{
 "cells": [
  {
   "cell_type": "markdown",
   "id": "aerial-covering",
   "metadata": {},
   "source": [
    "Like `per_iteration_analysis` and `inflecs_path_cluster_analysis` this is aimed at characterizing `confout` gro files concatenated into a `.pdb` 'trajectory'\n",
    "\n",
    "The data will be shaped much like `per_iteration_analysis` where each simulation condition gets their own dictionary, and you can access values inside of there"
   ]
  },
  {
   "cell_type": "code",
   "execution_count": 1,
   "id": "residential-convert",
   "metadata": {},
   "outputs": [],
   "source": [
    "import MDAnalysis as mda\n",
    "import numpy as np\n",
    "import matplotlib.pyplot as plt\n",
    "import gate_functions\n",
    "import seaborn as sns\n",
    "import pandas as pd"
   ]
  },
  {
   "cell_type": "code",
   "execution_count": 2,
   "id": "electric-fighter",
   "metadata": {},
   "outputs": [],
   "source": [
    "conditions_titles = {\"BFRU\": [\"BFRU_out_open\", \"BFRU_transition_occ\"], \"apo\":[\"apo_out_open\", \"apo_transition_occ\"]}\n",
    "indir = '../confout_files/FES_grids_confouts'"
   ]
  },
  {
   "cell_type": "code",
   "execution_count": 3,
   "id": "curious-linux",
   "metadata": {},
   "outputs": [
    {
     "name": "stdout",
     "output_type": "stream",
     "text": [
      "BFRU ['BFRU_out_open', 'BFRU_transition_occ'] 2\n",
      "apo ['apo_out_open', 'apo_transition_occ'] 2\n"
     ]
    }
   ],
   "source": [
    "random_c = True\n",
    "conditions_colors = {}\n",
    "for condition, title in conditions_titles.items():\n",
    "    print(condition,title, len(title))\n",
    "    if 'apo' in condition:\n",
    "        colormap_colors = 'Oranges_r'\n",
    "    if 'BFRU' in condition:\n",
    "        colormap_colors = \"Greens_r\"\n",
    "        \n",
    "    cmap_vals = plt.cm.get_cmap(colormap_colors)\n",
    "    if random_c:\n",
    "        np.random.seed(100)\n",
    "        color_vals = cmap_vals(np.random.rand(len(title)))\n",
    "        color_vals = np.sort(color_vals, axis = 0)\n",
    "    else:\n",
    "        color_vals = cmap_vals(np.linspace(0,1,len(title)))\n",
    "    conditions_colors[condition] = color_vals"
   ]
  },
  {
   "cell_type": "code",
   "execution_count": 4,
   "id": "selective-continuity",
   "metadata": {},
   "outputs": [
    {
     "data": {
      "text/plain": [
       "array([[0.87238754, 0.31178777, 0.01997693, 1.        ],\n",
       "       [0.99215686, 0.59963091, 0.30179162, 1.        ]])"
      ]
     },
     "execution_count": 4,
     "metadata": {},
     "output_type": "execute_result"
    }
   ],
   "source": [
    "color_vals"
   ]
  },
  {
   "cell_type": "code",
   "execution_count": 5,
   "id": "severe-airplane",
   "metadata": {},
   "outputs": [],
   "source": [
    "conditions_universes = {}\n",
    "for condition, titles in conditions_titles.items():\n",
    "    condition_name = f\"influx_{condition}_gate_CV\"\n",
    "    \n",
    "    universe_list = []\n",
    "    for title in titles:\n",
    "        universe_list.append(mda.Universe(f'../confout_files/tpr_files/{condition_name}.protonly.tpr', \n",
    "                                         f'{indir}/{condition_name}/{title}/FES_grid_all.protonly.xtc'))\n",
    "    \n",
    "    conditions_universes[condition] = universe_list  "
   ]
  },
  {
   "cell_type": "markdown",
   "id": "revised-collins",
   "metadata": {},
   "source": [
    "# Table of contents:\n",
    "- EC vs IC gate\n",
    "- [RMSD to original structure/ atom sim](#RMSD)\n",
    "- [Sugar coordination](#sugar):\n",
    "    - Contacts to sugar molecules\n",
    "    - Sugar binding site differences in apo vs BFRU\n",
    "- Protein contact analysis:\n",
    "    - [Salt bridge contacts](#salt_br)\n",
    "    - Lysine on TM1\n",
    "    - ICH movements\n",
    "    - Contacts to Darko CVs\n",
    "- TM7b kink & TM10 kink\n",
    "- Protein hydration\n"
   ]
  },
  {
   "cell_type": "markdown",
   "id": "powerful-bradley",
   "metadata": {},
   "source": [
    "# EC vs IC gate\n",
    "\n",
    "The usual..."
   ]
  },
  {
   "cell_type": "code",
   "execution_count": 6,
   "id": "demanding-nickname",
   "metadata": {},
   "outputs": [
    {
     "name": "stderr",
     "output_type": "stream",
     "text": [
      "/home/semccomas/anaconda3/envs/string_method/lib/python3.8/site-packages/MDAnalysis/core/selection.py:675: DeprecationWarning: `np.bool` is a deprecated alias for the builtin `bool`. To silence this warning, use `bool` by itself. Doing this will not modify any behavior and is safe. If you specifically wanted the numpy scalar type, use `np.bool_` here.\n",
      "Deprecated in NumPy 1.20; for more details and guidance: https://numpy.org/devdocs/release/1.20.0-notes.html#deprecations\n",
      "  mask = np.zeros(len(vals), dtype=np.bool)\n"
     ]
    },
    {
     "name": "stdout",
     "output_type": "stream",
     "text": [
      "returning EC gate, IC gate dists\n",
      "returning EC gate, IC gate dists\n"
     ]
    },
    {
     "name": "stderr",
     "output_type": "stream",
     "text": [
      "<ipython-input-6-0684a7c0ec51>:13: VisibleDeprecationWarning: Creating an ndarray from ragged nested sequences (which is a list-or-tuple of lists-or-tuples-or ndarrays with different lengths or shapes) is deprecated. If you meant to do this, you must specify 'dtype=object' when creating the ndarray.\n",
      "  gate_all_condition = np.array(gate_all_condition)\n"
     ]
    },
    {
     "name": "stdout",
     "output_type": "stream",
     "text": [
      "returning EC gate, IC gate dists\n",
      "returning EC gate, IC gate dists\n"
     ]
    }
   ],
   "source": [
    "conditions_gates = {}\n",
    "\n",
    "for condition, universe_list in conditions_universes.items():\n",
    "    gate_all_condition = []\n",
    "    for universe in universe_list:\n",
    "        EC, IC = gate_functions.make_gate_arr(md_uni=universe, \n",
    "                                              gate_EC = [(29,36), (288,294)], \n",
    "                                              gate_IC = [(135,144), (385,393)]\n",
    "                                             )\n",
    "        temp = np.vstack((IC,EC)).T\n",
    "        gate_all_condition.append(temp)\n",
    "    \n",
    "    gate_all_condition = np.array(gate_all_condition)\n",
    "    conditions_gates[condition] = gate_all_condition"
   ]
  },
  {
   "cell_type": "code",
   "execution_count": 7,
   "id": "numerous-compatibility",
   "metadata": {},
   "outputs": [
    {
     "name": "stdout",
     "output_type": "stream",
     "text": [
      "BFRU\n",
      "apo\n"
     ]
    },
    {
     "data": {
      "text/plain": [
       "<matplotlib.legend.Legend at 0x7fe8b9d50e20>"
      ]
     },
     "execution_count": 7,
     "metadata": {},
     "output_type": "execute_result"
    },
    {
     "data": {
      "image/png": "[encoded data removed]",
      "text/plain": [
       "<Figure size 720x720 with 1 Axes>"
      ]
     },
     "metadata": {
      "needs_background": "light"
     },
     "output_type": "display_data"
    }
   ],
   "source": [
    "f = plt.figure(figsize=(10,10))\n",
    "ylim = (0.8, 1.6)\n",
    "xlim = (0.9, 1.6)\n",
    "\n",
    "for condition, gate_distances in conditions_gates.items():\n",
    "    print(condition)\n",
    "    for n, gate_dist in enumerate(gate_distances):\n",
    "        plt.scatter(gate_dist[:,0] / 10.0, gate_dist[:,1] / 10.0, \n",
    "                    label = conditions_titles[condition][n],\n",
    "                    color = conditions_colors[condition][n], \n",
    "                    s = 10, alpha = 0.5)\n",
    "        \n",
    "plt.xlim(xlim)\n",
    "plt.ylim(ylim)\n",
    "plt.legend()"
   ]
  },
  {
   "cell_type": "markdown",
   "id": "crude-translation",
   "metadata": {},
   "source": [
    " "
   ]
  },
  {
   "cell_type": "markdown",
   "id": "circular-drilling",
   "metadata": {},
   "source": [
    " "
   ]
  },
  {
   "cell_type": "markdown",
   "id": "norwegian-humor",
   "metadata": {},
   "source": [
    " "
   ]
  },
  {
   "cell_type": "markdown",
   "id": "unusual-austria",
   "metadata": {},
   "source": [
    " "
   ]
  },
  {
   "cell_type": "markdown",
   "id": "sexual-samuel",
   "metadata": {},
   "source": [
    " <a id='RMSD'></a>\n"
   ]
  },
  {
   "cell_type": "markdown",
   "id": "partial-fundamental",
   "metadata": {},
   "source": [
    "# RMSD to original structure\n",
    "\n",
    "You can just add to `title_model` dictionary which model you would like to compare to each of your FES groups\n",
    "\n",
    "This will add to dictionary `conditions_ref_models` which, as in `conditions_colors` and `conditions_gates` is the variable name and then a list, which is in the same order as the `titles` in `conditions_titles`"
   ]
  },
  {
   "cell_type": "code",
   "execution_count": 8,
   "id": "divine-nightlife",
   "metadata": {},
   "outputs": [],
   "source": [
    "import MDAnalysis.analysis.rms\n",
    "\n",
    "def calc_model_RMSD(model, traj, tpr_start):\n",
    "    if tpr_start: #there is likely a better way to do this but for now, this keeps things clear what we are measuring\n",
    "            RMSD = MDAnalysis.analysis.rms.RMSD(reference=model.select_atoms(\"protein\"), \\\n",
    "                                        atomgroup = traj.select_atoms(\"protein\"), \\\n",
    "                                        center = True, select=\"backbone\", \\\n",
    "            groupselections=[\"backbone and (resid 0-50 or resid 264-299 or resid 117-145 or resid 363-394)\",\\\n",
    "                             \"backbone and (resid 0-204 or resid 264-454)\",\\\n",
    "                             \"resid 29-36 or resid 288-294 or resid 135-144 or resid 385-393\"])  #3,4,5 on rmsd\n",
    "    \n",
    "    \n",
    "    else:\n",
    "        RMSD = MDAnalysis.analysis.rms.RMSD(reference=model.select_atoms(\"protein\"), \\\n",
    "                                            atomgroup = traj.select_atoms(\"protein\"), \\\n",
    "                                            center = True, select=\"backbone\", \\\n",
    "                groupselections=[\"backbone and (resid 1-51 or resid 265-300 or resid 118-146 or resid 364-395)\",\\\n",
    "                                 \"backbone and (resid 1-205 or resid 265-455)\",\\\n",
    "                                 \"resid 30-37 or resid 289-295 or resid 136-145 or resid 386-394\"])  #3,4,5 on rmsd\n",
    "\n",
    "    RMSD.run(0)\n",
    "    rmsd = RMSD.rmsd.T\n",
    "    return rmsd"
   ]
  },
  {
   "cell_type": "code",
   "execution_count": 9,
   "id": "turkish-vancouver",
   "metadata": {},
   "outputs": [],
   "source": [
    "atomistic_path = '../ref_models_protonly'\n",
    "conditions_ref_models = {}\n",
    "\n",
    "title_model = {'out_open':'OUT', 'transition_occ':'OCC'}\n",
    "\n",
    "for condition, titles in conditions_titles.items():\n",
    "    temp = []\n",
    "    for title in titles:\n",
    "        t = '_'.join(title.split('_')[1:])\n",
    "        temp.append(title_model[t])\n",
    "        \n",
    "    conditions_ref_models[condition] = temp\n",
    "\n",
    "\n",
    "    \n",
    "\n",
    "RMSD_titles = [\"frame_number\", \\\n",
    "               \"time\", \"backbone_RMSD\", \"gating_helices\", \\\n",
    "               \"TM_regions\", \"gating_residues\"]\n",
    "\n",
    "all_dfs = []\n",
    "for condition in conditions_titles:\n",
    "    models = conditions_ref_models[condition]\n",
    "    FES_groups = conditions_universes[condition]\n",
    "    \n",
    "    ## don't loop through if you only have 1 FES group to look at\n",
    "    ## call tpr for model so that resid # will be same\n",
    "    \n",
    "    if len(FES_groups) == 1:\n",
    "        model = mda.Universe('../confout_files/tpr_files/influx_apo_gate_CV.protonly.tpr'\\\n",
    "                             f\"{atomistic_path}/{models}.start.protonly.gro\")\n",
    "        FES_group = FES_groups\n",
    "        \n",
    "    else:\n",
    "        temp = []\n",
    "        for model_n, FES_group in zip(models, FES_groups):\n",
    "            model = mda.Universe('../confout_files/tpr_files/influx_apo_gate_CV.protonly.tpr',\\\n",
    "                                 f\"{atomistic_path}/{model_n}.start.protonly.gro\")\n",
    "            rmsd = calc_model_RMSD(model, FES_group, tpr_start = True)\n",
    "            temp.append(pd.DataFrame(rmsd.T, columns=RMSD_titles))\n",
    "    \n",
    "        test = pd.concat(temp, keys = models)\n",
    "        dist_df = test.reset_index(level=[0])\n",
    "        dist_df.rename(columns={'level_0':'model'}, inplace=True)\n",
    "\n",
    "    all_dfs.append(dist_df)\n",
    "\n",
    "result = pd.concat(all_dfs, keys = list(conditions_titles.keys()))\n",
    "result = result.reset_index(level=[0])\n",
    "result.rename(columns={'level_0':'condition'}, inplace=True)\n",
    "result['title']=result.apply(lambda x:'%s_%s' % (x['condition'],x['model']),axis=1)"
   ]
  },
  {
   "cell_type": "markdown",
   "id": "downtown-bandwidth",
   "metadata": {},
   "source": [
    "Plot these RMSDs now:\n",
    "you can plot `backbone_RMSD`, `gating_helices`, `TM_regions`, `gating_residues`\n",
    "\n",
    "swarmplot can take some time to load"
   ]
  },
  {
   "cell_type": "code",
   "execution_count": 57,
   "id": "fantastic-humanitarian",
   "metadata": {},
   "outputs": [
    {
     "data": {
      "text/plain": [
       "(1.0, 4.0)"
      ]
     },
     "execution_count": 57,
     "metadata": {},
     "output_type": "execute_result"
    },
    {
     "data": {
      "image/png": "[encoded data removed]",
      "text/plain": [
       "<Figure size 720x720 with 4 Axes>"
      ]
     },
     "metadata": {
      "needs_background": "light"
     },
     "output_type": "display_data"
    }
   ],
   "source": [
    "my_pal = {}\n",
    "for condition,models in conditions_ref_models.items():\n",
    "    for n, model in enumerate(models):\n",
    "        sns_name = f\"{condition}_{model}\"\n",
    "        my_pal[sns_name] = conditions_colors[condition][n]\n",
    "\n",
    "\n",
    "f,axs = plt.subplots(nrows = 2, ncols=2, figsize = (10,10))  \n",
    "axs = np.ravel(axs)\n",
    "\n",
    "lim = (1,4)\n",
    "vm = sns.violinplot(ax = axs[0], x='title', y = 'backbone_RMSD', data = result, palette=my_pal)\n",
    "vm.set_ylim(lim)\n",
    "vm = sns.violinplot(ax = axs[1], x='title', y = 'gating_helices', data = result, palette=my_pal)\n",
    "vm.set_ylim(lim)\n",
    "vm = sns.violinplot(ax = axs[2], x='title', y = 'TM_regions', data = result, palette=my_pal)\n",
    "vm.set_ylim(lim)\n",
    "vm = sns.violinplot(ax = axs[3], x='title', y = 'gating_residues', data = result, palette=my_pal)\n",
    "vm.set_ylim(lim)\n",
    "\n",
    "#sns.swarmplot(x='title', y = 'backbone_RMSD', data = result, palette=my_pal, size=2)"
   ]
  },
  {
   "cell_type": "code",
   "execution_count": null,
   "id": "acquired-logistics",
   "metadata": {},
   "outputs": [],
   "source": []
  },
  {
   "cell_type": "code",
   "execution_count": null,
   "id": "saved-barbados",
   "metadata": {},
   "outputs": [],
   "source": []
  },
  {
   "cell_type": "markdown",
   "id": "productive-candidate",
   "metadata": {},
   "source": [
    " "
   ]
  },
  {
   "cell_type": "markdown",
   "id": "stupid-cursor",
   "metadata": {},
   "source": [
    " "
   ]
  },
  {
   "cell_type": "markdown",
   "id": "social-milwaukee",
   "metadata": {},
   "source": [
    " "
   ]
  },
  {
   "cell_type": "markdown",
   "id": "involved-lafayette",
   "metadata": {},
   "source": [
    " "
   ]
  },
  {
   "cell_type": "markdown",
   "id": "extraordinary-asset",
   "metadata": {},
   "source": [
    " "
   ]
  },
  {
   "cell_type": "markdown",
   "id": "insured-custody",
   "metadata": {},
   "source": [
    " "
   ]
  },
  {
   "cell_type": "markdown",
   "id": "alleged-creek",
   "metadata": {},
   "source": [
    " "
   ]
  },
  {
   "cell_type": "markdown",
   "id": "chinese-vertex",
   "metadata": {},
   "source": [
    " "
   ]
  },
  {
   "cell_type": "markdown",
   "id": "mexican-scheduling",
   "metadata": {},
   "source": [
    " <a id='sugar'></a>\n"
   ]
  },
  {
   "cell_type": "markdown",
   "id": "labeled-smoke",
   "metadata": {},
   "source": [
    "# sugar coordination\n"
   ]
  },
  {
   "cell_type": "code",
   "execution_count": null,
   "id": "instructional-jerusalem",
   "metadata": {},
   "outputs": [],
   "source": []
  },
  {
   "cell_type": "code",
   "execution_count": null,
   "id": "thick-isaac",
   "metadata": {},
   "outputs": [],
   "source": []
  },
  {
   "cell_type": "code",
   "execution_count": null,
   "id": "radio-madrid",
   "metadata": {},
   "outputs": [],
   "source": []
  },
  {
   "cell_type": "code",
   "execution_count": null,
   "id": "simple-associate",
   "metadata": {},
   "outputs": [],
   "source": []
  },
  {
   "cell_type": "code",
   "execution_count": null,
   "id": "textile-costs",
   "metadata": {},
   "outputs": [],
   "source": []
  },
  {
   "cell_type": "markdown",
   "id": "strong-allen",
   "metadata": {},
   "source": [
    " "
   ]
  },
  {
   "cell_type": "markdown",
   "id": "korean-raleigh",
   "metadata": {},
   "source": [
    " "
   ]
  },
  {
   "cell_type": "markdown",
   "id": "suited-proposal",
   "metadata": {},
   "source": [
    " "
   ]
  },
  {
   "cell_type": "markdown",
   "id": "mediterranean-director",
   "metadata": {},
   "source": [
    " "
   ]
  },
  {
   "cell_type": "markdown",
   "id": "fleet-nicholas",
   "metadata": {},
   "source": [
    " "
   ]
  },
  {
   "cell_type": "markdown",
   "id": "satisfactory-locking",
   "metadata": {},
   "source": [
    "<a id='salt_br'></a>\n"
   ]
  },
  {
   "cell_type": "markdown",
   "id": "signed-hampshire",
   "metadata": {},
   "source": [
    " "
   ]
  },
  {
   "cell_type": "markdown",
   "id": "banner-maintenance",
   "metadata": {},
   "source": [
    "# salt bridge\n",
    "I check this to be sure that the protein is in a state that I think is reasonable and that things that are not the gate spaces are \"well-behaved\""
   ]
  },
  {
   "cell_type": "code",
   "execution_count": 58,
   "id": "everyday-traveler",
   "metadata": {},
   "outputs": [],
   "source": [
    "salt_bridges = [('GLU:145', 'ARG:91'), ('GLU:145', 'ARG:401'), \\\n",
    "                ('GLU:394', 'ARG:152'), ('GLU:394', 'ARG:334'), \\\n",
    "                ('GLU:330', 'ARG:334')]"
   ]
  },
  {
   "cell_type": "code",
   "execution_count": 63,
   "id": "north-toronto",
   "metadata": {},
   "outputs": [],
   "source": [
    "import MDAnalysis.analysis.distances as d\n",
    "\n",
    "def get_salt_bridge(md_uni, salt_bridge_list, paper_num = None):\n",
    "    print ('removing one from each resid, as tpr file being used')\n",
    "    bridges_all = np.zeros((len(salt_bridge_list), len(md_uni.trajectory)))\n",
    "    labels = []\n",
    "    for n, SB in enumerate(salt_bridge_list):\n",
    "        c1 = md_uni.select_atoms(f\"resname {SB[0].split(':')[0]} and resid {int(SB[0].split(':')[1]) - 1}\")\n",
    "        c2 = md_uni.select_atoms(f\"resname {SB[1].split(':')[0]} and resid {int(SB[1].split(':')[1]) - 1}\")\n",
    "    \n",
    "        sb_dists = []\n",
    "        for ts in md_uni.trajectory:\n",
    "            sb_dists.append(np.min(d.distance_array(c1.positions, c2.positions)))\n",
    "        \n",
    "        bridges_all[n] = sb_dists\n",
    "        if not paper_num:\n",
    "            labels.append(f'{SB[0]} - {SB[1]}')\n",
    "        else:\n",
    "            print('Returning label as paper numbering (+6)')\n",
    "            labels.append(f\"{SB[0].split(':')[0]}:{int(SB[0].split(':')[1]) + 6} - {SB[1].split(':')[0]}:{int(SB[1].split(':')[1]) + 6}\")\n",
    "    return bridges_all, labels"
   ]
  },
  {
   "cell_type": "code",
   "execution_count": 80,
   "id": "banned-writer",
   "metadata": {},
   "outputs": [
    {
     "name": "stdout",
     "output_type": "stream",
     "text": [
      "removing one from each resid, as tpr file being used\n"
     ]
    },
    {
     "name": "stderr",
     "output_type": "stream",
     "text": [
      "/home/semccomas/anaconda3/envs/string_method/lib/python3.8/site-packages/MDAnalysis/core/selection.py:675: DeprecationWarning: `np.bool` is a deprecated alias for the builtin `bool`. To silence this warning, use `bool` by itself. Doing this will not modify any behavior and is safe. If you specifically wanted the numpy scalar type, use `np.bool_` here.\n",
      "Deprecated in NumPy 1.20; for more details and guidance: https://numpy.org/devdocs/release/1.20.0-notes.html#deprecations\n",
      "  mask = np.zeros(len(vals), dtype=np.bool)\n"
     ]
    },
    {
     "name": "stdout",
     "output_type": "stream",
     "text": [
      "Returning label as paper numbering (+6)\n",
      "Returning label as paper numbering (+6)\n",
      "Returning label as paper numbering (+6)\n",
      "Returning label as paper numbering (+6)\n",
      "Returning label as paper numbering (+6)\n",
      "removing one from each resid, as tpr file being used\n",
      "Returning label as paper numbering (+6)\n",
      "Returning label as paper numbering (+6)\n",
      "Returning label as paper numbering (+6)\n",
      "Returning label as paper numbering (+6)\n",
      "Returning label as paper numbering (+6)\n",
      "removing one from each resid, as tpr file being used\n",
      "Returning label as paper numbering (+6)\n",
      "Returning label as paper numbering (+6)\n",
      "Returning label as paper numbering (+6)\n",
      "Returning label as paper numbering (+6)\n",
      "Returning label as paper numbering (+6)\n",
      "removing one from each resid, as tpr file being used\n",
      "Returning label as paper numbering (+6)\n",
      "Returning label as paper numbering (+6)\n",
      "Returning label as paper numbering (+6)\n",
      "Returning label as paper numbering (+6)\n",
      "Returning label as paper numbering (+6)\n"
     ]
    }
   ],
   "source": [
    "bridges_df = []\n",
    "for condition, universes in conditions_universes.items():\n",
    "    df_temp = []\n",
    "    titles_temp = []\n",
    "    for n,universe in enumerate(universes):\n",
    "        temp, labels = get_salt_bridge(universe, salt_bridges, paper_num = True)\n",
    "        temp = pd.DataFrame(temp.T, columns = labels)\n",
    "        df_temp.append(temp)\n",
    "        titles_temp.append(conditions_titles[condition][n])\n",
    "        \n",
    "        ## add dfs and join them\n",
    "        temp = pd.concat(df_temp, keys = titles_temp)\n",
    "        temp = temp.reset_index(level=[0])\n",
    "        temp.rename(columns={'level_0':'condition'}, inplace=True)\n",
    "    \n",
    "    bridges_df.append(temp) \n",
    "bridges_df = pd.concat(bridges_df, keys = list(conditions_titles.keys()))\n",
    "bridges_df = bridges_df.reset_index(level=[0])\n",
    "bridges_df.rename(columns={'level_0':'condition2'}, inplace=True)\n",
    "bridges_df['Title']=bridges_df.apply(lambda x:'%s_%s' % (x['condition'],x['condition2']),axis=1)"
   ]
  },
  {
   "cell_type": "code",
   "execution_count": 161,
   "id": "thousand-moderator",
   "metadata": {},
   "outputs": [],
   "source": [
    "split_dfs = []\n",
    "for column in bridges_df.columns:\n",
    "    if ':' in column:\n",
    "        temp = bridges_df.loc[:,[column, 'Title']]\n",
    "        temp.rename(columns={column:'distance'}, inplace=True)\n",
    "        temp = temp.assign(bridge_name = column)\n",
    "        split_dfs.append(temp)\n",
    "\n",
    "bridges_df_reshaped = pd.concat(split_dfs)"
   ]
  },
  {
   "cell_type": "code",
   "execution_count": 194,
   "id": "portable-trick",
   "metadata": {},
   "outputs": [
    {
     "data": {
      "text/plain": [
       "<AxesSubplot:xlabel='Title', ylabel='distance'>"
      ]
     },
     "execution_count": 194,
     "metadata": {},
     "output_type": "execute_result"
    },
    {
     "data": {
      "image/png": "[encoded data removed]",
      "text/plain": [
       "<Figure size 1440x360 with 1 Axes>"
      ]
     },
     "metadata": {
      "needs_background": "light"
     },
     "output_type": "display_data"
    }
   ],
   "source": [
    "f = plt.figure(figsize = (20,5))\n",
    "my_pal = {'GLU:151 - ARG:97':'#8BB4FF', 'GLU:151 - ARG:407':'#00245D', \\\n",
    "          'GLU:400 - ARG:158':'#F9C4B8', 'GLU:400 - ARG:340':'#B70000', 'GLU:336 - ARG:340':'orange'}\n",
    "sns.boxplot(x='Title', y = 'distance', hue = 'bridge_name', data= bridges_df_reshaped, width=0.45, palette=my_pal)"
   ]
  },
  {
   "cell_type": "code",
   "execution_count": null,
   "id": "hybrid-volleyball",
   "metadata": {},
   "outputs": [],
   "source": []
  },
  {
   "cell_type": "code",
   "execution_count": null,
   "id": "chinese-tunnel",
   "metadata": {},
   "outputs": [],
   "source": []
  },
  {
   "cell_type": "code",
   "execution_count": null,
   "id": "brilliant-richardson",
   "metadata": {},
   "outputs": [],
   "source": []
  },
  {
   "cell_type": "code",
   "execution_count": null,
   "id": "diagnostic-offer",
   "metadata": {},
   "outputs": [],
   "source": []
  },
  {
   "cell_type": "code",
   "execution_count": null,
   "id": "lesser-spring",
   "metadata": {},
   "outputs": [],
   "source": []
  }
 ],
 "metadata": {
  "kernelspec": {
   "display_name": "Python 3",
   "language": "python",
   "name": "python3"
  },
  "language_info": {
   "codemirror_mode": {
    "name": "ipython",
    "version": 3
   },
   "file_extension": ".py",
   "mimetype": "text/x-python",
   "name": "python",
   "nbconvert_exporter": "python",
   "pygments_lexer": "ipython3",
   "version": "3.8.5"
  }
 },
 "nbformat": 4,
 "nbformat_minor": 5
}
