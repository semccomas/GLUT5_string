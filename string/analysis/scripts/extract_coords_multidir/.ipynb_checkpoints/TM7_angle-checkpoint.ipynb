{
 "cells": [
  {
   "cell_type": "code",
   "execution_count": 1,
   "id": "ea20ca34",
   "metadata": {},
   "outputs": [],
   "source": [
    "## i will eventually add everything to extract coords but I want to run in parallel right now"
   ]
  },
  {
   "cell_type": "code",
   "execution_count": 1,
   "id": "41913a3a",
   "metadata": {},
   "outputs": [
    {
     "name": "stderr",
     "output_type": "stream",
     "text": [
      "/home/semccomas/anaconda3/envs/string_method/lib/python3.8/site-packages/MDAnalysis/coordinates/TRJ.py:1209: DeprecationWarning: Please use `netcdf_file` from the `scipy.io` namespace, the `scipy.io.netcdf` namespace is deprecated.\n",
      "  class NCDFPicklable(scipy.io.netcdf.netcdf_file):\n"
     ]
    }
   ],
   "source": [
    "import MDAnalysis as mda\n",
    "import numpy as np\n",
    "from MDAnalysis.analysis import distances as d\n",
    "from MDAnalysis.analysis import rms\n",
    "from scipy.linalg import norm"
   ]
  },
  {
   "cell_type": "code",
   "execution_count": 2,
   "id": "bc962ea7",
   "metadata": {},
   "outputs": [],
   "source": [
    "def theta_of_angle(u, s1, s2, s3):\n",
    "    A = u.select_atoms(s1).center_of_geometry()\n",
    "    B = u.select_atoms(s2).center_of_geometry()\n",
    "    C = u.select_atoms(s3).center_of_geometry()\n",
    "\n",
    "    BA = A - B\n",
    "    BC = C - B\n",
    "    theta = np.arccos(np.dot(BA, BC)/(norm(BA)*norm(BC)))\n",
    "    return np.rad2deg(theta)\n",
    "\n",
    "\n",
    "def get_angle(u, set_name, backbone = True):\n",
    "    ## preprocessing\n",
    "    if backbone:\n",
    "        backbone = ' and name CA'\n",
    "    else:\n",
    "        backbone = ''\n",
    "    \n",
    "    sets_sels = {'set1':['283-285', '290-292', '298-300'],\\\n",
    "                 'set2':['284', '291', '299']\n",
    "                }\n",
    "    sels = sets_sels[set_name]\n",
    "    \n",
    "        \n",
    "    theta_u = []\n",
    "    for ts in u.trajectory:\n",
    "        theta = theta_of_angle(u, s1 = f'resid {sels[0]}{backbone}', \n",
    "                        s2 = f'resid {sels[1]}{backbone}', \n",
    "                        s3 = f'resid {sels[2]}{backbone}')\n",
    "\n",
    "        theta_u.append(theta)        \n",
    "\n",
    "    return theta_u"
   ]
  },
  {
   "cell_type": "code",
   "execution_count": 31,
   "id": "0c65d4f2",
   "metadata": {},
   "outputs": [
    {
     "name": "stdout",
     "output_type": "stream",
     "text": [
      "422\n",
      "423\n",
      "424\n",
      "425\n",
      "426\n"
     ]
    },
    {
     "ename": "ValueError",
     "evalue": "could not broadcast input array from shape (452,2) into shape (480,2)",
     "output_type": "error",
     "traceback": [
      "\u001b[0;31m---------------------------------------------------------------------------\u001b[0m",
      "\u001b[0;31mValueError\u001b[0m                                Traceback (most recent call last)",
      "Cell \u001b[0;32mIn[31], line 21\u001b[0m\n\u001b[1;32m     17\u001b[0m out_arr \u001b[38;5;241m=\u001b[39m np\u001b[38;5;241m.\u001b[39mreshape(out_arr,(\u001b[38;5;241m-\u001b[39m\u001b[38;5;241m1\u001b[39m,\u001b[38;5;241m2\u001b[39m)) \u001b[38;5;66;03m## split into 2d array, every other element\u001b[39;00m\n\u001b[1;32m     19\u001b[0m \u001b[38;5;66;03m### so first index from start of iteration to end\u001b[39;00m\n\u001b[1;32m     20\u001b[0m \u001b[38;5;66;03m## then go forward by 448 & add next iter to TM10RMSD array\u001b[39;00m\n\u001b[0;32m---> 21\u001b[0m \u001b[43mTM7_angles\u001b[49m\u001b[43m[\u001b[49m\u001b[43mTM7_angles_index\u001b[49m\u001b[43m:\u001b[49m\u001b[43mTM7_angles_index\u001b[49m\u001b[38;5;241;43m+\u001b[39;49m\u001b[43mswarms_beads_nums\u001b[49m\u001b[43m]\u001b[49m \u001b[38;5;241m=\u001b[39m out_arr\n\u001b[1;32m     22\u001b[0m TM7_angles_index \u001b[38;5;241m=\u001b[39m TM7_angles_index \u001b[38;5;241m+\u001b[39m swarms_beads_nums \n\u001b[1;32m     23\u001b[0m \u001b[38;5;28mprint\u001b[39m(iteration)\n",
      "\u001b[0;31mValueError\u001b[0m: could not broadcast input array from shape (452,2) into shape (480,2)"
     ]
    }
   ],
   "source": [
    "iter_start = 100\n",
    "iter_end = 420\n",
    "n=0\n",
    "\n",
    "TM7_angles = np.zeros((((iter_end-iter_start+1)*15*32),2))\n",
    "TM7_angles_index = 0\n",
    "swarms_beads_nums = 15*32  #need this for proper indexing\n",
    "\n",
    "\n",
    "indir = '../../../string_sims/TMD_initial_path/efflux_apo_gate_CV/efflux_BFRU_start/mntpoint'\n",
    "## always add +1 because we want to include this #, but not get confused\n",
    "for iteration in np.arange(iter_start, iter_end+1):\n",
    "    u = mda.Universe(f'{indir}/0/0/restrained/confout.gro',\\\n",
    "                     f'{indir}/{iteration}/{iteration}.all_beads_swarms.xtc')\n",
    "\n",
    "    out_arr = get_angle(u, set_name = 'set1')\n",
    "    out_arr = np.reshape(out_arr,(-1,2)) ## split into 2d array, every other element\n",
    "    \n",
    "    ### so first index from start of iteration to end\n",
    "    ## then go forward by 448 & add next iter to TM10RMSD array\n",
    "    TM7_angles[TM7_angles_index:TM7_angles_index+swarms_beads_nums] = out_arr\n",
    "    TM7_angles_index = TM7_angles_index + swarms_beads_nums \n",
    "    print(iteration)"
   ]
  },
  {
   "cell_type": "code",
   "execution_count": 32,
   "id": "6238afd3",
   "metadata": {},
   "outputs": [],
   "source": [
    "np.save('../../textfiles_out/not_gates_for_MSM/efflux_testing/efflux_apo_gate_CV.TM7_angle.npy', TM7_angles)"
   ]
  },
  {
   "cell_type": "code",
   "execution_count": 13,
   "id": "8a1d2aad",
   "metadata": {},
   "outputs": [],
   "source": [
    "test = get_angle(u, set_name='set1')"
   ]
  },
  {
   "cell_type": "code",
   "execution_count": 18,
   "id": "ecb91c97",
   "metadata": {},
   "outputs": [
    {
     "data": {
      "text/plain": [
       "368.0"
      ]
     },
     "execution_count": 18,
     "metadata": {},
     "output_type": "execute_result"
    }
   ],
   "source": [
    "np.shape(test)[0]/2"
   ]
  },
  {
   "cell_type": "code",
   "execution_count": 20,
   "id": "53509c68",
   "metadata": {},
   "outputs": [
    {
     "data": {
      "text/plain": [
       "11.5"
      ]
     },
     "execution_count": 20,
     "metadata": {},
     "output_type": "execute_result"
    }
   ],
   "source": [
    "368/32"
   ]
  },
  {
   "cell_type": "code",
   "execution_count": null,
   "id": "5882b51b",
   "metadata": {},
   "outputs": [],
   "source": []
  },
  {
   "cell_type": "code",
   "execution_count": null,
   "id": "e3cb3c38",
   "metadata": {},
   "outputs": [],
   "source": []
  },
  {
   "cell_type": "code",
   "execution_count": 27,
   "id": "20d46844",
   "metadata": {},
   "outputs": [],
   "source": [
    "out = np.vstack((TM7_angles_0_552, TM7_angles))\n",
    "np.save('../../textfiles_out/not_gates_for_MSM/influx_apo_gate_CV.TM7_angle.npy', out)"
   ]
  },
  {
   "cell_type": "code",
   "execution_count": 20,
   "id": "bc9d82e6",
   "metadata": {},
   "outputs": [
    {
     "data": {
      "text/plain": [
       "array([[129.98931333, 129.66409539],\n",
       "       [129.98931333, 132.53852863],\n",
       "       [129.98931333, 133.23175377],\n",
       "       ...,\n",
       "       [ 92.10021637,  90.94755027],\n",
       "       [ 92.10021637,  95.85338762],\n",
       "       [ 92.10021637,  89.87342271]])"
      ]
     },
     "execution_count": 20,
     "metadata": {},
     "output_type": "execute_result"
    }
   ],
   "source": [
    "TM7_angles"
   ]
  },
  {
   "cell_type": "code",
   "execution_count": 24,
   "id": "7046cfff",
   "metadata": {},
   "outputs": [],
   "source": [
    "test = np.load('../../textfiles_out/not_gates_for_MSM/influx_apo_gate_CV.get_angles.npy')"
   ]
  },
  {
   "cell_type": "code",
   "execution_count": 26,
   "id": "32bd52af",
   "metadata": {},
   "outputs": [
    {
     "data": {
      "text/plain": [
       "(289408, 2)"
      ]
     },
     "execution_count": 26,
     "metadata": {},
     "output_type": "execute_result"
    }
   ],
   "source": [
    "np.shape(test)"
   ]
  },
  {
   "cell_type": "code",
   "execution_count": null,
   "id": "0362058a",
   "metadata": {},
   "outputs": [],
   "source": []
  }
 ],
 "metadata": {
  "kernelspec": {
   "display_name": "Python 3 (ipykernel)",
   "language": "python",
   "name": "python3"
  },
  "language_info": {
   "codemirror_mode": {
    "name": "ipython",
    "version": 3
   },
   "file_extension": ".py",
   "mimetype": "text/x-python",
   "name": "python",
   "nbconvert_exporter": "python",
   "pygments_lexer": "ipython3",
   "version": "3.8.5"
  }
 },
 "nbformat": 4,
 "nbformat_minor": 5
}
