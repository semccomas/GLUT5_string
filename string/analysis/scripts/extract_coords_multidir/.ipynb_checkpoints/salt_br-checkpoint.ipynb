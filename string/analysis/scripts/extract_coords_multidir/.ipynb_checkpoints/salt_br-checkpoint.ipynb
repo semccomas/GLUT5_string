{
 "cells": [
  {
   "cell_type": "code",
   "execution_count": 1,
   "id": "b4ac1689",
   "metadata": {},
   "outputs": [],
   "source": [
    "##e145-r401 and e394-r152 are the state dependent ones"
   ]
  },
  {
   "cell_type": "code",
   "execution_count": 2,
   "id": "0a7241c3",
   "metadata": {},
   "outputs": [
    {
     "name": "stderr",
     "output_type": "stream",
     "text": [
      "/home/semccomas/anaconda3/envs/string_method/lib/python3.8/site-packages/MDAnalysis/coordinates/TRJ.py:1209: DeprecationWarning: Please use `netcdf_file` from the `scipy.io` namespace, the `scipy.io.netcdf` namespace is deprecated.\n",
      "  class NCDFPicklable(scipy.io.netcdf.netcdf_file):\n"
     ]
    }
   ],
   "source": [
    "import MDAnalysis as mda\n",
    "import numpy as np\n",
    "from MDAnalysis.analysis import distances as d"
   ]
  },
  {
   "cell_type": "code",
   "execution_count": 3,
   "id": "c55dd5a7",
   "metadata": {},
   "outputs": [],
   "source": [
    "def get_salt_br(u, res1_n, res2_n):\n",
    "    dists = []\n",
    "    res1 = u.select_atoms(res1_n)\n",
    "    res2 = u.select_atoms(res2_n)\n",
    "    for ts in u.trajectory:\n",
    "        dists.append(np.min(d.distance_array(res1.positions, res2.positions)))\n",
    "    return np.array(dists)"
   ]
  },
  {
   "cell_type": "code",
   "execution_count": 10,
   "id": "293233dc",
   "metadata": {},
   "outputs": [],
   "source": [
    "iter_start = 100\n",
    "iter_end = 552\n",
    "n=0\n",
    "\n",
    "salt_br1 = np.zeros(((453*14*32),2))\n",
    "salt_br2 = np.zeros(((453*14*32),2))\n",
    "\n",
    "salt_br_index = 0\n",
    "swarms_beads_nums = 14*32  #need this for proper indexing\n",
    "\n",
    "\n",
    "indir = '../../../string_sims/TMD_initial_path/influx_BFRU_gate_CV/md/'\n",
    "## always add +1 because we want to include this #, but not get confused\n",
    "for iteration in np.arange(iter_start, iter_end+1):\n",
    "    u = mda.Universe(f'{indir}/0/0/restrained/confout.gro',\\\n",
    "                     f'{indir}/{iteration}/{iteration}.all_beads_swarms.xtc')\n",
    "\n",
    "    out_arr1 = get_salt_br(u, res1_n='resid 145 and resname GLU', res2_n='resid 401 and resname ARG')\n",
    "    out_arr1 = np.reshape(out_arr1,(-1,2)) ## split into 2d array, every other element\n",
    "\n",
    "    \n",
    "    out_arr2 = get_salt_br(u, res1_n='resid 394 and resname GLU', res2_n='resid 152 and resname ARG')\n",
    "    out_arr2 = np.reshape(out_arr2,(-1,2)) ## split into 2d array, every other element\n",
    "    \n",
    "    \n",
    "    \n",
    "    ### so first index from start of iteration to end\n",
    "    ## then go forward by 448 & add next iter to TM10RMSD array\n",
    "    salt_br1[salt_br_index:salt_br_index+swarms_beads_nums] = out_arr1\n",
    "    salt_br2[salt_br_index:salt_br_index+swarms_beads_nums] = out_arr2\n",
    "\n",
    "    salt_br_index = salt_br_index + swarms_beads_nums "
   ]
  },
  {
   "cell_type": "code",
   "execution_count": 15,
   "id": "fd649e58",
   "metadata": {},
   "outputs": [],
   "source": [
    "np.save('../../textfiles_out/not_gates_for_MSM/influx_BFRU_gate_CV.salt_br1.npy', salt_br1)\n",
    "np.save('../../textfiles_out/not_gates_for_MSM/influx_BFRU_gate_CV.salt_br2.npy', salt_br2)"
   ]
  },
  {
   "cell_type": "code",
   "execution_count": 16,
   "id": "31a58442",
   "metadata": {},
   "outputs": [
    {
     "data": {
      "text/plain": [
       "array([[1.79702324, 1.8521882 ],\n",
       "       [1.79702324, 1.79211766],\n",
       "       [1.79702324, 1.71306428],\n",
       "       ...,\n",
       "       [6.39806366, 6.82684553],\n",
       "       [6.39806366, 6.91724768],\n",
       "       [6.39806366, 6.68819742]])"
      ]
     },
     "execution_count": 16,
     "metadata": {},
     "output_type": "execute_result"
    }
   ],
   "source": [
    "salt_br1"
   ]
  },
  {
   "cell_type": "code",
   "execution_count": 17,
   "id": "27df6885",
   "metadata": {},
   "outputs": [
    {
     "data": {
      "text/plain": [
       "array([[1.79702324, 1.8521882 ],\n",
       "       [1.79702324, 1.79211766],\n",
       "       [1.79702324, 1.71306428],\n",
       "       ...,\n",
       "       [6.39806366, 6.82684553],\n",
       "       [6.39806366, 6.91724768],\n",
       "       [6.39806366, 6.68819742]])"
      ]
     },
     "execution_count": 17,
     "metadata": {},
     "output_type": "execute_result"
    }
   ],
   "source": [
    "np.load('../../textfiles_out/not_gates_for_MSM/influx_BFRU_gate_CV.salt_br1.npy')"
   ]
  },
  {
   "cell_type": "code",
   "execution_count": null,
   "id": "92f9d8ed",
   "metadata": {},
   "outputs": [],
   "source": []
  }
 ],
 "metadata": {
  "kernelspec": {
   "display_name": "Python 3 (ipykernel)",
   "language": "python",
   "name": "python3"
  },
  "language_info": {
   "codemirror_mode": {
    "name": "ipython",
    "version": 3
   },
   "file_extension": ".py",
   "mimetype": "text/x-python",
   "name": "python",
   "nbconvert_exporter": "python",
   "pygments_lexer": "ipython3",
   "version": "3.8.5"
  }
 },
 "nbformat": 4,
 "nbformat_minor": 5
}
