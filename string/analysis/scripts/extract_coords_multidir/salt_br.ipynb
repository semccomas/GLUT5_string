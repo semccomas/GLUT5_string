{
 "cells": [
  {
   "cell_type": "code",
   "execution_count": 1,
   "id": "b4ac1689",
   "metadata": {},
   "outputs": [],
   "source": [
    "##e145-r401 and e394-r152 are the state dependent ones"
   ]
  },
  {
   "cell_type": "code",
   "execution_count": 2,
   "id": "0a7241c3",
   "metadata": {},
   "outputs": [
    {
     "name": "stderr",
     "output_type": "stream",
     "text": [
      "/home/semccomas/anaconda3/envs/string_method/lib/python3.8/site-packages/MDAnalysis/coordinates/TRJ.py:1209: DeprecationWarning: Please use `netcdf_file` from the `scipy.io` namespace, the `scipy.io.netcdf` namespace is deprecated.\n",
      "  class NCDFPicklable(scipy.io.netcdf.netcdf_file):\n"
     ]
    }
   ],
   "source": [
    "import MDAnalysis as mda\n",
    "import numpy as np\n",
    "from MDAnalysis.analysis import distances as d"
   ]
  },
  {
   "cell_type": "code",
   "execution_count": 3,
   "id": "c55dd5a7",
   "metadata": {},
   "outputs": [],
   "source": [
    "def get_salt_br(u, res1_n, res2_n):\n",
    "    dists = []\n",
    "    res1 = u.select_atoms(res1_n)\n",
    "    res2 = u.select_atoms(res2_n)\n",
    "    for ts in u.trajectory:\n",
    "        dists.append(np.min(d.distance_array(res1.positions, res2.positions)))\n",
    "    return np.array(dists)"
   ]
  },
  {
   "cell_type": "code",
   "execution_count": null,
   "id": "293233dc",
   "metadata": {},
   "outputs": [
    {
     "name": "stdout",
     "output_type": "stream",
     "text": [
      "100\n",
      "101\n",
      "102\n",
      "103\n",
      "104\n",
      "105\n",
      "106\n",
      "107\n",
      "108\n",
      "109\n",
      "110\n",
      "111\n",
      "112\n",
      "113\n",
      "114\n",
      "115\n",
      "116\n",
      "117\n",
      "118\n",
      "119\n",
      "120\n",
      "121\n",
      "122\n",
      "123\n",
      "124\n",
      "125\n",
      "126\n",
      "127\n",
      "128\n",
      "129\n",
      "130\n"
     ]
    }
   ],
   "source": [
    "iter_start = 100\n",
    "iter_end = 745\n",
    "n=0\n",
    "\n",
    "salt_br1 = np.zeros((((iter_end-iter_start+1)*14*32),2))\n",
    "salt_br2 = np.zeros((((iter_end-iter_start+1)*14*32),2))\n",
    "\n",
    "salt_br_index = 0\n",
    "swarms_beads_nums = 14*32  #need this for proper indexing\n",
    "\n",
    "\n",
    "indir = '../../../string_sims/TMD_initial_path/influx_apo_gate_CV/md/'\n",
    "## always add +1 because we want to include this #, but not get confused\n",
    "for iteration in np.arange(iter_start, iter_end+1):\n",
    "    u = mda.Universe(f'{indir}/0/0/restrained/confout.gro',\\\n",
    "                     f'{indir}/{iteration}/{iteration}.all_beads_swarms.xtc')\n",
    "\n",
    "    out_arr1 = get_salt_br(u, res1_n='resid 145 and resname GLU and name OE1 OE2', \\\n",
    "                           res2_n='resid 401 and resname ARG and name NE HE NH1 NH2 HH11 HH12 HH21 HH22')\n",
    "    out_arr1 = np.reshape(out_arr1,(-1,2)) ## split into 2d array, every other element\n",
    "\n",
    "    \n",
    "    out_arr2 = get_salt_br(u, res1_n='resid 394 and resname GLU and name OE1 OE2', \\\n",
    "                           res2_n='resid 152 and resname ARG and name NE HE NH1 NH2 HH11 HH12 HH21 HH22')\n",
    "    out_arr2 = np.reshape(out_arr2,(-1,2)) ## split into 2d array, every other element\n",
    "    \n",
    "    \n",
    "    \n",
    "    ### so first index from start of iteration to end\n",
    "    ## then go forward by 448 & add next iter to TM10RMSD array\n",
    "    salt_br1[salt_br_index:salt_br_index+swarms_beads_nums] = out_arr1\n",
    "    salt_br2[salt_br_index:salt_br_index+swarms_beads_nums] = out_arr2\n",
    "\n",
    "    salt_br_index = salt_br_index + swarms_beads_nums \n",
    "    \n",
    "    print(iteration)"
   ]
  },
  {
   "cell_type": "code",
   "execution_count": null,
   "id": "fd649e58",
   "metadata": {},
   "outputs": [],
   "source": [
    "np.save('../../textfiles_out/not_gates_for_MSM/influx_apo_gate_CV.salt_br1.charged.npy', salt_br1)\n",
    "np.save('../../textfiles_out/not_gates_for_MSM/influx_apo_gate_CV.salt_br2.charged.npy', salt_br2)"
   ]
  },
  {
   "cell_type": "code",
   "execution_count": 34,
   "id": "31a58442",
   "metadata": {},
   "outputs": [
    {
     "data": {
      "text/plain": [
       "202944"
      ]
     },
     "execution_count": 34,
     "metadata": {},
     "output_type": "execute_result"
    }
   ],
   "source": [
    "453*32*14"
   ]
  },
  {
   "cell_type": "code",
   "execution_count": 38,
   "id": "beaeb3ed",
   "metadata": {},
   "outputs": [],
   "source": [
    "salt_br2 = salt_br2[:202944]"
   ]
  },
  {
   "cell_type": "code",
   "execution_count": 17,
   "id": "27df6885",
   "metadata": {},
   "outputs": [],
   "source": [
    "atom_sims = ['OUT', 'OUT-OCC', 'OCC', 'IN-OCC', 'IN']\n",
    "\n",
    "features_sims1 = []\n",
    "features_sims2 = []\n",
    "for atom_sim in atom_sims:\n",
    "    u = mda.Universe(f'../../ref_models_protonly/{atom_sim}.start.protonly.gro')\n",
    "    temp1=get_salt_br(u,res1_n='resid 145 and resname GLU', res2_n='resid 401 and resname ARG')\n",
    "    temp2=get_salt_br(u, res1_n='resid 394 and resname GLU', res2_n='resid 152 and resname ARG')\n",
    "\n",
    "    \n",
    "    features_sims1.append(temp1)\n",
    "    features_sims2.append(temp2)\n",
    "\n",
    "np.save('../../textfiles_out/not_gates_for_MSM/atom_sims.salt_br1.npy', features_sims1)\n",
    "np.save('../../textfiles_out/not_gates_for_MSM/atom_sims.salt_br2.npy', features_sims2)"
   ]
  },
  {
   "cell_type": "code",
   "execution_count": 18,
   "id": "457de869",
   "metadata": {},
   "outputs": [
    {
     "data": {
      "text/plain": [
       "<matplotlib.legend.Legend at 0x7f61f2caa8b0>"
      ]
     },
     "execution_count": 18,
     "metadata": {},
     "output_type": "execute_result"
    },
    {
     "data": {
      "image/png": "[encoded data removed]",
      "text/plain": [
       "<Figure size 640x480 with 1 Axes>"
      ]
     },
     "metadata": {},
     "output_type": "display_data"
    }
   ],
   "source": [
    "import matplotlib.pyplot as plt\n",
    "for n,name in enumerate(atom_sims):\n",
    "    #plt.scatter(n, features_sims1[n], s=40)\n",
    "    plt.scatter(n,features_sims2[n], label=name)\n",
    "plt.legend()\n",
    "#plt.xlim(0.35, 0.90)\n",
    "#plt.ylim(0.35,0.90)"
   ]
  },
  {
   "cell_type": "code",
   "execution_count": 12,
   "id": "c6c43ab4",
   "metadata": {},
   "outputs": [
    {
     "data": {
      "text/plain": [
       "array([1.80106192])"
      ]
     },
     "execution_count": 12,
     "metadata": {},
     "output_type": "execute_result"
    }
   ],
   "source": [
    "features_sims2[1]"
   ]
  },
  {
   "cell_type": "code",
   "execution_count": null,
   "id": "f06c5019",
   "metadata": {},
   "outputs": [],
   "source": []
  }
 ],
 "metadata": {
  "kernelspec": {
   "display_name": "Python 3 (ipykernel)",
   "language": "python",
   "name": "python3"
  },
  "language_info": {
   "codemirror_mode": {
    "name": "ipython",
    "version": 3
   },
   "file_extension": ".py",
   "mimetype": "text/x-python",
   "name": "python",
   "nbconvert_exporter": "python",
   "pygments_lexer": "ipython3",
   "version": "3.8.5"
  }
 },
 "nbformat": 4,
 "nbformat_minor": 5
}
