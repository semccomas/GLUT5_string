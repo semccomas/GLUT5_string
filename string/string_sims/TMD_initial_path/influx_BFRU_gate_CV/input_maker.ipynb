{
 "cells": [
  {
   "cell_type": "markdown",
   "metadata": {},
   "source": [
    "# Input Maker for String-method simulations.\n",
    "\n",
    "With this notebook you will be able to prepare the input files for string-method simulation as well as the optional preparatory steering simulation. The necessary `.mdp` files will be generated, the cvs will be defined as well as optionally the initial string. \n",
    "\n",
    "This notebook only deals with cvs that are distances between atoms or centers of mass of groups of atoms. Nevertheless, we invite you to try it to understand the logic of the pull coordinates and mdp file creation so you can later adapt it to your own cvs (dihedrals, angles etc). The main limitation of the CVs that can be used is the feature availability of the pull-code of gromacs. \n",
    "\n",
    "Let's get started!"
   ]
  },
  {
   "cell_type": "markdown",
   "metadata": {},
   "source": [
    "Make sure you have installed the imports in this library. "
   ]
  },
  {
   "cell_type": "code",
   "execution_count": 1,
   "metadata": {},
   "outputs": [],
   "source": [
    "import sys\n",
    "import MDAnalysis as mda\n",
    "import numpy as np\n",
    "import glob\n",
    "import matplotlib.pyplot as plt\n",
    "from math import ceil\n",
    "import os\n",
    "import shutil\n",
    "import pickle"
   ]
  },
  {
   "cell_type": "code",
   "execution_count": 2,
   "metadata": {},
   "outputs": [],
   "source": [
    "def distance_atom_groups(u, sel1, sel2, progressbar=True, center_of_mass=False):\n",
    "    \"\"\"\n",
    "    Calculate the distance between the centers of geometry (or mass) between two groups (sel1, sel2) as a function of time in the trajectory trj.\n",
    "\n",
    "    Parameters\n",
    "    ----------\n",
    "    u: MDA universe to analyz trajectory to analyze.\n",
    "    sel1: MDA selection containing at least 1 atom.\n",
    "    sel2: MDA selection containing at least 1 atom.\n",
    "    center_of_mass: Use the center of mass instead of center of geometry.\n",
    "    progressbar: Show progressbar.\n",
    "\n",
    "    Returns\n",
    "    -------\n",
    "    d: matplotlib figure object.\n",
    "    \"\"\"\n",
    "    from MDAnalysis import Universe\n",
    "    from MDAnalysis import AtomGroup\n",
    "    from numpy import array\n",
    "    from tqdm import tqdm\n",
    "    from numpy.linalg import norm\n",
    "\n",
    "    assert isinstance(u, Universe), \"u should be a MDAnlaysis universe.\"\n",
    "    assert isinstance(sel1, AtomGroup), \"sel1 should be a MDAnlaysis universe.\"\n",
    "    assert isinstance(sel2, AtomGroup), \"sel2 should be a MDAnlaysis universe.\"\n",
    "    assert isinstance(progressbar, bool), \"progressbar should be boolean.\"\n",
    "    assert sel1.n_atoms >= 1, \"sel1 should have at least 1 atom.\"\n",
    "    assert sel2.n_atoms >= 1, \"sel2 should have at least 1 atom.\"\n",
    "\n",
    "    d = []\n",
    "    for i, ts in tqdm(\n",
    "        enumerate(u.trajectory), total=u.trajectory.n_frames, disable=not progressbar\n",
    "    ):\n",
    "        if center_of_mass:\n",
    "            csel1 = sel1.center_of_mass()\n",
    "            csel2 = sel2.center_of_mass()\n",
    "        else:\n",
    "            csel1 = sel1.centroid()\n",
    "            csel2 = sel2.centroid()\n",
    "        d.append([ts.dt * i, norm(csel1 - csel2)])\n",
    "    return array(d)"
   ]
  },
  {
   "cell_type": "markdown",
   "metadata": {},
   "source": [
    "## Choose working directory\n",
    "\n",
    "In the cell bellow you can select which will be the simulation directory (in case this notebook is elsewhere). If the notebook is in the simulation directory just leave it as \".\"."
   ]
  },
  {
   "cell_type": "code",
   "execution_count": 3,
   "metadata": {},
   "outputs": [
    {
     "data": {
      "text/plain": [
       "'/data2/GLUT5_string/string/string_sims/TMD_initial_path/influx_BFRU_gate_CV'"
      ]
     },
     "execution_count": 3,
     "metadata": {},
     "output_type": "execute_result"
    }
   ],
   "source": [
    "simulation_directory = \".\"\n",
    "os.chdir(simulation_directory)\n",
    "os.getcwd()"
   ]
  },
  {
   "cell_type": "markdown",
   "metadata": {},
   "source": [
    "## Choosing starting and final configurations\n",
    "\n",
    "With `start.gro` and `end.gro` are used to define the initial and final values of the cvs in the string.\n",
    "\n",
    "Note that since `.gro` files don't always have the best topology information might need to add some sort of topology file like so:\n",
    "```python\n",
    "start = mda.Universe('topology/top.pdb', 'topology/start.gro')\n",
    "```\n",
    "Of course, `start.pdb` or `end.pdb` can also be used directly"
   ]
  },
  {
   "cell_type": "code",
   "execution_count": 4,
   "metadata": {},
   "outputs": [
    {
     "name": "stderr",
     "output_type": "stream",
     "text": [
      "/home/semccomas/anaconda3/envs/string_method/lib/python3.8/site-packages/MDAnalysis/topology/base.py:203: DeprecationWarning: `np.int` is a deprecated alias for the builtin `int`. To silence this warning, use `int` by itself. Doing this will not modify any behavior and is safe. When replacing `np.int`, you may wish to use e.g. `np.int64` or `np.int32` to specify the precision. If you wish to review your current use, check the release note link for additional information.\n",
      "Deprecated in NumPy 1.20; for more details and guidance: https://numpy.org/devdocs/release/1.20.0-notes.html#deprecations\n",
      "  residx = np.zeros_like(criteria[0], dtype=np.int)\n"
     ]
    }
   ],
   "source": [
    "start = mda.Universe(\"topology/start.gro\")\n",
    "# start = mda.Universe('topology/top.pdb', 'topology/start.gro')\n",
    "end = mda.Universe(\"topology/end.gro\")\n",
    "# end = mda.Universe('topology/top.pdb', 'topology/end.gro')"
   ]
  },
  {
   "cell_type": "markdown",
   "metadata": {},
   "source": [
    "## Choosing number of bead on string\n",
    "\n",
    "Choose the number of beads of the string. This should be done keeping in mind the parallelization conditions that will be used and if the first and last strings of the bead will be mobile or fixed. For the @DelemotteLab HPC environment 34 beads (32 of them moving) is a good starting point. Additional information about the parallelization can be found in the main `README.md` of the repository."
   ]
  },
  {
   "cell_type": "code",
   "execution_count": 5,
   "metadata": {},
   "outputs": [],
   "source": [
    "n_beads = 14 + 2"
   ]
  },
  {
   "cell_type": "markdown",
   "metadata": {},
   "source": [
    "## Defining the CVs\n",
    "\n",
    "The dictionary `ndx_groups` defines the index groups that will be added to `index0.ndx` and will be used by gmx to calculate the string cvs. The key-value pairs of the dictionary are the alias of the index group (no spaces please) and the `MDAnalysis` selection-string of the group. You can read more about MDAnalysis selections [here](https://docs.mdanalysis.org/stable/documentation_pages/selections.html). \n",
    "\n",
    "The cvs will be the distances between the centers of mass of the consequtive pairs of groups.\n",
    "\n",
    "In this example bellow there would be two CVs: \n",
    "```python \n",
    "ndx_groups = {\n",
    "    \"CA_77_A\": \"name CA and resid 77 and segid PROA\",\n",
    "    \"CA_77_B\": \"name CA and resid 77 and segid PROB\",\n",
    "    \"112_A\": \"resid 112 and segid PROA\",\n",
    "    \"13_C\": \"resid 13 and segid PROC\",\n",
    "}\n",
    "```\n",
    "1. The distance between CA atoms of resid 77 of segid PROA and resid 77 of segment PROB.\n",
    "2. The distance between the center of mass of resid 112 of segid PROA and the center of mass of resid 13 of segid PROC. \n",
    "\n",
    "For this example we will use other CVs special for GPCRs. In this case we will select the atoms by using their index number. If a group or groups are involved in two distances, for the set up of this notebook, its best to write them twice in this list with a slightly different name. This is the case for `a_4334`  which is involved in two distances with `a_863` and also `a_1971`. For this reason we add the entries `a_863b` and also `a_1971b`."
   ]
  },
  {
   "cell_type": "code",
   "execution_count": 6,
   "metadata": {},
   "outputs": [],
   "source": [
    "## these groups are from intial gating distance plots, using same values basically always\n",
    "ndx_groups = {\n",
    " 'TM1': 'resid 30-37',\n",
    " 'TM7': 'resid 289-295',\n",
    " 'TM4': 'resid 136-145',\n",
    " 'TM10': 'resid 386-394',\n",
    " }\n",
    "n_groups = len(ndx_groups.keys())"
   ]
  },
  {
   "cell_type": "markdown",
   "metadata": {},
   "source": [
    "The next cell will show you which pairs will be used as cvs:"
   ]
  },
  {
   "cell_type": "code",
   "execution_count": 7,
   "metadata": {},
   "outputs": [
    {
     "name": "stdout",
     "output_type": "stream",
     "text": [
      "Pairs of groups whose distance are cvs:\n",
      "TM1 - TM7\n",
      "TM4 - TM10\n"
     ]
    }
   ],
   "source": [
    "cvs = []\n",
    "for i in range(1, len(ndx_groups) + 1, 2):\n",
    "    cvs.append([i, i + 1])\n",
    "n_cvs = len(cvs)\n",
    "print(\"Pairs of groups whose distance are cvs:\")\n",
    "keys_groups = list(ndx_groups.keys())\n",
    "for i in range(n_cvs):\n",
    "    print(f\"{keys_groups[cvs[i][0]-1]} - {keys_groups[cvs[i][1]-1]}\")"
   ]
  },
  {
   "cell_type": "markdown",
   "metadata": {},
   "source": [
    "## Choosing force constants\n",
    "\n",
    "The list `kappas` contains the force constants for the steered simulation, the restrained portions of the string-simulation and the swarms of the the string-simulation.\n",
    "\n",
    "The force constant of the swarm simulation should always be 0."
   ]
  },
  {
   "cell_type": "code",
   "execution_count": 8,
   "metadata": {},
   "outputs": [],
   "source": [
    "kappas = [10000.0, 10000.0, 0.0]\n",
    "assert kappas[2] == 0.0, \"The kappa of the swarm simulation should be 0\""
   ]
  },
  {
   "cell_type": "markdown",
   "metadata": {},
   "source": [
    "These are the printing frequency of the cvs (pull-coordinates), best not to modify."
   ]
  },
  {
   "cell_type": "code",
   "execution_count": 9,
   "metadata": {},
   "outputs": [],
   "source": [
    "nstxout = [50000, 5000, 5000]"
   ]
  },
  {
   "cell_type": "markdown",
   "metadata": {},
   "source": [
    "## Making the input files:\n",
    "\n",
    "At this point you need to modify `swarms.mdp`, `restrained.mdp` and `steered.mdp`. There are instructions inside of which parts need to be modified. The pull section will be modified by this notebook.\n",
    "\n",
    "The cell bellow will append the pull-coord parameters to the `mdp` files and append the groups for cvs to `index0.ndx` generating `index.ndx`.\n",
    "\n",
    "A pickle file with the `cvs`and `ndx_groups` will be generated for future reference.\n",
    "\n",
    "If you are re-running this notebook to check the steering simulation set `write_mdps = False`."
   ]
  },
  {
   "cell_type": "code",
   "execution_count": 10,
   "metadata": {},
   "outputs": [],
   "source": [
    "write_mdps = True"
   ]
  },
  {
   "cell_type": "code",
   "execution_count": 11,
   "metadata": {},
   "outputs": [
    {
     "name": "stderr",
     "output_type": "stream",
     "text": [
      "/home/semccomas/anaconda3/envs/string_method/lib/python3.8/site-packages/MDAnalysis/core/selection.py:675: DeprecationWarning: `np.bool` is a deprecated alias for the builtin `bool`. To silence this warning, use `bool` by itself. Doing this will not modify any behavior and is safe. If you specifically wanted the numpy scalar type, use `np.bool_` here.\n",
      "Deprecated in NumPy 1.20; for more details and guidance: https://numpy.org/devdocs/release/1.20.0-notes.html#deprecations\n",
      "  mask = np.zeros(len(vals), dtype=np.bool)\n"
     ]
    }
   ],
   "source": [
    "pickle.dump([cvs, ndx_groups], open(\"cv.pkl\", \"wb\"))\n",
    "\n",
    "shutil.copy(\"topology/index0.ndx\", \"topology/index.ndx\")\n",
    "\n",
    "for key in ndx_groups.keys():\n",
    "    group = start.select_atoms(ndx_groups[key])\n",
    "    group.write(\"topology/index.ndx\", name=key, mode=\"a\")\n",
    "\n",
    "files = [\n",
    "    open(file, \"r\").readlines()\n",
    "    for file in [\"mdp/steered.mdp\", \"mdp/restrained.mdp\", \"mdp/swarms.mdp\"]\n",
    "]\n",
    "\n",
    "for j, file in enumerate(files):\n",
    "    final_line = len(file)\n",
    "    for i, line in enumerate(file):\n",
    "        if line.strip() == \";start pull\":\n",
    "            final_line = i\n",
    "            break\n",
    "    if line.strip() != \";start pull\":\n",
    "        file.append(\";start pull\")\n",
    "    files[j] = file[0 : final_line + 1]\n",
    "\n",
    "for f, file in enumerate(files):\n",
    "    file.append(\"\\n\")\n",
    "    file.append(\"pull = yes\\n\")\n",
    "    file.append(f\"pull-ngroups = {n_groups}\\n\")\n",
    "    file.append(\"\\n\")\n",
    "    for i, key in enumerate(ndx_groups.keys()):\n",
    "        file.append(f\"pull-group{i+1}-name = {key}\\n\")\n",
    "    file.append(\"\\n\")\n",
    "    file.append(f\"pull-ncoords = {n_cvs}\\n\")\n",
    "    for i, cv in enumerate(cvs):\n",
    "        if len(cv) == 2:\n",
    "            file.append(f\"pull-coord{i+1}-geometry = distance\\n\")\n",
    "            file.append(f\"pull-coord{i+1}-k = {kappas[f]}\\n\")\n",
    "            g = \" \".join(str(e) for e in cv)\n",
    "            file.append(f\"pull-coord{i+1}-groups = {g}\\n\")\n",
    "    file.append(\"\\n\")\n",
    "    file.append(\"pull-print-components = no\\n\")\n",
    "    file.append(f\"pull-nstxout = {nstxout[f]}\\n\")\n",
    "    file.append(\"pull-nstfout = 0\\n\")\n",
    "\n",
    "if write_mdps:\n",
    "    for f, file_string in enumerate(\n",
    "        [\"mdp/steered.mdp\", \"mdp/restrained.mdp\", \"mdp/swarms.mdp\"]\n",
    "    ):\n",
    "        with open(file_string, \"w\") as file:\n",
    "            for line in files[f]:\n",
    "                file.write(line)"
   ]
  },
  {
   "cell_type": "markdown",
   "metadata": {},
   "source": [
    "Now that the `.mdp` files and indeces have been made it is always a good idea to check them out and see they do what you want them to. The pull coordinates are missing some parameters that are automatically added during simulation. Here are mdp parameters of gmx for [reference](https://manual.gromacs.org/documentation/2020/user-guide/mdp-options.html#com-pulling)."
   ]
  },
  {
   "cell_type": "markdown",
   "metadata": {},
   "source": [
    "## Making the initial string `string0.txt`"
   ]
  },
  {
   "cell_type": "markdown",
   "metadata": {},
   "source": [
    "If you have made your own string you can skip this section and place its corresponding file in `strings/string0.txt`. Remember this file must follow the `np.savetxt` format and have shape (n_bead, ncvs).\n",
    "\n",
    "If you don't have a string0.txt. You can created with the code below. The code makes a linear interpolation between the value of the CVs at `start.gro` and `end.gro`. If you want something fancier, you can program any thing you want."
   ]
  },
  {
   "cell_type": "code",
   "execution_count": 12,
   "metadata": {},
   "outputs": [
    {
     "name": "stderr",
     "output_type": "stream",
     "text": [
      "/home/semccomas/anaconda3/envs/string_method/lib/python3.8/site-packages/MDAnalysis/coordinates/base.py:865: UserWarning: Reader has no dt information, set to 1.0 ps\n",
      "  warnings.warn(\"Reader has no dt information, set to 1.0 ps\")\n"
     ]
    }
   ],
   "source": [
    "dis_s = []\n",
    "dis_e = []\n",
    "for cv in cvs:\n",
    "    dis_s.append(\n",
    "        distance_atom_groups(\n",
    "            start,\n",
    "            start.select_atoms(ndx_groups[list(ndx_groups.keys())[cv[0] - 1]]),\n",
    "            start.select_atoms(ndx_groups[list(ndx_groups.keys())[cv[1] - 1]]),\n",
    "            progressbar=False,\n",
    "            center_of_mass=True,\n",
    "        )[0][1]\n",
    "    )\n",
    "    dis_e.append(\n",
    "        distance_atom_groups(\n",
    "            end,\n",
    "            end.select_atoms(ndx_groups[list(ndx_groups.keys())[cv[0] - 1]]),\n",
    "            end.select_atoms(ndx_groups[list(ndx_groups.keys())[cv[1] - 1]]),\n",
    "            progressbar=False,\n",
    "            center_of_mass=True,\n",
    "        )[0][1]\n",
    "    )\n",
    "dis_s = np.array(dis_s)\n",
    "dis_e = np.array(dis_e)"
   ]
  },
  {
   "cell_type": "markdown",
   "metadata": {},
   "source": [
    "If your atoms groups have more than 1 atom. With the code bellow you can check the masses of the atoms used in the groups to see if something is fishy:"
   ]
  },
  {
   "cell_type": "code",
   "execution_count": 13,
   "metadata": {},
   "outputs": [
    {
     "name": "stdout",
     "output_type": "stream",
     "text": [
      "Masses for the start config.\n",
      " \n",
      "Masses of TM1:  14.007 1.008 12.011 1.008 12.011 1.008 1.008 1.008 12.011 15.999 14.007 1.008 12.011 1.008 12.011 1.008 1.008 1.008 12.011 15.999 14.007 1.008 12.011 1.008 12.011 1.008 12.011 1.008 1.008 1.008 12.011 1.008 1.008 1.008 12.011 15.999 14.007 1.008 12.011 1.008 12.011 1.008 1.008 12.011 15.999 14.007 1.008 1.008 12.011 15.999 14.007 1.008 12.011 1.008 12.011 1.008 1.008 15.999 1.008 12.011 15.999 14.007 12.011 1.008 1.008 12.011 1.008 12.011 1.008 1.008 12.011 1.008 1.008 12.011 15.999 14.007 1.008 12.011 1.008 12.011 1.008 1.008 15.999 1.008 12.011 15.999 14.007 1.008 12.011 1.008 12.011 1.008 1.008 12.011 1.008 1.008 12.011 15.999 15.999 12.011 15.999 \n",
      "Masses of TM7:  14.007 1.008 12.011 1.008 12.011 1.008 12.011 1.008 1.008 1.008 12.011 1.008 1.008 12.011 1.008 1.008 1.008 12.011 15.999 14.007 1.008 12.011 1.008 12.011 1.008 1.008 12.011 12.011 1.008 12.011 1.008 12.011 15.999 1.008 12.011 1.008 12.011 1.008 12.011 15.999 14.007 1.008 12.011 1.008 12.011 1.008 1.008 12.011 12.011 1.008 12.011 1.008 12.011 15.999 1.008 12.011 1.008 12.011 1.008 12.011 15.999 14.007 1.008 12.011 1.008 12.011 1.008 1.008 12.011 12.011 1.008 12.011 1.008 12.011 15.999 1.008 12.011 1.008 12.011 1.008 12.011 15.999 14.007 1.008 12.011 1.008 12.011 1.008 1.008 1.008 12.011 15.999 14.007 1.008 12.011 1.008 12.011 1.008 1.008 12.011 15.999 15.999 12.011 15.999 14.007 1.008 12.011 1.008 12.011 1.008 1.008 12.011 1.008 1.008 12.011 15.999 14.007 1.008 1.008 12.011 15.999 \n",
      "Masses of TM4:  14.007 1.008 12.011 1.008 12.011 1.008 1.008 15.999 1.008 12.011 15.999 14.007 1.008 12.011 1.008 12.011 1.008 1.008 12.011 15.999 14.007 1.008 1.008 12.011 15.999 14.007 1.008 12.011 1.008 12.011 1.008 12.011 1.008 1.008 1.008 12.011 1.008 1.008 1.008 12.011 15.999 14.007 1.008 12.011 1.008 12.011 1.008 12.011 1.008 1.008 1.008 12.011 1.008 1.008 1.008 12.011 15.999 14.007 12.011 1.008 1.008 12.011 1.008 12.011 1.008 1.008 12.011 1.008 1.008 12.011 15.999 14.007 1.008 12.011 1.008 12.011 1.008 1.008 12.011 1.008 1.008 32.06 12.011 1.008 1.008 1.008 12.011 15.999 14.007 1.008 12.011 1.008 12.011 1.008 1.008 12.011 12.011 1.008 12.011 1.008 12.011 15.999 1.008 12.011 1.008 12.011 1.008 12.011 15.999 14.007 1.008 12.011 1.008 12.011 1.008 1.008 12.011 1.008 12.011 1.008 1.008 1.008 12.011 1.008 1.008 1.008 12.011 15.999 14.007 1.008 12.011 1.008 1.008 12.011 15.999 14.007 1.008 12.011 1.008 12.011 1.008 1.008 12.011 1.008 1.008 12.011 15.999 15.999 12.011 15.999 \n",
      "Masses of TM10:  14.007 12.011 1.008 1.008 12.011 1.008 12.011 1.008 1.008 12.011 1.008 1.008 12.011 15.999 14.007 1.008 12.011 1.008 12.011 1.008 12.011 1.008 1.008 1.008 12.011 1.008 1.008 12.011 1.008 1.008 1.008 12.011 15.999 14.007 12.011 1.008 1.008 12.011 1.008 12.011 1.008 1.008 12.011 1.008 1.008 12.011 15.999 14.007 1.008 12.011 1.008 12.011 1.008 1.008 1.008 12.011 15.999 14.007 1.008 12.011 1.008 12.011 1.008 1.008 12.011 1.008 12.011 1.008 1.008 1.008 12.011 1.008 1.008 1.008 12.011 15.999 14.007 1.008 12.011 1.008 12.011 1.008 1.008 12.011 12.011 1.008 12.011 1.008 12.011 1.008 12.011 1.008 12.011 1.008 12.011 15.999 14.007 1.008 12.011 1.008 12.011 1.008 12.011 1.008 1.008 1.008 12.011 1.008 1.008 12.011 1.008 1.008 1.008 12.011 15.999 14.007 1.008 12.011 1.008 12.011 1.008 15.999 1.008 12.011 1.008 1.008 1.008 12.011 15.999 14.007 1.008 12.011 1.008 12.011 1.008 1.008 12.011 1.008 1.008 12.011 15.999 15.999 12.011 15.999 \n",
      " \n",
      "Masses for the end config.\n",
      " \n",
      "Masses of TM1  14.007 1.008 12.011 1.008 12.011 1.008 1.008 1.008 12.011 15.999 14.007 1.008 12.011 1.008 12.011 1.008 1.008 1.008 12.011 15.999 14.007 1.008 12.011 1.008 12.011 1.008 12.011 1.008 1.008 1.008 12.011 1.008 1.008 1.008 12.011 15.999 14.007 1.008 12.011 1.008 12.011 1.008 1.008 12.011 15.999 14.007 1.008 1.008 12.011 15.999 14.007 1.008 12.011 1.008 12.011 1.008 1.008 15.999 1.008 12.011 15.999 14.007 12.011 1.008 1.008 12.011 1.008 12.011 1.008 1.008 12.011 1.008 1.008 12.011 15.999 14.007 1.008 12.011 1.008 12.011 1.008 1.008 15.999 1.008 12.011 15.999 14.007 1.008 12.011 1.008 12.011 1.008 1.008 12.011 1.008 1.008 12.011 15.999 15.999 12.011 15.999 \n",
      "Masses of TM7  14.007 1.008 12.011 1.008 12.011 1.008 12.011 1.008 1.008 1.008 12.011 1.008 1.008 12.011 1.008 1.008 1.008 12.011 15.999 14.007 1.008 12.011 1.008 12.011 1.008 1.008 12.011 12.011 1.008 12.011 1.008 12.011 15.999 1.008 12.011 1.008 12.011 1.008 12.011 15.999 14.007 1.008 12.011 1.008 12.011 1.008 1.008 12.011 12.011 1.008 12.011 1.008 12.011 15.999 1.008 12.011 1.008 12.011 1.008 12.011 15.999 14.007 1.008 12.011 1.008 12.011 1.008 1.008 12.011 12.011 1.008 12.011 1.008 12.011 15.999 1.008 12.011 1.008 12.011 1.008 12.011 15.999 14.007 1.008 12.011 1.008 12.011 1.008 1.008 1.008 12.011 15.999 14.007 1.008 12.011 1.008 12.011 1.008 1.008 12.011 15.999 15.999 12.011 15.999 14.007 1.008 12.011 1.008 12.011 1.008 1.008 12.011 1.008 1.008 12.011 15.999 14.007 1.008 1.008 12.011 15.999 \n",
      "Masses of TM4  14.007 1.008 12.011 1.008 12.011 1.008 1.008 15.999 1.008 12.011 15.999 14.007 1.008 12.011 1.008 12.011 1.008 1.008 12.011 15.999 14.007 1.008 1.008 12.011 15.999 14.007 1.008 12.011 1.008 12.011 1.008 12.011 1.008 1.008 1.008 12.011 1.008 1.008 1.008 12.011 15.999 14.007 1.008 12.011 1.008 12.011 1.008 12.011 1.008 1.008 1.008 12.011 1.008 1.008 1.008 12.011 15.999 14.007 12.011 1.008 1.008 12.011 1.008 12.011 1.008 1.008 12.011 1.008 1.008 12.011 15.999 14.007 1.008 12.011 1.008 12.011 1.008 1.008 12.011 1.008 1.008 32.06 12.011 1.008 1.008 1.008 12.011 15.999 14.007 1.008 12.011 1.008 12.011 1.008 1.008 12.011 12.011 1.008 12.011 1.008 12.011 15.999 1.008 12.011 1.008 12.011 1.008 12.011 15.999 14.007 1.008 12.011 1.008 12.011 1.008 1.008 12.011 1.008 12.011 1.008 1.008 1.008 12.011 1.008 1.008 1.008 12.011 15.999 14.007 1.008 12.011 1.008 1.008 12.011 15.999 14.007 1.008 12.011 1.008 12.011 1.008 1.008 12.011 1.008 1.008 12.011 15.999 15.999 12.011 15.999 \n",
      "Masses of TM10  14.007 12.011 1.008 1.008 12.011 1.008 12.011 1.008 1.008 12.011 1.008 1.008 12.011 15.999 14.007 1.008 12.011 1.008 12.011 1.008 12.011 1.008 1.008 1.008 12.011 1.008 1.008 12.011 1.008 1.008 1.008 12.011 15.999 14.007 12.011 1.008 1.008 12.011 1.008 12.011 1.008 1.008 12.011 1.008 1.008 12.011 15.999 14.007 1.008 12.011 1.008 12.011 1.008 1.008 1.008 12.011 15.999 14.007 1.008 12.011 1.008 12.011 1.008 1.008 12.011 1.008 12.011 1.008 1.008 1.008 12.011 1.008 1.008 1.008 12.011 15.999 14.007 1.008 12.011 1.008 12.011 1.008 1.008 12.011 12.011 1.008 12.011 1.008 12.011 1.008 12.011 1.008 12.011 1.008 12.011 15.999 14.007 1.008 12.011 1.008 12.011 1.008 12.011 1.008 1.008 1.008 12.011 1.008 1.008 12.011 1.008 1.008 1.008 12.011 15.999 14.007 1.008 12.011 1.008 12.011 1.008 15.999 1.008 12.011 1.008 1.008 1.008 12.011 15.999 14.007 1.008 12.011 1.008 12.011 1.008 1.008 12.011 1.008 1.008 12.011 15.999 15.999 12.011 15.999 \n"
     ]
    }
   ],
   "source": [
    "print(\"Masses for the start config.\")\n",
    "print(\" \")\n",
    "for key in ndx_groups.keys():\n",
    "    mass = start.select_atoms(ndx_groups[key]).masses\n",
    "    print(f\"Masses of {key}: \", end=\" \")\n",
    "    for i in mass:\n",
    "        print(i, end=\" \")\n",
    "    print()\n",
    "print(\" \")\n",
    "print(\"Masses for the end config.\")\n",
    "print(\" \")\n",
    "for key in ndx_groups.keys():\n",
    "    mass = end.select_atoms(ndx_groups[key]).masses\n",
    "    print(f\"Masses of {key} \", end=\" \")\n",
    "    for i in mass:\n",
    "        print(i, end=\" \")\n",
    "    print()"
   ]
  },
  {
   "cell_type": "markdown",
   "metadata": {},
   "source": [
    "Instead of linspace you can make your own function to create the string. Remember that MDAnalysis uses Å but gmx needs the string in nm!!"
   ]
  },
  {
   "cell_type": "code",
   "execution_count": 14,
   "metadata": {},
   "outputs": [],
   "source": [
    "string = np.linspace(dis_s, dis_e, n_beads) / 10"
   ]
  },
  {
   "cell_type": "markdown",
   "metadata": {},
   "source": [
    "Print out the string."
   ]
  },
  {
   "cell_type": "code",
   "execution_count": 15,
   "metadata": {},
   "outputs": [],
   "source": [
    "np.savetxt(\"strings/string.linear_interpolation_influx.txt\", string)"
   ]
  },
  {
   "cell_type": "markdown",
   "metadata": {},
   "source": [
    "## Visualize the string"
   ]
  },
  {
   "cell_type": "markdown",
   "metadata": {},
   "source": [
    "If you want visualize in vmd the cvs you are using. This cell will generate a tcl file that you can source in vmd that will show as `Bonds` measurement all the distance.  "
   ]
  },
  {
   "cell_type": "code",
   "execution_count": 16,
   "metadata": {},
   "outputs": [],
   "source": [
    "with open(\"topology/show_cv.tcl\",\"w\") as file:\n",
    "    file.write(\"set mol [molinfo top]\\n\")\n",
    "    for cv in cvs:\n",
    "        i=start.select_atoms(ndx_groups[list(ndx_groups.keys())[cv[0] - 1]]).indices[0]\n",
    "        j=start.select_atoms(ndx_groups[list(ndx_groups.keys())[cv[1] - 1]]).indices[0]\n",
    "        file.write(f\"label add Bonds $mol/{i} $mol/{j}\\n\")"
   ]
  },
  {
   "cell_type": "markdown",
   "metadata": {},
   "source": [
    "Independently of if you have made your own string or with this program you can visualize it with the cell bellow. "
   ]
  },
  {
   "cell_type": "code",
   "execution_count": 17,
   "metadata": {},
   "outputs": [
    {
     "data": {
      "image/png": "[encoded data removed]",
      "text/plain": [
       "<Figure size 1080x288 with 2 Axes>"
      ]
     },
     "metadata": {
      "needs_background": "light"
     },
     "output_type": "display_data"
    }
   ],
   "source": [
    "string = np.loadtxt(\"strings/string.linear_interpolation_influx.txt\")\n",
    "n_plots = string.shape[1]\n",
    "fig, ax = plt.subplots(ceil(n_plots / 2), 2, figsize=(15, 4 * ceil(n_plots / 2)))\n",
    "ax = ax.flatten()\n",
    "for i in range(n_plots):\n",
    "    ax[i].plot(string[:, i], ls=\"\", marker=\"x\", label=\"string0\")\n",
    "    ax[i].set_xlabel(\n",
    "        f\"{list(ndx_groups.keys())[2*i]} - {list(ndx_groups.keys())[2*i+1]}\", size=16\n",
    "    )\n",
    "    ax[i].set_ylabel(\"d (nm)\", size=16)\n",
    "    ax[i].tick_params(axis=\"both\", which=\"major\", labelsize=13)\n",
    "    ax[i].set_title(f\"cv{i}\")\n",
    "ax[1].legend()\n",
    "if n_plots % 2:\n",
    "    fig.delaxes(ax[-1])\n",
    "fig.tight_layout()"
   ]
  },
  {
   "cell_type": "markdown",
   "metadata": {},
   "source": [
    "# Actual string starting points"
   ]
  },
  {
   "cell_type": "markdown",
   "metadata": {},
   "source": [
    "it's nice to have the linear interpolation that Sergio has made for comparison, but here is where we will actually calculate the CV values for the first strings, based on the `confout.gro` files dumped from TMD. `TMD_to_strings.ipynb` also plots this (that script helps to decide on gro files for this script)\n",
    "\n",
    "Shape of `string0.txt` must be (n_beads, n_cvs)"
   ]
  },
  {
   "cell_type": "code",
   "execution_count": 25,
   "metadata": {},
   "outputs": [],
   "source": [
    "from MDAnalysis.analysis import distances"
   ]
  },
  {
   "cell_type": "code",
   "execution_count": 26,
   "metadata": {},
   "outputs": [],
   "source": [
    "#this will return a 1d array with the length of #cv pairs, in order from keys_groups\n",
    "\n",
    "def confout_dists_to_strings(traj, COM):\n",
    "    confout_dist = []\n",
    "    \n",
    "    for i in range(n_cvs):\n",
    "        key1 = keys_groups[cvs[i][0]-1]\n",
    "        key2 = keys_groups[cvs[i][1]-1]\n",
    "        \n",
    "        if COM:\n",
    "            dist1 = traj.select_atoms(f\"{ndx_groups[key1]}\").center_of_mass()\n",
    "            dist2 = traj.select_atoms(f\"{ndx_groups[key2]}\").center_of_mass()        \n",
    "        else:\n",
    "            dist1 = traj.select_atoms(f\"{ndx_groups[key1]}\")\n",
    "            dist2 = traj.select_atoms(f\"{ndx_groups[key2]}\")  \n",
    "\n",
    "        confout_dist.append(float(distances.distance_array(dist1, dist2)) / 10) #keep in nm\n",
    "       # confout_dist = np.array(confout_dist)\n",
    "\n",
    "    return confout_dist"
   ]
  },
  {
   "cell_type": "code",
   "execution_count": 27,
   "metadata": {},
   "outputs": [
    {
     "name": "stderr",
     "output_type": "stream",
     "text": [
      "/home/semccomas/anaconda3/envs/string_method/lib/python3.8/site-packages/MDAnalysis/topology/base.py:203: DeprecationWarning: `np.int` is a deprecated alias for the builtin `int`. To silence this warning, use `int` by itself. Doing this will not modify any behavior and is safe. When replacing `np.int`, you may wish to use e.g. `np.int64` or `np.int32` to specify the precision. If you wish to review your current use, check the release note link for additional information.\n",
      "Deprecated in NumPy 1.20; for more details and guidance: https://numpy.org/devdocs/release/1.20.0-notes.html#deprecations\n",
      "  residx = np.zeros_like(criteria[0], dtype=np.int)\n",
      "/home/semccomas/anaconda3/envs/string_method/lib/python3.8/site-packages/MDAnalysis/core/selection.py:675: DeprecationWarning: `np.bool` is a deprecated alias for the builtin `bool`. To silence this warning, use `bool` by itself. Doing this will not modify any behavior and is safe. If you specifically wanted the numpy scalar type, use `np.bool_` here.\n",
      "Deprecated in NumPy 1.20; for more details and guidance: https://numpy.org/devdocs/release/1.20.0-notes.html#deprecations\n",
      "  mask = np.zeros(len(vals), dtype=np.bool)\n"
     ]
    }
   ],
   "source": [
    "all_distances = []\n",
    "for bead in range(n_beads):\n",
    "    traj = mda.Universe(f\"md/0/{bead}/restrained/confout.gro\")\n",
    "    confout_dist = confout_dists_to_strings(traj, COM = True)\n",
    "    all_distances.append(confout_dist)"
   ]
  },
  {
   "cell_type": "code",
   "execution_count": 28,
   "metadata": {},
   "outputs": [],
   "source": [
    "all_distances = np.array(all_distances)\n",
    "np.savetxt(\"strings/string0.txt\", all_distances)"
   ]
  },
  {
   "cell_type": "markdown",
   "metadata": {},
   "source": [
    "using Sergio's viz script to check on strings"
   ]
  },
  {
   "cell_type": "code",
   "execution_count": 29,
   "metadata": {},
   "outputs": [
    {
     "data": {
      "image/png": "[encoded data removed]",
      "text/plain": [
       "<Figure size 1080x288 with 2 Axes>"
      ]
     },
     "metadata": {
      "needs_background": "light"
     },
     "output_type": "display_data"
    }
   ],
   "source": [
    "string = np.loadtxt(\"strings/string0.txt\")\n",
    "n_plots = string.shape[1]\n",
    "fig, ax = plt.subplots(ceil(n_plots / 2), 2, figsize=(15, 4 * ceil(n_plots / 2)))\n",
    "ax = ax.flatten()\n",
    "for i in range(n_plots):\n",
    "    ax[i].plot(string[:, i], ls=\"\", marker=\"x\", label=\"string0\")\n",
    "    ax[i].set_xlabel(\n",
    "        f\"{list(ndx_groups.keys())[2*i]} - {list(ndx_groups.keys())[2*i+1]}\", size=16\n",
    "    )\n",
    "    ax[i].set_ylabel(\"d (nm)\", size=16)\n",
    "    ax[i].tick_params(axis=\"both\", which=\"major\", labelsize=13)\n",
    "    ax[i].set_title(f\"cv{i}\")\n",
    "ax[1].legend()\n",
    "if n_plots % 2:\n",
    "    fig.delaxes(ax[-1])\n",
    "fig.tight_layout()"
   ]
  },
  {
   "cell_type": "markdown",
   "metadata": {},
   "source": [
    "IC vs EC plot, just want to be able to compare to other pics"
   ]
  },
  {
   "cell_type": "code",
   "execution_count": 30,
   "metadata": {},
   "outputs": [
    {
     "data": {
      "text/plain": [
       "Text(0.5, 0, 'Intracellular gate distance (nm)')"
      ]
     },
     "execution_count": 30,
     "metadata": {},
     "output_type": "execute_result"
    },
    {
     "data": {
      "image/png": "[encoded data removed]",
      "text/plain": [
       "<Figure size 432x288 with 1 Axes>"
      ]
     },
     "metadata": {
      "needs_background": "light"
     },
     "output_type": "display_data"
    }
   ],
   "source": [
    "cmap = plt.cm.get_cmap('plasma')\n",
    "colormap = cmap(np.linspace(0,1, len(string)))\n",
    "\n",
    "plt.scatter(string[:,1], string[:,0], color = colormap) \n",
    "plt.xlim(0.9,1.82)\n",
    "plt.ylim(0.74, 1.7)\n",
    "plt.ylabel(\"Extracellular gate distance (nm)\")\n",
    "plt.xlabel(\"Intracellular gate distance (nm)\")"
   ]
  },
  {
   "cell_type": "code",
   "execution_count": null,
   "metadata": {},
   "outputs": [],
   "source": []
  }
 ],
 "metadata": {
  "kernelspec": {
   "display_name": "Python 3",
   "language": "python",
   "name": "python3"
  },
  "language_info": {
   "codemirror_mode": {
    "name": "ipython",
    "version": 3
   },
   "file_extension": ".py",
   "mimetype": "text/x-python",
   "name": "python",
   "nbconvert_exporter": "python",
   "pygments_lexer": "ipython3",
   "version": "3.8.5"
  }
 },
 "nbformat": 4,
 "nbformat_minor": 4
}
