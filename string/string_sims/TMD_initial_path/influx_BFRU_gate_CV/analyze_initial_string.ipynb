{
 "cells": [
  {
   "cell_type": "markdown",
   "id": "running-deviation",
   "metadata": {},
   "source": [
    "# Analyze Initial String\n",
    "\n",
    "With this notebook you will be able to see if the initial string obtained from steering simulations (or the configurations you got some other way) are following the `string0.txt`. You will also be able to visualize the structures of the beads and compare them to the starting and final configurations."
   ]
  },
  {
   "cell_type": "code",
   "execution_count": 1,
   "id": "actual-finland",
   "metadata": {},
   "outputs": [
    {
     "data": {
      "application/vnd.jupyter.widget-view+json": {
       "model_id": "298b723246ff44aba356673be11a75eb",
       "version_major": 2,
       "version_minor": 0
      },
      "text/plain": []
     },
     "metadata": {},
     "output_type": "display_data"
    }
   ],
   "source": [
    "import glob\n",
    "import re\n",
    "import MDAnalysis as mda\n",
    "import matplotlib.pyplot as plt\n",
    "import pickle\n",
    "import numpy as np\n",
    "from math import ceil\n",
    "import nglview as nv\n",
    "import os\n",
    "\n",
    "\n",
    "def natural_sort(l):\n",
    "    \"\"\"\n",
    "    Takes as input a list l of strings and sorts it with natural order.\n",
    "      Parameters\n",
    "      ----------\n",
    "      l: list of strings.\n",
    "      Returns\n",
    "      -------\n",
    "      l sorted\n",
    "    \"\"\"\n",
    "    assert isinstance(l, list), \"l is not a list!\"\n",
    "    for i in l:\n",
    "        assert isinstance(i, str), \"List contains non-string elements.\"\n",
    "    convert = lambda text: int(text) if text.isdigit() else text.lower()\n",
    "    alphanum_key = lambda key: [convert(c) for c in re.split(\"([0-9]+)\", key)]\n",
    "    return sorted(l, key=alphanum_key)"
   ]
  },
  {
   "cell_type": "code",
   "execution_count": 2,
   "id": "tough-affairs",
   "metadata": {},
   "outputs": [],
   "source": [
    "def distance_atom_groups(u, sel1, sel2, progressbar=True, center_of_mass=False):\n",
    "    \"\"\"\n",
    "    Calculate the distance between the centers of geometry (or mass) between two groups (sel1, sel2) as a function of time in the trajectory trj.\n",
    "\n",
    "    Parameters\n",
    "    ----------\n",
    "    u: MDA universe to analyz trajectory to analyze.\n",
    "    sel1: MDA selection containing at least 1 atom.\n",
    "    sel2: MDA selection containing at least 1 atom.\n",
    "    center_of_mass: Use the center of mass instead of center of geometry.\n",
    "    progressbar: Show progressbar.\n",
    "\n",
    "    Returns\n",
    "    -------\n",
    "    d: matplotlib figure object.\n",
    "    \"\"\"\n",
    "    from MDAnalysis import Universe\n",
    "    from MDAnalysis import AtomGroup\n",
    "    from numpy import array\n",
    "    from tqdm import tqdm\n",
    "    from numpy.linalg import norm\n",
    "\n",
    "    assert isinstance(u, Universe), \"u should be a MDAnlaysis universe.\"\n",
    "    assert isinstance(sel1, AtomGroup), \"sel1 should be a MDAnlaysis universe.\"\n",
    "    assert isinstance(sel2, AtomGroup), \"sel2 should be a MDAnlaysis universe.\"\n",
    "    assert isinstance(progressbar, bool), \"progressbar should be boolean.\"\n",
    "    assert sel1.n_atoms >= 1, \"sel1 should have at least 1 atom.\"\n",
    "    assert sel2.n_atoms >= 1, \"sel2 should have at least 1 atom.\"\n",
    "\n",
    "    d = []\n",
    "    for i, ts in tqdm(\n",
    "        enumerate(u.trajectory), total=u.trajectory.n_frames, disable=not progressbar\n",
    "    ):\n",
    "        if center_of_mass:\n",
    "            csel1 = sel1.center_of_mass()\n",
    "            csel2 = sel2.center_of_mass()\n",
    "        else:\n",
    "            csel1 = sel1.centroid()\n",
    "            csel2 = sel2.centroid()\n",
    "        d.append([ts.dt * i, norm(csel1 - csel2)])\n",
    "    return array(d)"
   ]
  },
  {
   "cell_type": "markdown",
   "id": "9cc92fde-29b3-48d3-a156-7c82c83af899",
   "metadata": {},
   "source": [
    "Choose working directory\n",
    "\n",
    "In the cell bellow you can select which will be the simulation directory (in case this notebook is elsewhere). If the notebook is in the simulation directory just leave it as \".\"."
   ]
  },
  {
   "cell_type": "code",
   "execution_count": 3,
   "id": "f74056ef-4c5c-426f-8bf4-7bf7bcd49539",
   "metadata": {},
   "outputs": [
    {
     "data": {
      "text/plain": [
       "'/data2/GLUT5_string/string/string_sims/TMD_initial_path/influx_apo_gate_CV'"
      ]
     },
     "execution_count": 3,
     "metadata": {},
     "output_type": "execute_result"
    }
   ],
   "source": [
    "simulation_directory = \".\"\n",
    "os.chdir(simulation_directory)\n",
    "os.getcwd()"
   ]
  },
  {
   "cell_type": "markdown",
   "id": "spare-reducing",
   "metadata": {},
   "source": [
    "Read in the bead paths and cv variables."
   ]
  },
  {
   "cell_type": "code",
   "execution_count": 4,
   "id": "distant-cassette",
   "metadata": {},
   "outputs": [],
   "source": [
    "beads = natural_sort(glob.glob(\"md/0/*/restrained\"))"
   ]
  },
  {
   "cell_type": "code",
   "execution_count": 5,
   "id": "jewish-broadcast",
   "metadata": {},
   "outputs": [],
   "source": [
    "cvs, ndx_groups = pickle.load(open(\"cv.pkl\", \"rb\"))"
   ]
  },
  {
   "cell_type": "markdown",
   "id": "opening-major",
   "metadata": {},
   "source": [
    "Calculate the values of the CVs in the `md/0/*/restrained/confout.gro` files."
   ]
  },
  {
   "cell_type": "code",
   "execution_count": 8,
   "id": "painted-accused",
   "metadata": {},
   "outputs": [
    {
     "name": "stderr",
     "output_type": "stream",
     "text": [
      "/home/semccomas/anaconda3/envs/string_method/lib/python3.8/site-packages/MDAnalysis/topology/base.py:203: DeprecationWarning: `np.int` is a deprecated alias for the builtin `int`. To silence this warning, use `int` by itself. Doing this will not modify any behavior and is safe. When replacing `np.int`, you may wish to use e.g. `np.int64` or `np.int32` to specify the precision. If you wish to review your current use, check the release note link for additional information.\n",
      "Deprecated in NumPy 1.20; for more details and guidance: https://numpy.org/devdocs/release/1.20.0-notes.html#deprecations\n",
      "  residx = np.zeros_like(criteria[0], dtype=np.int)\n",
      "/home/semccomas/anaconda3/envs/string_method/lib/python3.8/site-packages/MDAnalysis/core/selection.py:675: DeprecationWarning: `np.bool` is a deprecated alias for the builtin `bool`. To silence this warning, use `bool` by itself. Doing this will not modify any behavior and is safe. If you specifically wanted the numpy scalar type, use `np.bool_` here.\n",
      "Deprecated in NumPy 1.20; for more details and guidance: https://numpy.org/devdocs/release/1.20.0-notes.html#deprecations\n",
      "  mask = np.zeros(len(vals), dtype=np.bool)\n",
      "/home/semccomas/anaconda3/envs/string_method/lib/python3.8/site-packages/MDAnalysis/coordinates/base.py:865: UserWarning: Reader has no dt information, set to 1.0 ps\n",
      "  warnings.warn(\"Reader has no dt information, set to 1.0 ps\")\n"
     ]
    }
   ],
   "source": [
    "topology = None  # 'topology/top.pdb'\n",
    "dis = []\n",
    "\n",
    "for b in beads[:]:\n",
    "\n",
    "    if topology != None:\n",
    "        u = mda.Universe(topology, b + \"/confout.gro\")\n",
    "    else:\n",
    "        u = mda.Universe(b + \"/confout.gro\")\n",
    "    d = []\n",
    "    for cv in cvs:\n",
    "        d.append(\n",
    "            distance_atom_groups(\n",
    "                u,\n",
    "                u.select_atoms(ndx_groups[list(ndx_groups.keys())[cv[0] - 1]]),\n",
    "                u.select_atoms(ndx_groups[list(ndx_groups.keys())[cv[1] - 1]]),\n",
    "                progressbar=False,\n",
    "            center_of_mass=True)[-1, 1]\n",
    "        )\n",
    "    dis.append(np.array(d))\n",
    "dis = np.array(dis) / 10"
   ]
  },
  {
   "cell_type": "markdown",
   "id": "pending-quebec",
   "metadata": {},
   "source": [
    "## Plot of `string0.txt` versus the configs that will be used.\n",
    "\n",
    "The value of the cvs in the `confout.gro` should approximatelly follow `string0.txt`. If it doesn't you can increase the steering `kappa` and also make the steering simulation longer by increasing the `nsteps` per bead."
   ]
  },
  {
   "cell_type": "code",
   "execution_count": 9,
   "id": "formal-binding",
   "metadata": {},
   "outputs": [
    {
     "data": {
      "image/png": "[encoded data removed]",
      "text/plain": [
       "<Figure size 1080x288 with 2 Axes>"
      ]
     },
     "metadata": {
      "needs_background": "light"
     },
     "output_type": "display_data"
    }
   ],
   "source": [
    "string = np.loadtxt(\"strings/string0.txt\")\n",
    "n_plots = string.shape[1]\n",
    "fig, ax = plt.subplots(ceil(n_plots / 2), 2, figsize=(15, 4 * ceil(n_plots / 2)))\n",
    "ax = ax.flatten()\n",
    "for i in range(n_plots):\n",
    "    ax[i].plot(string[:, i], ls=\"\", marker=\"x\", label=\"string0\")\n",
    "    ax[i].set_xlabel(\n",
    "        f\"{list(ndx_groups.keys())[2*i]} - {list(ndx_groups.keys())[2*i+1]}\", size=16\n",
    "    )\n",
    "    ax[i].set_ylabel(\"d (nm)\", size=16)\n",
    "    ax[i].tick_params(axis=\"both\", which=\"major\", labelsize=13)\n",
    "if len(dis) != 0:\n",
    "    for i in range(n_plots):\n",
    "        ax[i].plot(dis[:, i], ls=\"\", marker=\".\", label=\"confout\")\n",
    "        ax[i].set_title(f\"cv{i}\")\n",
    "ax[1].legend()\n",
    "if n_plots % 2:\n",
    "    fig.delaxes(ax[-1])\n",
    "fig.tight_layout()"
   ]
  },
  {
   "cell_type": "markdown",
   "id": "narrative-cisco",
   "metadata": {},
   "source": [
    "## Visualize `confout.gro` with NGLview"
   ]
  },
  {
   "cell_type": "markdown",
   "id": "ethical-update",
   "metadata": {},
   "source": [
    "If you have been able to install correctly [NGLview](https://github.com/nglviewer/nglview) in this jupyter-lab, which is tricky sometimes, you can visualize the `md/0/*/restrained/confout.gro` (in ribbon, green) files and compare it to `start.gro` (blue, rope) and `end.gro` (red, rope)."
   ]
  },
  {
   "cell_type": "code",
   "execution_count": null,
   "id": "virgin-nebraska",
   "metadata": {},
   "outputs": [],
   "source": [
    "from MDAnalysis.analysis.align import AlignTraj"
   ]
  },
  {
   "cell_type": "code",
   "execution_count": null,
   "id": "super-mechanics",
   "metadata": {},
   "outputs": [],
   "source": [
    "traj = mda.Universe(\n",
    "    beads[0] + \"/confout.gro\", [b + \"/confout.gro\" for b in beads], in_memory=True\n",
    ")\n",
    "start = mda.Universe(\"topology/start.gro\")\n",
    "end = mda.Universe(\"topology/end.gro\")\n",
    "AlignTraj(traj, start, select=\"name CA and protein\", in_memory=True).run()\n",
    "AlignTraj(end, start, select=\"name CA and protein\", in_memory=True).run()"
   ]
  },
  {
   "cell_type": "code",
   "execution_count": null,
   "id": "distant-rally",
   "metadata": {},
   "outputs": [],
   "source": [
    "view = nv.show_mdanalysis(traj, default=False)\n",
    "view.add_trajectory(start, default=False)\n",
    "view.add_trajectory(end, default=False)\n",
    "view.add_ribbon(selection=\"protein\", color=\"green\", component=0)\n",
    "view.add_rope(selection=\"protein\", color=\"blue\", component=1)\n",
    "view.add_rope(selection=\"protein\", color=\"red\", component=2)\n",
    "view.center()"
   ]
  },
  {
   "cell_type": "markdown",
   "id": "affected-greensboro",
   "metadata": {},
   "source": [
    "Sometimes need to run this cell several times to see something. Sometimes it takes a few seconds to load."
   ]
  },
  {
   "cell_type": "code",
   "execution_count": null,
   "id": "norwegian-scholarship",
   "metadata": {},
   "outputs": [],
   "source": [
    "view"
   ]
  },
  {
   "cell_type": "code",
   "execution_count": null,
   "id": "focused-athletics",
   "metadata": {},
   "outputs": [],
   "source": []
  }
 ],
 "metadata": {
  "kernelspec": {
   "display_name": "Python 3",
   "language": "python",
   "name": "python3"
  },
  "language_info": {
   "codemirror_mode": {
    "name": "ipython",
    "version": 3
   },
   "file_extension": ".py",
   "mimetype": "text/x-python",
   "name": "python",
   "nbconvert_exporter": "python",
   "pygments_lexer": "ipython3",
   "version": "3.8.5"
  }
 },
 "nbformat": 4,
 "nbformat_minor": 5
}
