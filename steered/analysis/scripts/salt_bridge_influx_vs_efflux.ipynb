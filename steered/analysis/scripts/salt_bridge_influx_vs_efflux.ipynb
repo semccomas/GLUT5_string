{
 "cells": [
  {
   "cell_type": "code",
   "execution_count": 1,
   "id": "difficult-relay",
   "metadata": {},
   "outputs": [],
   "source": [
    "import numpy as np\n",
    "import matplotlib.pyplot as plt\n",
    "import MDAnalysis as mda\n",
    "#import sys\n",
    "#sys.path.insert(1, '../../../string/analysis/scripts')\n",
    "#from gate_functions import *"
   ]
  },
  {
   "cell_type": "code",
   "execution_count": 2,
   "id": "sophisticated-envelope",
   "metadata": {},
   "outputs": [],
   "source": [
    "def get_sim_list(sim_name, name_pairs, starting_conf, skip25):\n",
    "    sim_l = []\n",
    "    indir = f'../../state_by_state_running/targeted_MD/{sim_name}_all_heavy'\n",
    "    starting_conf = f'{indir}/{starting_conf}'\n",
    "    \n",
    "    if skip25 not in ['skip25','TMD_only']:\n",
    "        print(\"NO! Must be skip25 or TMD_only\")\n",
    "        return\n",
    "    \n",
    "    for name1, name2 in name_pairs:\n",
    "        sim_l.append(mda.Universe(starting_conf, f'{indir}/{name1}-{name2}/{name1}-{name2}.{skip25}.xtc'))\n",
    "        print(starting_conf, f'{indir}/{name1}-{name2}/{name1}-{name2}.{skip25}.xtc')\n",
    "        print()\n",
    "    return sim_l\n",
    "    "
   ]
  },
  {
   "cell_type": "code",
   "execution_count": 3,
   "id": "temporal-tennessee",
   "metadata": {
    "scrolled": true
   },
   "outputs": [
    {
     "name": "stdout",
     "output_type": "stream",
     "text": [
      "../../state_by_state_running/targeted_MD/influx_BFRU_all_heavy/OutOpen-OutOcc/OUT.equilib.200ns.BFRU.equilibrated.gro ../../state_by_state_running/targeted_MD/influx_BFRU_all_heavy/OutOpen-OutOcc/OutOpen-OutOcc.skip25.xtc\n",
      "\n",
      "../../state_by_state_running/targeted_MD/influx_BFRU_all_heavy/OutOpen-OutOcc/OUT.equilib.200ns.BFRU.equilibrated.gro ../../state_by_state_running/targeted_MD/influx_BFRU_all_heavy/OutOcc-Occ/OutOcc-Occ.skip25.xtc\n",
      "\n",
      "../../state_by_state_running/targeted_MD/influx_BFRU_all_heavy/OutOpen-OutOcc/OUT.equilib.200ns.BFRU.equilibrated.gro ../../state_by_state_running/targeted_MD/influx_BFRU_all_heavy/Occ-InOcc/Occ-InOcc.skip25.xtc\n",
      "\n",
      "../../state_by_state_running/targeted_MD/influx_BFRU_all_heavy/OutOpen-OutOcc/OUT.equilib.200ns.BFRU.equilibrated.gro ../../state_by_state_running/targeted_MD/influx_BFRU_all_heavy/InOcc-InOpen/InOcc-InOpen.skip25.xtc\n",
      "\n",
      "\n",
      "../../state_by_state_running/targeted_MD/influx_apo_all_heavy/OutOpen-OutOcc/OUT.equilib.200ns.gro ../../state_by_state_running/targeted_MD/influx_apo_all_heavy/OutOpen-OutOcc/OutOpen-OutOcc.skip25.xtc\n",
      "\n",
      "../../state_by_state_running/targeted_MD/influx_apo_all_heavy/OutOpen-OutOcc/OUT.equilib.200ns.gro ../../state_by_state_running/targeted_MD/influx_apo_all_heavy/OutOcc-Occ/OutOcc-Occ.skip25.xtc\n",
      "\n",
      "../../state_by_state_running/targeted_MD/influx_apo_all_heavy/OutOpen-OutOcc/OUT.equilib.200ns.gro ../../state_by_state_running/targeted_MD/influx_apo_all_heavy/Occ-InOcc/Occ-InOcc.skip25.xtc\n",
      "\n",
      "../../state_by_state_running/targeted_MD/influx_apo_all_heavy/OutOpen-OutOcc/OUT.equilib.200ns.gro ../../state_by_state_running/targeted_MD/influx_apo_all_heavy/InOcc-InOpen/InOcc-InOpen.skip25.xtc\n",
      "\n",
      "\n",
      "../../state_by_state_running/targeted_MD/efflux_BFRU_all_heavy/InOpen-InOcc/IN.start.BFRU.equilbrated.gro ../../state_by_state_running/targeted_MD/efflux_BFRU_all_heavy/OutOcc-OutOpen/OutOcc-OutOpen.skip25.xtc\n",
      "\n",
      "../../state_by_state_running/targeted_MD/efflux_BFRU_all_heavy/InOpen-InOcc/IN.start.BFRU.equilbrated.gro ../../state_by_state_running/targeted_MD/efflux_BFRU_all_heavy/Occ-OutOcc/Occ-OutOcc.skip25.xtc\n",
      "\n",
      "../../state_by_state_running/targeted_MD/efflux_BFRU_all_heavy/InOpen-InOcc/IN.start.BFRU.equilbrated.gro ../../state_by_state_running/targeted_MD/efflux_BFRU_all_heavy/InOcc-Occ/InOcc-Occ.skip25.xtc\n",
      "\n",
      "../../state_by_state_running/targeted_MD/efflux_BFRU_all_heavy/InOpen-InOcc/IN.start.BFRU.equilbrated.gro ../../state_by_state_running/targeted_MD/efflux_BFRU_all_heavy/InOpen-InOcc/InOpen-InOcc.skip25.xtc\n",
      "\n",
      "../../state_by_state_running/targeted_MD/efflux_apo_all_heavy/InOpen-InOcc/IN.start.gro ../../state_by_state_running/targeted_MD/efflux_apo_all_heavy/OutOcc-OutOpen/OutOcc-OutOpen.skip25.xtc\n",
      "\n",
      "../../state_by_state_running/targeted_MD/efflux_apo_all_heavy/InOpen-InOcc/IN.start.gro ../../state_by_state_running/targeted_MD/efflux_apo_all_heavy/Occ-OutOcc/Occ-OutOcc.skip25.xtc\n",
      "\n",
      "../../state_by_state_running/targeted_MD/efflux_apo_all_heavy/InOpen-InOcc/IN.start.gro ../../state_by_state_running/targeted_MD/efflux_apo_all_heavy/InOcc-Occ/InOcc-Occ.skip25.xtc\n",
      "\n",
      "../../state_by_state_running/targeted_MD/efflux_apo_all_heavy/InOpen-InOcc/IN.start.gro ../../state_by_state_running/targeted_MD/efflux_apo_all_heavy/InOpen-InOcc/InOpen-InOcc.skip25.xtc\n",
      "\n"
     ]
    }
   ],
   "source": [
    "names = ['OutOpen', 'OutOcc', 'Occ', 'InOcc', 'InOpen']\n",
    "\n",
    "influx_BFRU = get_sim_list('influx_BFRU', \n",
    "                           name_pairs = [(names[0], names[1]),\n",
    "                                        (names[1], names[2]),\n",
    "                                        (names[2], names[3]),\n",
    "                                        (names[3], names[4])],\n",
    "                           starting_conf='OutOpen-OutOcc/OUT.equilib.200ns.BFRU.equilibrated.gro', \n",
    "                          skip25 = 'skip25')\n",
    "\n",
    "print()\n",
    "\n",
    "influx_apo = get_sim_list('influx_apo', \n",
    "                           name_pairs = [(names[0], names[1]),\n",
    "                                        (names[1], names[2]),\n",
    "                                        (names[2], names[3]),\n",
    "                                        (names[3], names[4])],\n",
    "                           starting_conf='OutOpen-OutOcc/OUT.equilib.200ns.gro', \n",
    "                          skip25 = 'skip25')\n",
    "\n",
    "print()\n",
    "\n",
    "efflux_BFRU = get_sim_list('efflux_BFRU', \n",
    "                           name_pairs = [(names[1], names[0]),\n",
    "                                        (names[2], names[1]),\n",
    "                                        (names[3], names[2]),\n",
    "                                        (names[4], names[3])],\n",
    "                           starting_conf='InOpen-InOcc/IN.start.BFRU.equilbrated.gro', \n",
    "                          skip25 = 'skip25')\n",
    "\n",
    "efflux_apo = get_sim_list('efflux_apo', \n",
    "                           name_pairs = [(names[1], names[0]),\n",
    "                                        (names[2], names[1]),\n",
    "                                        (names[3], names[2]),\n",
    "                                        (names[4], names[3])],\n",
    "                           starting_conf='InOpen-InOcc/IN.start.gro', \n",
    "                          skip25 = 'skip25')"
   ]
  },
  {
   "cell_type": "code",
   "execution_count": 4,
   "id": "individual-society",
   "metadata": {},
   "outputs": [],
   "source": [
    "all_sims = [influx_apo, influx_BFRU, efflux_apo, efflux_BFRU]\n",
    "sim_names = ['influx apo', 'influx BFRU', 'efflux apo', 'efflux BFRU']"
   ]
  },
  {
   "cell_type": "code",
   "execution_count": 52,
   "id": "nonprofit-atlanta",
   "metadata": {},
   "outputs": [],
   "source": [
    "import MDAnalysis.analysis.distances as d\n",
    "\n",
    "name1 = 'resid 145'\n",
    "name2 = 'resid 401'\n",
    "\n",
    "bridge_dict1 = {}\n",
    "bridge_dict2 = {}\n",
    "\n",
    "for n in np.arange(len(all_sims)):\n",
    "    sim_group = all_sims[n]\n",
    "    \n",
    "    bridge1_info_per_sim_group = []\n",
    "    bridge2_info_per_sim_group = []\n",
    "    \n",
    "    for sim in sim_group:\n",
    "        sel1 = sim.select_atoms(name1) #145\n",
    "        sel2 = sim.select_atoms(name2) #401   #91\n",
    "        sel3 = sim.select_atoms('resid 394')\n",
    "        sel4 = sim.select_atoms('resid 330') #152\n",
    "        bridge1 = []\n",
    "        bridge2 = []\n",
    "        \n",
    "        for ts in sim.trajectory:\n",
    "            bridge1.append(np.min(d.distance_array(sel1.positions, sel2.positions)))\n",
    "            bridge2.append(np.min(d.distance_array(sel3.positions, sel4.positions)))\n",
    "        bridge1 = np.array(bridge1)\n",
    "        bridge2 = np.array(bridge2)\n",
    "        \n",
    "        bridge1 = (np.mean(bridge1), np.std(bridge1))\n",
    "        bridge2 = (np.mean(bridge2), np.std(bridge2))\n",
    "\n",
    "        bridge1_info_per_sim_group.append(bridge1)\n",
    "        bridge2_info_per_sim_group.append(bridge2)\n",
    "\n",
    "        \n",
    "    bridge_dict1[sim_names[n]] = bridge1_info_per_sim_group\n",
    "    bridge_dict2[sim_names[n]] = bridge2_info_per_sim_group"
   ]
  },
  {
   "cell_type": "code",
   "execution_count": 53,
   "id": "correct-lecture",
   "metadata": {},
   "outputs": [
    {
     "data": {
      "image/png": "[encoded data removed]",
      "text/plain": [
       "<Figure size 648x360 with 4 Axes>"
      ]
     },
     "metadata": {
      "needs_background": "light"
     },
     "output_type": "display_data"
    }
   ],
   "source": [
    "f, axs = plt.subplots(nrows = 2, ncols = 2, figsize = (9,5))\n",
    "color_dict = {'influx apo':'blue', 'influx BFRU':'green', 'efflux apo': 'orange', 'efflux BFRU':'red'}\n",
    "\n",
    "axs = np.ravel(axs)\n",
    "\n",
    "for key,values in bridge_dict1.items():\n",
    "    for n, bridge_dist in enumerate(values):\n",
    "        # \"fill\" mean\n",
    "        axs[n].scatter(0.75, bridge_dist[0], s = bridge_dist[1]*300, alpha = 0.3, color = color_dict[key])\n",
    "        # and normal val\n",
    "        axs[n].scatter(0.75, bridge_dist[0], alpha = 1, color = color_dict[key], \\\n",
    "                   label = f\"{key}\")\n",
    "leg = axs[n].legend(bbox_to_anchor = (1.4,1))\n",
    "\n",
    "\n",
    "#for key,values in bridge_dict2.items():\n",
    "#    for n, bridge_dist in enumerate(values):\n",
    "        # \"fill\" mean\n",
    "#        axs[n].scatter(1.25, bridge_dist[0], s = bridge_dist[1]*300, alpha = 0.3, color = color_dict[key])\n",
    "        # and normal val\n",
    "#        axs[n].scatter(1.25, bridge_dist[0], alpha = 0.3, color = color_dict[key], \\\n",
    "#                    label = f\"bridge 2 for {key}\")\n",
    "\n",
    "ylim = (1, 14)\n",
    "\n",
    "TMD_run = ['OutOpen-OutOcc', 'OutOcc-Occ', 'Occ-InOcc', 'InOcc-InOpen']\n",
    "\n",
    "for n, ax in enumerate(axs):\n",
    "    ax.set_xlim(0.5,1)\n",
    "    ax.get_xaxis().set_ticks([])\n",
    "    ax.set_xlabel(f'Bridge {TMD_run[n]} {name1}-{name2.split()[1]}')\n",
    "    ax.set_ylabel('Min distance (A)')\n",
    "    \n",
    "    \n",
    "plt.tight_layout()\n"
   ]
  },
  {
   "cell_type": "code",
   "execution_count": null,
   "id": "representative-layout",
   "metadata": {},
   "outputs": [],
   "source": []
  },
  {
   "cell_type": "code",
   "execution_count": null,
   "id": "dramatic-spokesman",
   "metadata": {},
   "outputs": [],
   "source": []
  },
  {
   "cell_type": "code",
   "execution_count": null,
   "id": "useful-aquarium",
   "metadata": {},
   "outputs": [],
   "source": []
  }
 ],
 "metadata": {
  "kernelspec": {
   "display_name": "Python 3",
   "language": "python",
   "name": "python3"
  },
  "language_info": {
   "codemirror_mode": {
    "name": "ipython",
    "version": 3
   },
   "file_extension": ".py",
   "mimetype": "text/x-python",
   "name": "python",
   "nbconvert_exporter": "python",
   "pygments_lexer": "ipython3",
   "version": "3.8.8"
  }
 },
 "nbformat": 4,
 "nbformat_minor": 5
}
