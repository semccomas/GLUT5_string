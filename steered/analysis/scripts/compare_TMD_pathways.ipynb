{
 "cells": [
  {
   "cell_type": "markdown",
   "id": "exposed-cigarette",
   "metadata": {},
   "source": [
    "The idea with this script is just to have an notebook where we compare everything. I don't intend to change anything in here once this is written, I just want to have a place where all the comparisons are loaded and I can refer to it from Notion. `steered_analysis` was also getting a bit clogged.."
   ]
  },
  {
   "cell_type": "markdown",
   "id": "computational-windows",
   "metadata": {},
   "source": [
    "Big chunks of this code are lifted from `steered_analysis` and we will use our `gate_functions.py` code as well"
   ]
  },
  {
   "cell_type": "markdown",
   "id": "literary-sharing",
   "metadata": {},
   "source": [
    "# imports and data prep"
   ]
  },
  {
   "cell_type": "code",
   "execution_count": 1,
   "id": "crucial-myrtle",
   "metadata": {},
   "outputs": [],
   "source": [
    "import numpy as np\n",
    "import MDAnalysis as mda\n",
    "import matplotlib.pyplot as plt\n",
    "from MDAnalysis.analysis import distances\n",
    "import sys\n",
    "\n",
    "sys.path.insert(1, '../../../string/analysis/scripts')\n",
    "from gate_functions import *"
   ]
  },
  {
   "cell_type": "code",
   "execution_count": 2,
   "id": "paperback-edgar",
   "metadata": {},
   "outputs": [],
   "source": [
    "skip25 = True"
   ]
  },
  {
   "cell_type": "code",
   "execution_count": 3,
   "id": "appropriate-exhibit",
   "metadata": {},
   "outputs": [
    {
     "name": "stderr",
     "output_type": "stream",
     "text": [
      "No handles with labels found to put in legend.\n"
     ]
    },
    {
     "name": "stdout",
     "output_type": "stream",
     "text": [
      "returning EC gate, IC gate dists\n"
     ]
    },
    {
     "data": {
      "image/png": "[encoded data removed]",
      "text/plain": [
       "<Figure size 432x288 with 1 Axes>"
      ]
     },
     "metadata": {
      "needs_background": "light"
     },
     "output_type": "display_data"
    }
   ],
   "source": [
    "indir = '../../state_by_state_running/targeted_MD/efflux_BFRU_all_heavy'\n",
    "trajname = 'InOpen-OutOpen'\n",
    "\n",
    "uni_to_gate_scatter(trajdir=f'{indir}/{trajname}', trajname=trajname, ext = 'skip25.xtc', \\\n",
    "                    uni_top = f'{indir}/{trajname}/IN.start.BFRU.equilbrated.gro', color = 'blue')"
   ]
  },
  {
   "cell_type": "code",
   "execution_count": null,
   "id": "threaded-northwest",
   "metadata": {},
   "outputs": [],
   "source": []
  },
  {
   "cell_type": "code",
   "execution_count": null,
   "id": "above-gentleman",
   "metadata": {},
   "outputs": [],
   "source": []
  },
  {
   "cell_type": "code",
   "execution_count": null,
   "id": "cross-acting",
   "metadata": {},
   "outputs": [],
   "source": []
  },
  {
   "cell_type": "code",
   "execution_count": null,
   "id": "damaged-motor",
   "metadata": {},
   "outputs": [],
   "source": []
  },
  {
   "cell_type": "code",
   "execution_count": null,
   "id": "electronic-sleeve",
   "metadata": {},
   "outputs": [],
   "source": []
  },
  {
   "cell_type": "code",
   "execution_count": null,
   "id": "practical-bangladesh",
   "metadata": {},
   "outputs": [],
   "source": [
    "trajdir = '../../state_by_state_running/targeted_MD/efflux_BFRU_all_heavy'\n",
    "trajname = 'InOpen-InOcc'\n",
    "\n",
    "## simulation name: [start_ref, end_ref]\n",
    "if 'BFRU' not in trajdir:\n",
    "    sim_ref_dict = {\"InOpen-InOcc\":[\"IN.start.gro\", \"IN-OCC.start.gro\"],\\\n",
    "                    \"InOcc-Occ\":[\"InOpen-InOcc.9600ps.gro\", \"OCC.start.gro\"],\\\n",
    "                    \"Occ-OutOcc\":[\"InOcc-Occ.8600ps.gro\", \"OUT-OCC.start.gro\"],\\\n",
    "                    \"OutOcc-OutOpen\":[\"Occ-OutOcc.7700ps.gro\", \"OUT.equilib.200ns.gro\"],\\\n",
    "                    \"InOcc-OutOcc\":[\"InOpen-InOcc.9600ps.gro\", \"OUT-OCC.start.gro\"],\\\n",
    "\n",
    "                    #influx\n",
    "                    \"OutOpen-OutOcc\":[\"OUT.equilib.200ns.gro\", \"OUT-OCC.start.gro\"],\\\n",
    "                    \"OutOcc-Occ\":[\"OutOpen-OutOcc.11200ps.gro\", \"OCC.start.gro\"],\\\n",
    "                    \"Occ-InOcc\":[\"OutOcc-Occ.10000ps.gro\", \"IN-OCC.start.gro\"],\\\n",
    "                    \"InOcc-InOpen\":[\"Occ-InOcc.8100ps.gro\", \"IN.start.gro\"],\\\n",
    "                    \"OutOcc-InOcc\":[\"OutOpen-OutOcc.11200ps.gro\", \"IN-OCC.start.gro\"],\\\n",
    "\n",
    "                    #all \n",
    "                   \"OutOpen-InOpen\":[\"OUT.equilib.200ns.gro\", \"IN.start.gro\"],\\\n",
    "                    \"InOpen-OutOpen\":[\"IN.start.gro\", \"OUT.equilib.200ns.gro\"]}\n",
    "\n",
    "elif 'BFRU' in trajdir:\n",
    "    sim_ref_dict = {\"InOpen-InOcc\":[\"IN.start.BFRU.equilbrated.gro\", \"IN-OCC.start.gro\"],\\\n",
    "                    \"InOcc-Occ\":[\"InOpen-InOcc.10000ps.gro\", \"OCC.start.gro\"],\\\n",
    "                    \"Occ-OutOcc\":[\"InOcc-Occ.12980ps.gro\", \"OUT-OCC.start.gro\"],\\\n",
    "                    \"OutOcc-OutOpen\":[\"Occ-OutOcc.11700ps.gro\", \"OUT.equilib.200ns.gro\"],\\\n",
    "                    \"InOcc-OutOcc\":[\"InOpen-InOcc.10000ps.gro\", \"OUT-OCC.start.gro\"],\\\n",
    "\n",
    "                    #influx\n",
    "                    \"OutOpen-OutOcc\":[\"OUT.equilib.200ns.BFRU.equilibrated.gro\", \"OUT-OCC.start.gro\"],\\\n",
    "                    \"OutOcc-Occ\":[\"OutOpen-OutOcc.8500ps.gro\", \"OCC.start.gro\"],\n",
    "                    \"Occ-InOcc\":[\"OutOcc-Occ.10780ps.gro\", \"IN-OCC.start.gro\"],\\\n",
    "                    \"InOcc-InOpen\":[\"Occ-InOcc.12630ps.gro\", \"IN.start.gro\"],\\\n",
    "                    \"OutOcc-InOcc\":[\"OutOpen-OutOcc.8500ps.gro\", \"IN-OCC.start.gro\"]\n",
    "                   }\n",
    "\n",
    "    \n",
    "start_name = trajname.split('-')[0]\n",
    "end_name = trajname.split('-')[1]\n",
    "if skip25:\n",
    "    u = mda.Universe(f'{trajdir}/{trajname}/{sim_ref_dict[trajname][0]}', f'{trajdir}/{trajname}/{trajname}.skip25.xtc')\n",
    "else:\n",
    "    u = mda.Universe(f'{trajdir}/{trajname}/{sim_ref_dict[trajname][0]}', f'{trajdir}/{trajname}/{trajname}.xtc')\n",
    "\n",
    "start_ref = mda.Universe(f'{trajdir}/{trajname}/{sim_ref_dict[trajname][0]}')\n",
    "target_str = mda.Universe(f'{trajdir}/{trajname}/{sim_ref_dict[trajname][1]}')"
   ]
  }
 ],
 "metadata": {
  "kernelspec": {
   "display_name": "Python 3",
   "language": "python",
   "name": "python3"
  },
  "language_info": {
   "codemirror_mode": {
    "name": "ipython",
    "version": 3
   },
   "file_extension": ".py",
   "mimetype": "text/x-python",
   "name": "python",
   "nbconvert_exporter": "python",
   "pygments_lexer": "ipython3",
   "version": "3.8.8"
  }
 },
 "nbformat": 4,
 "nbformat_minor": 5
}
