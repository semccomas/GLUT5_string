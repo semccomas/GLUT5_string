{
 "cells": [
  {
   "cell_type": "markdown",
   "id": "ideal-prisoner",
   "metadata": {},
   "source": [
    "# Here will we analyze the steered sims\n",
    "most of this info is taken from ABMD analysis\n",
    "\n",
    "You only need to run this first section of code for the other parts, and then you can skip around\n",
    "\n",
    "This assumes you have run `input_maker` and have a `string0.txt` file which you can parse, as well as a `cv.pkl` file\n",
    "\n",
    "You may have issues with Trust in this notebook because we are calling bash commands from here"
   ]
  },
  {
   "cell_type": "code",
   "execution_count": 1,
   "id": "separated-bradley",
   "metadata": {},
   "outputs": [],
   "source": [
    "import numpy as np\n",
    "import MDAnalysis as mda\n",
    "import matplotlib.pyplot as plt\n",
    "import os.path\n",
    "import subprocess\n",
    "import pickle\n",
    "import pandas as pd\n",
    "from MDAnalysis.analysis import distances\n",
    "import sys\n",
    "import math\n",
    "\n",
    "sys.path.insert(1, '../../../string/analysis/scripts')\n",
    "from gate_functions import *"
   ]
  },
  {
   "cell_type": "markdown",
   "id": "beneficial-immigration",
   "metadata": {},
   "source": [
    "### User inputs\n",
    "\n",
    "- `trajdir` - where can you find state trajectories\n",
    "- `trajname` - name of directory\n",
    "- `n_beads` - how many beads in simulation. Even if you haven't finished sims and want to analyze, leave this as # beads because it will help us to parse `string0.txt`\n",
    "\n",
    "\n",
    "### Data loading\n",
    "Run `combine_confout.sh` which will take our inputs here to run `gmx editconf` on gro files, putting them together as PDBs and then concatenating PDB files.\n",
    "\n",
    "To not get an error we should first make sure n_beads is correct (so that you can run this script while still running simulations, even if they aren't done)"
   ]
  },
  {
   "cell_type": "markdown",
   "id": "obvious-ambassador",
   "metadata": {},
   "source": [
    "## table of contents:\n",
    "- [Parse all files](#start) - run each time\n",
    "- [Demystifying res progress](#demyst) - steered using Oliver code only\n",
    "- [Gate COM detection](#gate_progress) - either steered or TMD\n",
    "- [RMSD](#rmsd) - either steered or TMD\n",
    "- [COLVAR file parsing](#COLVAR) - TMD only"
   ]
  },
  {
   "cell_type": "markdown",
   "id": "amended-terrace",
   "metadata": {},
   "source": [
    "Define here if you are using targeted MD or not\n"
   ]
  },
  {
   "cell_type": "code",
   "execution_count": 6,
   "id": "going-absolute",
   "metadata": {},
   "outputs": [],
   "source": [
    "targeted_MD = True\n",
    "skip25 = False"
   ]
  },
  {
   "cell_type": "markdown",
   "id": "distinguished-moses",
   "metadata": {},
   "source": [
    "We do this because there are different ways of loading trajectory depending on the method of MD used. Still have to define `trajname`\n",
    " <a id='start'></a>\n"
   ]
  },
  {
   "cell_type": "code",
   "execution_count": 9,
   "id": "dirty-plenty",
   "metadata": {},
   "outputs": [],
   "source": [
    "if not targeted_MD:\n",
    "    trajdir = '../../all_state_running'\n",
    "\n",
    "    #trajname = 'Occ-InOcc'\n",
    "    trajname = 'efflux_demyst_gate_CV'\n",
    "\n",
    "    n_beads = 12\n",
    "\n",
    "    for n in range(n_beads):\n",
    "        if os.path.isfile('%s/%s/md/0/%i/restrained/confout.gro' % (trajdir, trajname, n)):\n",
    "            pass\n",
    "        else:\n",
    "            n_beads = n - 1\n",
    "            break\n",
    "\n",
    "    print('%s beads detected so far, Universe PDB will be this many frames' % (n_beads))\n",
    "\n",
    "\n",
    "    ## call the combine script. Will combine at max n_beads. If not finished, will combine as many as possible\n",
    "    subprocess.check_call(\"./combine_confout.sh %s %s %s %s\" % (str(n_beads), trajname, trajdir, str(trajdir.split('/')[-1])), shell=True)\n",
    "\n",
    "elif targeted_MD:\n",
    "    trajdir = '../../state_by_state_running/targeted_MD/efflux_BFRU_all_heavy'\n",
    "    trajname = 'Occ-OutOcc'\n",
    "    \n",
    "    ## simulation name: [start_ref, end_ref]\n",
    "    if 'BFRU' not in trajdir:\n",
    "        sim_ref_dict = {\"InOpen-InOcc\":[\"IN.start.gro\", \"IN-OCC.start.gro\"],\\\n",
    "                        \"InOcc-Occ\":[\"InOpen-InOcc.9600ps.gro\", \"OCC.start.gro\"],\\\n",
    "                        \"Occ-OutOcc\":[\"InOcc-Occ.8600ps.gro\", \"OUT-OCC.start.gro\"],\\\n",
    "                        \"OutOcc-OutOpen\":[\"Occ-OutOcc.7700ps.gro\", \"OUT.equilib.200ns.gro\"],\\\n",
    "                        \"InOcc-OutOcc\":[\"InOpen-InOcc.9600ps.gro\", \"OUT-OCC.start.gro\"],\\\n",
    "\n",
    "                        #influx\n",
    "                        \"OutOpen-OutOcc\":[\"OUT.equilib.200ns.gro\", \"OUT-OCC.start.gro\"],\\\n",
    "                        \"OutOcc-Occ\":[\"OutOpen-OutOcc.11200ps.gro\", \"OCC.start.gro\"],\\\n",
    "                        \"Occ-InOcc\":[\"OutOcc-Occ.10000ps.gro\", \"IN-OCC.start.gro\"],\\\n",
    "                        \"InOcc-InOpen\":[\"Occ-InOcc.8100ps.gro\", \"IN.start.gro\"],\\\n",
    "                        \"OutOcc-InOcc\":[\"OutOpen-OutOcc.11200ps.gro\", \"IN-OCC.start.gro\"],\\\n",
    "\n",
    "                        #all \n",
    "                       \"OutOpen-InOpen\":[\"OUT.equilib.200ns.gro\", \"IN.start.gro\"],\\\n",
    "                        \"InOpen-OutOpen\":[\"IN.start.gro\", \"OUT.equilib.200ns.gro\"]}\n",
    "    elif 'BFRU' in trajdir:\n",
    "        sim_ref_dict = {\"InOpen-InOcc\":[\"IN.start.BFRU.equilbrated.gro\", \"IN-OCC.start.gro\"],\\\n",
    "                        \"InOcc-Occ\":[\"InOpen-InOcc.10000ps.gro\", \"OCC.start.gro\"],\\\n",
    "                        \"Occ-OutOcc\":[\"InOcc-Occ.12980ps.gro\", \"OUT-OCC.start.gro\"],\\\n",
    "                        \"OutOcc-OutOpen\":[\"Occ-OutOcc.11700ps.gro\", \"OUT.equilib.200ns.gro\"],\\\n",
    "                        \"InOcc-OutOcc\":[\"InOpen-InOcc.10000ps.gro\", \"OUT-OCC.start.gro\"],\\\n",
    "                        \n",
    "                        #influx\n",
    "                        \"OutOpen-OutOcc\":[\"OUT.equilib.200ns.BFRU.equilibrated.gro\", \"OUT-OCC.start.gro\"],\\\n",
    "                        \"OutOcc-Occ\":[\"OutOpen-OutOcc.8500ps.gro\", \"OCC.start.gro\"],\n",
    "                        \"Occ-InOcc\":[\"OutOcc-Occ.10780ps.gro\", \"IN-OCC.start.gro\"],\\\n",
    "                        \"InOcc-InOpen\":[\"Occ-InOcc.12630ps.gro\", \"IN.start.gro\"],\\\n",
    "                        \"OutOcc-InOcc\":[\"OutOpen-OutOcc.8500ps.gro\", \"IN-OCC.start.gro\"]\n",
    "                       }\n"
   ]
  },
  {
   "cell_type": "markdown",
   "id": "damaged-house",
   "metadata": {},
   "source": [
    " "
   ]
  },
  {
   "cell_type": "markdown",
   "id": "original-vacuum",
   "metadata": {},
   "source": [
    "\n",
    "\n",
    "Load a few more input files, again still have to change based on what simulation you are using\n"
   ]
  },
  {
   "cell_type": "code",
   "execution_count": 10,
   "id": "latest-collectible",
   "metadata": {
    "scrolled": true
   },
   "outputs": [],
   "source": [
    "if not targeted_MD:\n",
    "    u = mda.Universe('./confout_temp/%s.%s.%i.frames.pdb' % (str(trajdir.split('/')[-1]), trajname, n_beads))\n",
    "    #target_str = mda.Universe('%s/%s/topology/end.gro' % (trajdir, trajname))\n",
    "\n",
    "    start_ref = mda.Universe('%s/%s/topology/start.gro' % (trajdir, trajname))\n",
    "    if 'efflux' in trajname:\n",
    "        target_str = mda.Universe('../ref_models/OUT.equilib.200ns.gro')\n",
    "        start_name = 'In Open'\n",
    "        end_name = 'Out Open'\n",
    "    elif 'influx_BFRU_demyst' in trajname:\n",
    "        target_str = mda.Universe('../ref_models/IN.start.gro')\n",
    "        start_name = 'Out Open'\n",
    "        end_name = 'In Open'\n",
    "    elif 'influx_BFRU_gate' in trajname:\n",
    "        target_str = mda.Universe('../ref_atom_sim/IN.548ns.gro')\n",
    "        start_name = 'Out Open'\n",
    "        end_name = 'In Open'    \n",
    "\n",
    "\n",
    "    cvs, ndx_groups = pickle.load(open(\"cv.pkl\", \"rb\"))\n",
    "\n",
    "    \n",
    "    \n",
    "    \n",
    "    \n",
    "elif targeted_MD:\n",
    "    start_name = trajname.split('-')[0]\n",
    "    end_name = trajname.split('-')[1]\n",
    "    if skip25:\n",
    "        u = mda.Universe(f'{trajdir}/{trajname}/{sim_ref_dict[trajname][0]}', f'{trajdir}/{trajname}/{trajname}.skip25.xtc')\n",
    "    else:\n",
    "        u = mda.Universe(f'{trajdir}/{trajname}/{sim_ref_dict[trajname][0]}', f'{trajdir}/{trajname}/{trajname}.xtc')\n",
    "        \n",
    "    start_ref = mda.Universe(f'{trajdir}/{trajname}/{sim_ref_dict[trajname][0]}')\n",
    "    target_str = mda.Universe(f'{trajdir}/{trajname}/{sim_ref_dict[trajname][1]}')"
   ]
  },
  {
   "cell_type": "markdown",
   "id": "amino-silver",
   "metadata": {},
   "source": [
    "# Find distance to demystifying CVs\n",
    "## skip for **targeted MD** and go to [gate progress](#gate_progress)\n",
    " <a id='demyst'></a>\n",
    "\n",
    "\n",
    "#### This will find the difference between the `end.gro` (or other specified gro file) vs the `confout.gro` files from each steered sim (saved in `confout_temp` as one concatenated trajectory) \n",
    "\n",
    "First, get the information from the `cvs.pkl` file (about residue pairs and their corresponding indices)\n",
    "\n",
    "The calculation can take a minute or two, if you don't want to wait, set `calculate_dists` to `False`.\n",
    "\n",
    "`distance_arr` is shaped as #CVs, #beads (so each row is 1 CV, and each column is one bead). \n",
    "In the case of `target_str` loading, `distance_arr` will be (#CVs, 1)"
   ]
  },
  {
   "cell_type": "code",
   "execution_count": null,
   "id": "illegal-harassment",
   "metadata": {},
   "outputs": [],
   "source": [
    "def get_distances(traj, calculate_dists, save_dists):\n",
    "    \n",
    "    \n",
    "    if not calculate_dists:\n",
    "        distance_arr = np.load('distance_arrays/distances_demystifying_CVs.%s.%s.npy' %(str(trajdir.split('/')[-1]), trajname))\n",
    "\n",
    "    else:\n",
    "        distance_arr = np.zeros((len(cvs), len(traj.trajectory))) \n",
    "    \n",
    "    \n",
    "    # get resname pairs, for labeling dataframes and graphs\n",
    "    resname_pairs = []\n",
    "    \n",
    "    for cv_index, cv_num in enumerate(cvs):\n",
    "        resname_cv1 = list(ndx_groups)[cv_num[0]-1]\n",
    "        resname_cv2 = list(ndx_groups)[cv_num[1]-1]\n",
    "        resname_pairs.append((int(resname_cv1[2:].split('_')[0]), int(resname_cv2[2:].split('_')[0])))  #only save names      \n",
    "    \n",
    "    \n",
    "        if calculate_dists:\n",
    "            # get atoms from traj\n",
    "            distance = []\n",
    "            feat1 = traj.select_atoms(ndx_groups[resname_cv1])\n",
    "            feat2 = traj.select_atoms(ndx_groups[resname_cv2])\n",
    "            for timestep in traj.trajectory:\n",
    "                distance.append(float(distances.dist(feat1, feat2)[2]))  #index 2 is actual distances, 0 and 1 are resids\n",
    "\n",
    "            distance_arr[cv_index] = distance\n",
    "    \n",
    "        #write progress\n",
    "        sys.stdout.write(\"\\r%d / %s done\" %(cv_index + 1, len(cvs)))\n",
    "        sys.stdout.flush()\n",
    "        \n",
    "    if save_dists:\n",
    "        np.save('distance_arrays/distances_demystifying_CVs.%s.%s.npy' %(str(trajdir.split('/')[-1]), trajname), distance_arr)\n",
    "    \n",
    "    return resname_pairs, distance_arr"
   ]
  },
  {
   "cell_type": "code",
   "execution_count": null,
   "id": "convinced-guyana",
   "metadata": {},
   "outputs": [],
   "source": [
    "resname_pairs, distance_arr = get_distances(u, calculate_dists = True, save_dists = True)\n",
    "resname_pairs, target_dist = get_distances(target_str, calculate_dists = True, save_dists = False)\n",
    "\n",
    "# take difference, and make into nm from A\n",
    "distance_arr = np.abs(target_dist - distance_arr) / 10\n",
    "distance_to_target = pd.DataFrame(distance_arr.T, columns=resname_pairs)"
   ]
  },
  {
   "cell_type": "markdown",
   "id": "female-output",
   "metadata": {},
   "source": []
  },
  {
   "cell_type": "code",
   "execution_count": null,
   "id": "second-saskatchewan",
   "metadata": {
    "scrolled": true
   },
   "outputs": [],
   "source": [
    "#adapt plot size - generally good to have it 15 x double length of CVs, just looks best I have found\n",
    "figsize = (15, int(len(resname_pairs)) *2)\n",
    "\n",
    "\n",
    "# adapt color bar\n",
    "cmap = plt.cm.get_cmap('tab10')\n",
    "np.random.seed(479)\n",
    "colors = cmap(np.random.random((int(len(resname_pairs)))))[:,:-1]\n",
    "\n",
    "fig, axes = plt.subplots(math.ceil(len(resname_pairs) / 2), 2, figsize=figsize)\n",
    "\n",
    "#if not divisible by zero, delete the final axes\n",
    "if len(resname_pairs) % 2 != 0:\n",
    "    fig.delaxes(axes[math.floor(len(resname_pairs) / 2) , 1])\n",
    "    \n",
    "for i, cv_data in enumerate(distance_to_target):\n",
    "    ax = distance_to_target[cv_data].plot(ax = axes.flatten()[i], style = '.-', markersize = 20, label = cv_data, color = tuple(colors[i]))\n",
    "    ax.legend() \n",
    "    ax.set_xlim(0, n_beads)\n",
    "    ax.set_ylim(0)\n",
    "    ax.set_xlabel('Bead #')\n",
    "    ax.set_ylabel('Distance to target (nm)')\n",
    "    \n",
    "    \n",
    "plt.savefig('../images_figs/steered_progress_plots/demyst_dists/%s_simulation.%s_state.%s_beads.demystifying_CV_progress.png' \\\n",
    "            %(trajdir.split('/')[-1], trajname, n_beads), dpi = 200)"
   ]
  },
  {
   "cell_type": "markdown",
   "id": "right-marriage",
   "metadata": {},
   "source": [
    " "
   ]
  },
  {
   "cell_type": "markdown",
   "id": "exposed-authentication",
   "metadata": {},
   "source": [
    " <a id='gate_progress'></a>\n",
    " "
   ]
  },
  {
   "cell_type": "markdown",
   "id": "activated-fraction",
   "metadata": {},
   "source": [
    "# Gate progress\n",
    "#### This will measure EC and IC gate distance vs the target structure. This won't need strings0.txt, this needs `end.gro` \n",
    "\n",
    "If you want to compare the gate to another structure, just change the `target_str`\n"
   ]
  },
  {
   "cell_type": "code",
   "execution_count": 11,
   "id": "sticky-ambassador",
   "metadata": {},
   "outputs": [
    {
     "name": "stdout",
     "output_type": "stream",
     "text": [
      "returning EC gate, IC gate dists\n",
      "returning EC gate, IC gate dists\n"
     ]
    }
   ],
   "source": [
    "gate_EC = [(30,37), (289,295)]\n",
    "gate_IC = [(136,145), (386,394)]\n",
    "\n",
    "gate_EC_dists, gate_IC_dists = make_gate_arr(u, gate_EC, gate_IC)\n",
    "#gate_EC_dists = np.array(gate_EC_dists)\n",
    "#gate_IC_dists = np.array(gate_IC_dists)\n",
    "\n",
    "target_EC, target_IC = make_gate_arr(target_str, gate_EC, gate_IC)\n",
    "\n",
    "start_EC = gate_EC_dists[0]\n",
    "start_IC = gate_IC_dists[0]"
   ]
  },
  {
   "cell_type": "code",
   "execution_count": null,
   "id": "outside-cartridge",
   "metadata": {},
   "outputs": [],
   "source": []
  },
  {
   "cell_type": "code",
   "execution_count": 6,
   "id": "engaging-christopher",
   "metadata": {},
   "outputs": [
    {
     "data": {
      "image/png": "[encoded data removed]",
      "text/plain": [
       "<Figure size 720x432 with 2 Axes>"
      ]
     },
     "metadata": {
      "needs_background": "light"
     },
     "output_type": "display_data"
    }
   ],
   "source": [
    "c = ['#00CCCC', '#003366']\n",
    "figsize = (10, 6)\n",
    "markersize = 2\n",
    "savefig = False\n",
    "\n",
    "\n",
    "fig, (ax1, ax2) = plt.subplots(nrows = 2, sharex = True, figsize = figsize)\n",
    "\n",
    "ax1.plot(np.arange(len(gate_EC_dists)), abs(start_EC - np.array(gate_EC_dists)), \\\n",
    "         label = \"Distance from %s (start)\" %start_name, color = c[0],\\\n",
    "        marker = 'o', markersize = markersize)\n",
    "ax1.plot(np.arange(len(gate_EC_dists)), abs(target_EC - np.array(gate_EC_dists)),\\\n",
    "         label = \"Distance to %s (end)\" %end_name, color = c[1],\n",
    "        marker = 'o', markersize = markersize)\n",
    "ax1.set_title(\"Extracellular gate\")\n",
    "ax1.set_xlim(0)\n",
    "ax1.set_ylim(0)\n",
    "ax1.set_ylabel('Distance (nm)')\n",
    "\n",
    "ax2.plot(np.arange(len(gate_IC_dists)), abs(start_IC - np.array(gate_IC_dists)),\\\n",
    "         label = \"Distance from %s (start)\" %start_name, color = c[0],\\\n",
    "        marker = 'o', markersize = markersize)\n",
    "ax2.plot(np.arange(len(gate_IC_dists)), abs(target_IC - np.array(gate_IC_dists)),\\\n",
    "         label = \"Distance to %s (end)\" %end_name, color = c[1],\\\n",
    "        marker = 'o', markersize = markersize)\n",
    "ax2.set_title(\"Intracellular gate\")\n",
    "ax2.set_xlim(0)  \n",
    "ax2.set_ylim(0)\n",
    "ax2.set_xlabel('Bead #')\n",
    "ax2.set_ylabel('Distance (nm)')\n",
    "\n",
    "box = ax2.get_position()\n",
    "ax2.set_position([box.x0, box.y0 + box.height * 0.1,\n",
    "                 box.width, box.height * 0.9])\n",
    "\n",
    "box = ax1.get_position()\n",
    "ax1.set_position([box.x0, box.y0 + box.height * 0.1,\n",
    "                 box.width, box.height * 0.9])\n",
    "\n",
    "ax2.legend(loc='upper center', bbox_to_anchor=(0.5, -0.25),\n",
    "          fancybox=True, shadow=True, ncol=2)\n",
    "\n",
    "fig.suptitle('%s gate progress' %(trajname), fontweight='bold')\n",
    "\n",
    "if savefig:\n",
    "    plt.savefig('../images_figs/steered_progress_plots/gate_dists/%s_simulation.%s_state.%s_beads.gate_progress.png' \\\n",
    "            %(trajdir.split('/')[-1], trajname, n_beads), dpi = 200)"
   ]
  },
  {
   "cell_type": "markdown",
   "id": "settled-ozone",
   "metadata": {},
   "source": [
    " "
   ]
  },
  {
   "cell_type": "markdown",
   "id": "hybrid-eugene",
   "metadata": {},
   "source": [
    "# Make EC gate and IC gate plots as scatter to compare to classic KDE plot"
   ]
  },
  {
   "cell_type": "markdown",
   "id": "capital-bread",
   "metadata": {},
   "source": [
    " \n",
    " "
   ]
  },
  {
   "cell_type": "code",
   "execution_count": 12,
   "id": "opened-motion",
   "metadata": {},
   "outputs": [
    {
     "name": "stderr",
     "output_type": "stream",
     "text": [
      "No handles with labels found to put in legend.\n"
     ]
    },
    {
     "data": {
      "image/png": "[encoded data removed]",
      "text/plain": [
       "<Figure size 432x288 with 1 Axes>"
      ]
     },
     "metadata": {
      "needs_background": "light"
     },
     "output_type": "display_data"
    }
   ],
   "source": [
    "if not skip25:  \n",
    "    c = np.empty(len(gate_IC_dists), dtype='object')\n",
    "    #c = np.zeros((len(gate_IC_dists), 3))\n",
    "    c[:500] = 'black'\n",
    "    c[500:1000] = 'grey'\n",
    "    c[1000:1500] = 'blue'\n",
    "    c[1500:] = 'red'\n",
    "\n",
    "    plot_gate_scatter(gate_EC_dists, gate_IC_dists, color_list=c)\n",
    "\n",
    "else:\n",
    "    plot_gate_scatter(gate_EC_dists, gate_IC_dists, colormap = 'viridis')\n"
   ]
  },
  {
   "cell_type": "markdown",
   "id": "fundamental-success",
   "metadata": {},
   "source": [
    "# compare overall EF and IF for entire transitions (this loads both trajs now, don't need to get from loading page above)\n"
   ]
  },
  {
   "cell_type": "markdown",
   "id": "accessory-growth",
   "metadata": {},
   "source": [
    " "
   ]
  },
  {
   "cell_type": "code",
   "execution_count": 20,
   "id": "premier-banana",
   "metadata": {},
   "outputs": [],
   "source": [
    "def get_tm_COM(md_uni):\n",
    "    tm1 = md_uni.select_atoms('resid %i-%i' %(gate_EC[0][0], gate_EC[0][1])).center_of_mass()\n",
    "    tm7 = md_uni.select_atoms('resid %i-%i' %(gate_EC[1][0], gate_EC[1][1])).center_of_mass()\n",
    "    tm4 = md_uni.select_atoms('resid %i-%i' %(gate_IC[0][0], gate_IC[0][1])).center_of_mass()\n",
    "    tm10 = md_uni.select_atoms('resid %i-%i' %(gate_IC[1][0], gate_IC[1][1])).center_of_mass()    \n",
    "\n",
    "    return tm1,tm7,tm4,tm10\n",
    "\n",
    "def plot_comparison(trajdir, trajname, color, a = 0.4, label = None, skip25 = None, highlight_frames = None):\n",
    "    if skip25:\n",
    "        traj = mda.Universe(f'{trajdir}/{trajname}/{sim_ref_dict[trajname][0]}', f'{trajdir}/{trajname}/{trajname}.skip25.xtc')\n",
    "    else:\n",
    "        traj = mda.Universe(f'{trajdir}/{trajname}/{sim_ref_dict[trajname][0]}', f'{trajdir}/{trajname}/{trajname}.xtc')\n",
    "        \n",
    "    gate_EC_dists = []\n",
    "    gate_IC_dists = []\n",
    "    for timestep in traj.trajectory:\n",
    "        tm1,tm7,tm4,tm10 = get_tm_COM(traj)\n",
    "        gate_EC_dists.append(float(distances.distance_array(tm1, tm7)) / 10)\n",
    "        gate_IC_dists.append(float(distances.distance_array(tm4, tm10))/ 10) #keep in nm\n",
    "    gate_EC_dists = np.array(gate_EC_dists)\n",
    "    gate_IC_dists = np.array(gate_IC_dists)\n",
    "\n",
    "    if not highlight_frames:\n",
    "        plt.scatter(gate_IC_dists, gate_EC_dists, label=label, alpha = a, color = color)\n",
    "    \n",
    "    if highlight_frames:\n",
    "        plt.scatter(gate_IC_dists[highlight_frames], gate_EC_dists[highlight_frames],\\\n",
    "                    label=label, alpha = 1, color = color, s=100, edgecolor = 'black')\n",
    "\n",
    "    plt.xlim(0.9,1.82)\n",
    "    plt.ylim(0.74, 1.7)\n",
    "    plt.ylabel(\"Extracellular gate distance (nm)\")\n",
    "    plt.xlabel(\"Intracellular gate distance (nm)\")\n",
    "    plt.legend()"
   ]
  },
  {
   "cell_type": "code",
   "execution_count": 13,
   "id": "brown-island",
   "metadata": {},
   "outputs": [
    {
     "ename": "KeyError",
     "evalue": "'OutOpen-InOpen'",
     "output_type": "error",
     "traceback": [
      "\u001b[0;31m---------------------------------------------------------------------------\u001b[0m",
      "\u001b[0;31mKeyError\u001b[0m                                  Traceback (most recent call last)",
      "\u001b[0;32m<ipython-input-13-f7b08d24b753>\u001b[0m in \u001b[0;36m<module>\u001b[0;34m\u001b[0m\n\u001b[1;32m      2\u001b[0m \u001b[0;34m\u001b[0m\u001b[0m\n\u001b[1;32m      3\u001b[0m \u001b[0;31m#first plot the entire trajectory\u001b[0m\u001b[0;34m\u001b[0m\u001b[0;34m\u001b[0m\u001b[0;34m\u001b[0m\u001b[0m\n\u001b[0;32m----> 4\u001b[0;31m plot_comparison(trajdir = f'{indir}/influx_apo_all_heavy', trajname = 'OutOpen-InOpen', label = 'influx_all',\\\n\u001b[0m\u001b[1;32m      5\u001b[0m                color = 'green', skip25 = True)\n\u001b[1;32m      6\u001b[0m plot_comparison(trajdir = f'{indir}/efflux_apo_all_heavy', trajname = 'InOpen-OutOpen', label = 'efflux_all',\\\n",
      "\u001b[0;32m<ipython-input-12-225634aa0363>\u001b[0m in \u001b[0;36mplot_comparison\u001b[0;34m(trajdir, trajname, color, a, label, skip25, highlight_frames)\u001b[0m\n\u001b[1;32m      1\u001b[0m \u001b[0;32mdef\u001b[0m \u001b[0mplot_comparison\u001b[0m\u001b[0;34m(\u001b[0m\u001b[0mtrajdir\u001b[0m\u001b[0;34m,\u001b[0m \u001b[0mtrajname\u001b[0m\u001b[0;34m,\u001b[0m \u001b[0mcolor\u001b[0m\u001b[0;34m,\u001b[0m \u001b[0ma\u001b[0m \u001b[0;34m=\u001b[0m \u001b[0;36m0.4\u001b[0m\u001b[0;34m,\u001b[0m \u001b[0mlabel\u001b[0m \u001b[0;34m=\u001b[0m \u001b[0;32mNone\u001b[0m\u001b[0;34m,\u001b[0m \u001b[0mskip25\u001b[0m \u001b[0;34m=\u001b[0m \u001b[0;32mNone\u001b[0m\u001b[0;34m,\u001b[0m \u001b[0mhighlight_frames\u001b[0m \u001b[0;34m=\u001b[0m \u001b[0;32mNone\u001b[0m\u001b[0;34m)\u001b[0m\u001b[0;34m:\u001b[0m\u001b[0;34m\u001b[0m\u001b[0;34m\u001b[0m\u001b[0m\n\u001b[1;32m      2\u001b[0m     \u001b[0;32mif\u001b[0m \u001b[0mskip25\u001b[0m\u001b[0;34m:\u001b[0m\u001b[0;34m\u001b[0m\u001b[0;34m\u001b[0m\u001b[0m\n\u001b[0;32m----> 3\u001b[0;31m         \u001b[0mtraj\u001b[0m \u001b[0;34m=\u001b[0m \u001b[0mmda\u001b[0m\u001b[0;34m.\u001b[0m\u001b[0mUniverse\u001b[0m\u001b[0;34m(\u001b[0m\u001b[0;34mf'{trajdir}/{trajname}/{sim_ref_dict[trajname][0]}'\u001b[0m\u001b[0;34m,\u001b[0m \u001b[0;34mf'{trajdir}/{trajname}/{trajname}.skip25.xtc'\u001b[0m\u001b[0;34m)\u001b[0m\u001b[0;34m\u001b[0m\u001b[0;34m\u001b[0m\u001b[0m\n\u001b[0m\u001b[1;32m      4\u001b[0m     \u001b[0;32melse\u001b[0m\u001b[0;34m:\u001b[0m\u001b[0;34m\u001b[0m\u001b[0;34m\u001b[0m\u001b[0m\n\u001b[1;32m      5\u001b[0m         \u001b[0mtraj\u001b[0m \u001b[0;34m=\u001b[0m \u001b[0mmda\u001b[0m\u001b[0;34m.\u001b[0m\u001b[0mUniverse\u001b[0m\u001b[0;34m(\u001b[0m\u001b[0;34mf'{trajdir}/{trajname}/{sim_ref_dict[trajname][0]}'\u001b[0m\u001b[0;34m,\u001b[0m \u001b[0;34mf'{trajdir}/{trajname}/{trajname}.xtc'\u001b[0m\u001b[0;34m)\u001b[0m\u001b[0;34m\u001b[0m\u001b[0;34m\u001b[0m\u001b[0m\n",
      "\u001b[0;31mKeyError\u001b[0m: 'OutOpen-InOpen'"
     ]
    }
   ],
   "source": [
    "indir = '../../state_by_state_running/targeted_MD'\n",
    "\n",
    "#first plot the entire trajectory\n",
    "plot_comparison(trajdir = f'{indir}/influx_apo_all_heavy', trajname = 'OutOpen-InOpen', label = 'influx_all',\\\n",
    "               color = 'green', skip25 = True)\n",
    "plot_comparison(trajdir = f'{indir}/efflux_apo_all_heavy', trajname = 'InOpen-OutOpen', label = 'efflux_all',\\\n",
    "               color = 'orange', skip25 = True)\n",
    "\n",
    "\n",
    "#best to plot highlight_frames after you plot everything else, so they show up on top, \n",
    "#this is why we load it all again. don't add label here for redundancy\n",
    "plot_comparison(trajdir = f'{indir}/influx_apo_all_heavy', trajname = 'OutOpen-InOpen',\\\n",
    "               color = 'green', skip25 = True, highlight_frames = [112,220,302,408])\n",
    "plot_comparison(trajdir = f'{indir}/efflux_apo_all_heavy', trajname = 'InOpen-OutOpen', \\\n",
    "               color = 'orange', skip25 = True, highlight_frames = [96,182,259,350])"
   ]
  },
  {
   "cell_type": "markdown",
   "id": "eligible-plymouth",
   "metadata": {},
   "source": [
    " \n",
    "     \n",
    "        "
   ]
  },
  {
   "cell_type": "markdown",
   "id": "distinct-scope",
   "metadata": {},
   "source": [
    "# Compare `InOcc-OutOcc` vs `OutOcc-InOcc` vs simulations passing through occluded state\n",
    "\n"
   ]
  },
  {
   "cell_type": "code",
   "execution_count": 21,
   "id": "assigned-momentum",
   "metadata": {},
   "outputs": [
    {
     "data": {
      "image/png": "[encoded data removed]",
      "text/plain": [
       "<Figure size 432x288 with 1 Axes>"
      ]
     },
     "metadata": {
      "needs_background": "light"
     },
     "output_type": "display_data"
    }
   ],
   "source": [
    "indir = '../../state_by_state_running/targeted_MD'\n",
    "a = 0.7\n",
    "\n",
    "plot_comparison(trajdir = f'{indir}/influx_BFRU_all_heavy', trajname = 'OutOcc-Occ', label = 'OutOcc-Occ',\\\n",
    "               color = '#FF7F85', skip25 = True, a = a)\n",
    "plot_comparison(trajdir = f'{indir}/influx_BFRU_all_heavy', trajname = 'Occ-InOcc', label = 'Occ-InOcc',\\\n",
    "               color = '#FFCC8E', skip25 = True, a = a)\n",
    "plot_comparison(trajdir = f'{indir}/influx_BFRU_all_heavy', trajname = 'OutOcc-InOcc', label = 'OutOcc-InOcc',\\\n",
    "               color = '#37E15F', skip25 = True, a = a)\n",
    "\n",
    "\n",
    "plot_comparison(trajdir = f'{indir}/influx_BFRU_all_heavy', trajname = 'OutOcc-Occ',\\\n",
    "               color = '#FF7F85', skip25 = True, a = 1, highlight_frames = [0,-1])\n",
    "plot_comparison(trajdir = f'{indir}/influx_BFRU_all_heavy', trajname = 'Occ-InOcc',\\\n",
    "               color = '#FFCC8E', skip25 = True, a = 1, highlight_frames = [0,-1])\n",
    "plot_comparison(trajdir = f'{indir}/influx_BFRU_all_heavy', trajname = 'OutOcc-InOcc',\\\n",
    "               color = '#37E15F', skip25 = True, a = 1, highlight_frames = [0,-1])\n",
    "\n",
    "plt.show()"
   ]
  },
  {
   "cell_type": "code",
   "execution_count": 24,
   "id": "pregnant-causing",
   "metadata": {},
   "outputs": [
    {
     "data": {
      "image/png": "[encoded data removed]",
      "text/plain": [
       "<Figure size 432x288 with 1 Axes>"
      ]
     },
     "metadata": {
      "needs_background": "light"
     },
     "output_type": "display_data"
    }
   ],
   "source": [
    "indir = '../../state_by_state_running/targeted_MD'\n",
    "a = 0.7\n",
    "\n",
    "plot_comparison(trajdir = f'{indir}/efflux_BFRU_all_heavy', trajname = 'InOcc-Occ', label = 'InOcc-Occ',\\\n",
    "               color = '#FF7F85', skip25 = True, a = a)\n",
    "plot_comparison(trajdir = f'{indir}/efflux_BFRU_all_heavy', trajname = 'Occ-OutOcc', label = 'Occ-OutOcc',\\\n",
    "               color = '#FFCC8E', skip25 = True, a = a)\n",
    "plot_comparison(trajdir = f'{indir}/efflux_BFRU_all_heavy', trajname = 'InOcc-OutOcc', label = 'InOcc-OutOcc',\\\n",
    "               color = '#37E15F', skip25 = True, a = a)\n",
    "\n",
    "\n",
    "plot_comparison(trajdir = f'{indir}/efflux_BFRU_all_heavy', trajname = 'InOcc-Occ',\\\n",
    "               color = '#FF7F85', skip25 = True, a = 1, highlight_frames = [0,-1])\n",
    "plot_comparison(trajdir = f'{indir}/efflux_BFRU_all_heavy', trajname = 'Occ-OutOcc',\\\n",
    "               color = '#FFCC8E', skip25 = True, a = 1, highlight_frames = [0,-1])\n",
    "plot_comparison(trajdir = f'{indir}/efflux_BFRU_all_heavy', trajname = 'InOcc-OutOcc',\\\n",
    "               color = '#37E15F', skip25 = True, a = 1, highlight_frames = [0,-1])\n"
   ]
  },
  {
   "cell_type": "markdown",
   "id": "streaming-traffic",
   "metadata": {},
   "source": [
    "# RMSD compared to start and end coordinates\n",
    " <a id='rmsd'></a>\n"
   ]
  },
  {
   "cell_type": "code",
   "execution_count": null,
   "id": "complicated-letters",
   "metadata": {},
   "outputs": [],
   "source": [
    "import MDAnalysis.analysis.rms\n",
    "\n",
    "\n",
    "start_RMSD = MDAnalysis.analysis.rms.RMSD(u, start_ref,\n",
    "           select=\"backbone\", center = True, \\\n",
    "            groupselections=[\"backbone and (resid 1-51 or resid 265-300 or resid 118-146 or resid 364-395)\",\\\n",
    "                             \"backbone and (resid 1-205 or resid 265-455)\"])  \n",
    "start_RMSD.run()\n",
    "\n",
    "\n",
    "end_RMSD = MDAnalysis.analysis.rms.RMSD(u, target_str,\n",
    "           select=\"backbone\",center = True, \\\n",
    "            groupselections=[\"backbone and (resid 1-51 or resid 265-300 or resid 118-146 or resid 364-395)\",\\\n",
    "                             \"backbone and (resid 1-205 or resid 265-455)\"])  \n",
    "end_RMSD.run()"
   ]
  },
  {
   "cell_type": "code",
   "execution_count": null,
   "id": "alike-growing",
   "metadata": {},
   "outputs": [],
   "source": [
    "#TODO- fix all actual RMSDs\n",
    "start_rmsd = start_RMSD.rmsd.T   # transpose makes it easier for plotting\n",
    "end_rmsd = end_RMSD.rmsd.T   # transpose makes it easier for plotting\n",
    "savefig = False\n",
    "\n",
    "time = start_rmsd[1]\n",
    "ylim = (0,6)\n",
    "\n",
    "c = ['#00CCCC', '#003366']\n",
    "figsize = (10, 6)\n",
    "markersize = 2\n",
    "\n",
    "fig, (ax1, ax2, ax3) = plt.subplots(nrows = 3, sharex = True, figsize = figsize)\n",
    "\n",
    "ax1.plot(time, start_rmsd[2], label=\"%s as reference\" %start_name, color = c[0], marker = 'o', markersize = markersize)\n",
    "ax3.plot(time, start_rmsd[3], color = c[0], marker = 'o', markersize = markersize)\n",
    "ax2.plot(time, start_rmsd[4], color = c[0], marker ='o', markersize = markersize)\n",
    "\n",
    "\n",
    "ax1.plot(time, end_rmsd[2], label=\"%s as reference\" %end_name, color = c[1], marker = 'o', markersize = markersize)\n",
    "ax3.plot(time, end_rmsd[3], color = c[1], marker = 'o', markersize = markersize)\n",
    "ax2.plot(time, end_rmsd[4], color = c[1], marker ='o', markersize = markersize)\n",
    "\n",
    "ax1.set_title('Whole protein')\n",
    "ax3.set_title('Gating helices')\n",
    "ax2.set_title('Transmembrane region')\n",
    "\n",
    "\n",
    "plt.xlim(0)\n",
    "ax1.set_ylim(ylim)\n",
    "ax2.set_ylim(ylim)\n",
    "ax3.set_ylim(ylim)\n",
    "\n",
    "ax3.set_xlabel(\"Bead #\")\n",
    "ax2.set_ylabel('RMSD (A)')\n",
    "\n",
    "ax1.legend()\n",
    "plt.tight_layout()\n",
    "\n",
    "if savefig:\n",
    "    plt.savefig('../images_figs/steered_progress_plots/RMSD/%s_simulation.%s_state.%s_beads.RMSD.png' \\\n",
    "            %(trajdir.split('/')[-1], trajname, n_beads), dpi = 200)"
   ]
  },
  {
   "cell_type": "markdown",
   "id": "timely-selling",
   "metadata": {},
   "source": [
    "# RMSF calculation\n",
    "You can see where the protein is not aligning, especially useful for targeted MD\n",
    "Currently you can dump out the final frame and then run rmsf calcs, and then plot it here. Hopefully I implement something better soon\n",
    "\n",
    "`gmx trjconv -f OutOpen-OutOcc.xtc -dump 17540 -o OutOpen-OutOcc.17_5ns.gro -s OutOpen-OutOcc.tpr`\n",
    "\n",
    "\n",
    "`gmx rmsf -f OutOpen-OutOcc.17_5ns.gro -s OUT-OCC.start.gro -xvg none -res -fit`\n",
    "\n",
    "Or\n",
    "\n",
    "`gmx rmsf -f OutOpen-OutOcc.xtc -s OUT-OCC.start.gro -xvg none -res -fit -b 15000` \n",
    "\n",
    "to show for the final chunk of the simulation\n",
    "\n",
    "\n",
    "   select 1 for protein"
   ]
  },
  {
   "cell_type": "code",
   "execution_count": null,
   "id": "attended-competition",
   "metadata": {},
   "outputs": [],
   "source": [
    "rmsf = np.loadtxt(f'{trajdir}/{trajname}/rmsf.xvg')\n",
    "\n",
    "rmsf = np.nan_to_num(rmsf)\n",
    "rmsf[:,1] = rmsf[:,1] * 10\n",
    "\n",
    "f = plt.figure(figsize = (15,5))\n",
    "plt.plot(rmsf[:,1], linewidth = 0.4)\n",
    "plt.ylim(0)\n",
    "plt.xlim(0, len(rmsf))\n",
    "plt.xticks(np.arange(0, len(rmsf)+1, 50))"
   ]
  },
  {
   "cell_type": "markdown",
   "id": "residential-plasma",
   "metadata": {},
   "source": [
    "\n"
   ]
  },
  {
   "cell_type": "code",
   "execution_count": null,
   "id": "blocked-textbook",
   "metadata": {},
   "outputs": [],
   "source": [
    "sorted_rmsf = np.argsort(rmsf[:,1])[-10:]\n",
    "\n",
    "print(\"Max RMSF values are:\")\n",
    "for x in sorted_rmsf[::-1]:\n",
    "    print(rmsf[x])"
   ]
  },
  {
   "cell_type": "markdown",
   "id": "welsh-quarter",
   "metadata": {},
   "source": [
    " "
   ]
  },
  {
   "cell_type": "markdown",
   "id": "appropriate-municipality",
   "metadata": {},
   "source": [
    "# Salt bridge distance analysis\n",
    "\n",
    "This exists in a bit of a different space than the above analysis, so we are loading new trajectories"
   ]
  },
  {
   "cell_type": "code",
   "execution_count": null,
   "id": "serial-reproduction",
   "metadata": {},
   "outputs": [],
   "source": [
    "# TEMPORARY\n",
    "trajdir = '../../efflux_demyst_CV'\n",
    "\n",
    "trajname = 'OutOcc-OutOpen'\n",
    "#trajname = 'OutOpen-OutOcc'"
   ]
  },
  {
   "cell_type": "code",
   "execution_count": null,
   "id": "deluxe-local",
   "metadata": {},
   "outputs": [],
   "source": [
    "model_dict = {'OutOpen-OutOcc':('OUT', 'OCC'), 'OutOcc-Occ':('OUT-OCC', 'OCC'), 'Occ-InOcc':('OCC', 'IN-OCC'), \\\n",
    "             'InOcc-InOpen':('IN-OCC', 'IN'), 'InOpen-InOcc':('IN', 'IN-OCC'), 'InOcc-Occ':('IN-OCC', 'OCC'),\\\n",
    "             'Occ-OutOcc':('OCC', 'OUT-OCC'), 'OutOcc-OutOpen':('OUT-OCC', 'OUT')}\n",
    "\n",
    "start_model = mda.Universe('../ref_models/%s.start.gro' % (model_dict[trajname][0]) )\n",
    "end_model = mda.Universe('../ref_models/%s.start.gro' % (model_dict[trajname][1]) )\n",
    "\n",
    "start_sim = mda.Universe('%s/%s/md/0/0/restrained/confout.gro' %(trajdir, trajname) )\n",
    "end_sim = mda.Universe('%s/%s/md/0/15/restrained/confout.gro' %(trajdir, trajname) )"
   ]
  },
  {
   "cell_type": "markdown",
   "id": "animated-procurement",
   "metadata": {},
   "source": [
    "Then we make a dataframe, one per plot and we have 4 plots. \n",
    "\n",
    "\n",
    "Each will calculate the distance for the bridge of the model and the simulation."
   ]
  },
  {
   "cell_type": "code",
   "execution_count": null,
   "id": "sized-radio",
   "metadata": {},
   "outputs": [],
   "source": [
    "bridge1 = [145, 91, 401]  #most important is E145 to R401\n",
    "bridge2 = [334, 152, 394, 330]   #most important is E394 to R152\n",
    "\n",
    "#res = list(zip(bridge1, bridge1[1:] + bridge1[:1]))\n",
    "#res = list(zip(bridge2, bridge2[1:] + bridge2[:1]))\n",
    "\n",
    "\n",
    "def get_salt_dists(bridge, traj_model, traj_sim):\n",
    "    distance_model = []\n",
    "    distance_sim = []\n",
    "    \n",
    "    res = list(zip(bridge, bridge[1:] + bridge[:1]))   #pair up each bridge residue\n",
    "    for (res1, res2) in res:\n",
    "        feat1 = traj_model.select_atoms('resid %s and name CA' %res1)\n",
    "        feat2 = traj_model.select_atoms('resid %s and name CA' %res2)\n",
    "        distance_model.append(float(distances.dist(feat1,feat2)[2]))\n",
    "        \n",
    "        \n",
    "        feat1 = traj_sim.select_atoms('resid %s and name CA' %res1)\n",
    "        feat2 = traj_sim.select_atoms('resid %s and name CA' %res2)\n",
    "        distance_sim.append(float(distances.dist(feat1,feat2)[2]))\n",
    "    \n",
    "    \n",
    "    df = pd.DataFrame({'group':res, 'distance_model':distance_model, 'distance_sim':distance_sim})\n",
    "    return(df)\n",
    "\n",
    "bridge1_dist_start = get_salt_dists(bridge1, start_model, start_sim)\n",
    "bridge1_dist_end = get_salt_dists(bridge1, end_model, end_sim)\n",
    "\n",
    "bridge2_dist_start = get_salt_dists(bridge2, start_model, start_sim)\n",
    "bridge2_dist_end = get_salt_dists(bridge2, end_model, end_sim)"
   ]
  },
  {
   "cell_type": "code",
   "execution_count": null,
   "id": "french-clerk",
   "metadata": {},
   "outputs": [],
   "source": [
    "bridge1_dist_start"
   ]
  },
  {
   "cell_type": "code",
   "execution_count": null,
   "id": "outdoor-harbor",
   "metadata": {},
   "outputs": [],
   "source": [
    "from math import pi \n",
    "\n",
    "def make_radar(bridge, plot_loc, title):\n",
    "    # ------- PART 1: Create background\n",
    "\n",
    "    # number of variable\n",
    "    categories=bridge['group']\n",
    "    N = len(categories)\n",
    "\n",
    "    # What will be the angle of each axis in the plot? (we divide the plot / number of variable)\n",
    "    angles = [n / float(N) * 2 * pi for n in range(N)]\n",
    "    angles += angles[:1]\n",
    "\n",
    "    # Initialise the spider plot\n",
    "    ax = plt.subplot(plot_loc, polar=True)\n",
    "\n",
    "    # If you want the first axis to be on top:\n",
    "    ax.set_theta_offset(pi / 2)\n",
    "    ax.set_theta_direction(-1)\n",
    "\n",
    "    # Draw one axe per variable + add labels. Add a bit of a pad so numbers aren't so smushed\n",
    "    plt.xticks(angles[:-1], categories)\n",
    "    ax.tick_params(axis='both', which='both', pad=19)\n",
    "\n",
    "\n",
    "    # Draw ylabels\n",
    "    ax.set_rlabel_position(0)\n",
    "    plt.yticks([10,15,20], [\"10\",\"15\",\"20\"], color=\"grey\", size=7)\n",
    "    plt.ylim(5,20)\n",
    "\n",
    "\n",
    "\n",
    "    # Ind1\n",
    "    values=bridge['distance_model'].values.flatten().tolist()\n",
    "    values += values[:1]\n",
    "    ax.plot(angles, values, linewidth=1, linestyle='solid', label=\"Model\", color = 'grey')\n",
    "    ax.fill(angles, values, 'b', alpha=0.1, color = 'grey')\n",
    "\n",
    "\n",
    "    values=bridge['distance_sim'].values.flatten().tolist()\n",
    "    values += values[:1]\n",
    "    ax.plot(angles, values, linewidth=1, linestyle='solid', label=\"Simulation\", color = 'orange')\n",
    "    ax.fill(angles, values, 'b', alpha=0.2, color = 'orange')\n",
    "    \n",
    "    ax.set_title(title, fontdict={'fontsize': 18, 'fontweight': 'medium'})\n",
    "\n",
    "    \n",
    "fig = plt.figure(figsize = (15,10))\n",
    "make_radar(bridge1_dist_start, 221, '%s, bridge 1' % model_dict[trajname][0].title() )  #.title() will make it look nicer (IN-OCC --> In-Occ)\n",
    "make_radar(bridge1_dist_end, 222, '%s, bridge 1' % model_dict[trajname][1].title() )\n",
    "make_radar(bridge2_dist_start, 223, '%s, bridge 2' % model_dict[trajname][0].title() )  \n",
    "make_radar(bridge2_dist_end, 224, '%s, bridge 2' % model_dict[trajname][1].title() )\n",
    "\n",
    "# Add legend\n",
    "plt.legend(loc='upper right', bbox_to_anchor=(0.1, 0.1))\n",
    "plt.subplots_adjust(top = 0.99, bottom=0.01, hspace=0.3, wspace=0.2)\n",
    "\n",
    "\n",
    "# Show the graph\n",
    "plt.savefig('../images_figs/steered_progress_plots/salt_bridge/salt_bridge_radar.%s.%s.vs_models.png'\\\n",
    "           %(trajdir.split('/')[-1], trajname), dpi = 200)"
   ]
  },
  {
   "cell_type": "code",
   "execution_count": null,
   "id": "shaped-wonder",
   "metadata": {},
   "outputs": [],
   "source": [
    "#feat1 = start_ref.select_atoms('resid 334')\n",
    "#feat2 = start_ref.select_atoms('resid 394')\n",
    "\n",
    "#distances.distance_array(feat1,feat2)\n",
    "\n",
    "#TODO - try to change this to be for actual contacts, not just CA"
   ]
  },
  {
   "cell_type": "markdown",
   "id": "academic-motivation",
   "metadata": {},
   "source": [
    "# For targeted MD - parsing the COLVAR file\n",
    " <a id='COLVAR'></a>\n",
    "\n",
    "\n",
    "to interpret this output- can read [PLUMED documentation](https://www.plumed.org/doc-v2.6/user-doc/html/_m_o_v_i_n_g_r_e_s_t_r_a_i_n_t.html)"
   ]
  },
  {
   "cell_type": "code",
   "execution_count": null,
   "id": "automated-focus",
   "metadata": {},
   "outputs": [],
   "source": [
    "colvar = pd.read_csv(f'{trajdir}/{trajname}/COLVAR_all', delimiter= ' ', comment = '#')\n",
    "colvar = colvar.iloc[::10, 1:]  # I read this out WAY too often on accident, so just skip every 1000 for now\n",
    "\n",
    "colvar.columns = ['time (ps)', 'rmsd', 'restraint.bias', 'restraint.force2', 'restraint.rmsd_cntr',\\\n",
    "         'restraint.rmsd_work', 'restraint.rmsd_kappa', 'restraint.work']\n",
    "colvar = colvar.set_index('time (ps)')"
   ]
  },
  {
   "cell_type": "code",
   "execution_count": null,
   "id": "crude-carry",
   "metadata": {},
   "outputs": [],
   "source": []
  },
  {
   "cell_type": "code",
   "execution_count": null,
   "id": "exclusive-reward",
   "metadata": {},
   "outputs": [],
   "source": [
    "colvar.plot(subplots = True, figsize = (10,20), sharex = False, ylim = 0)\n",
    "plt.tight_layout()\n"
   ]
  },
  {
   "cell_type": "code",
   "execution_count": null,
   "id": "automatic-chart",
   "metadata": {},
   "outputs": [],
   "source": []
  },
  {
   "cell_type": "markdown",
   "id": "passive-wiring",
   "metadata": {
    "scrolled": false
   },
   "source": []
  },
  {
   "cell_type": "code",
   "execution_count": null,
   "id": "homeless-import",
   "metadata": {},
   "outputs": [],
   "source": []
  }
 ],
 "metadata": {
  "kernelspec": {
   "display_name": "Python 3",
   "language": "python",
   "name": "python3"
  },
  "language_info": {
   "codemirror_mode": {
    "name": "ipython",
    "version": 3
   },
   "file_extension": ".py",
   "mimetype": "text/x-python",
   "name": "python",
   "nbconvert_exporter": "python",
   "pygments_lexer": "ipython3",
   "version": "3.8.8"
  }
 },
 "nbformat": 4,
 "nbformat_minor": 5
}
